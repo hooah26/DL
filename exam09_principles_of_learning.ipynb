{
  "nbformat": 4,
  "nbformat_minor": 0,
  "metadata": {
    "colab": {
      "name": "exam09_principles_of_learning.ipynb",
      "provenance": []
    },
    "kernelspec": {
      "name": "python3",
      "display_name": "Python 3"
    },
    "language_info": {
      "name": "python"
    }
  },
  "cells": [
    {
      "cell_type": "code",
      "source": [
        "import numpy as np\n",
        "import matplotlib.pyplot as plt"
      ],
      "metadata": {
        "id": "l7iuIpDmo5Gw"
      },
      "execution_count": 58,
      "outputs": []
    },
    {
      "cell_type": "code",
      "execution_count": 8,
      "metadata": {
        "id": "yPo52RAqMdWA"
      },
      "outputs": [],
      "source": [
        "class add_graph:\n",
        "  def __init__(self):\n",
        "    pass\n",
        "  def forward(self, x, y):\n",
        "    out = x + y\n",
        "    return out\n",
        "  def backward(self, dout):\n",
        "    dx = 1 * dout # x +y 를 미분 =>1\n",
        "    dy = 1 * dout\n",
        "    return dx, dy"
      ]
    },
    {
      "cell_type": "code",
      "source": [
        "class mul_graph:\n",
        "  def __init__(self):\n",
        "    self.x = None\n",
        "    self.y = None\n",
        "  def forward(self, x, y):\n",
        "    self.x = x # 지역변수로 남기지 않고 나중에도 x,y 를 쓰기 위래 self변수에 저장\n",
        "    self.y = y\n",
        "    out = x * y\n",
        "    return out\n",
        "  def backward(self, dout):\n",
        "    dx = self.y * dout\n",
        "    dy = self.x * dout\n",
        "    return dx, dy"
      ],
      "metadata": {
        "id": "Rsb3cKFQPoiZ"
      },
      "execution_count": 9,
      "outputs": []
    },
    {
      "cell_type": "code",
      "source": [
        "class mse_graph:\n",
        "  def __init__(self):\n",
        "    self.loss= None\n",
        "    self.y = None  #예측값\n",
        "    self.t = None     #정답\n",
        "    self.x  = None #입력값\n",
        "  def forward(self, y, t):\n",
        "    self.t= t\n",
        "    self.y= y\n",
        "    self.loss = np.square(self.t - self.y).sum()/ self.t.shape[0]   #에러제곱의 평균. 개수로 나눈거니까\n",
        "    return self.loss\n",
        "  def backward(self, x, dout=1):   #미분할거임\n",
        "    data_size= self.t.shape[0]\n",
        "    dweight_mse = ((self.y - self.t)*x).sum()*2/ data_size      #mse를 가중치에 대해 미분\n",
        "    dbias_mse=   (self.y - self.t).sum()*2/ data_size           #mse를 bias에 대해 미분\n",
        "    return dweight_mse, dbias_mse"
      ],
      "metadata": {
        "id": "VOLM0iR9a_qM"
      },
      "execution_count": 40,
      "outputs": []
    },
    {
      "cell_type": "code",
      "source": [
        "apple = 100\n",
        "apple_num = 2\n",
        "orange = 150\n",
        "orange_num = 3\n",
        "tax = 1.1"
      ],
      "metadata": {
        "id": "jdZkP4KbQFFp"
      },
      "execution_count": 11,
      "outputs": []
    },
    {
      "cell_type": "code",
      "source": [
        "mul_apple_graph = mul_graph()\n",
        "mul_orange_graph = mul_graph()\n",
        "add_apple_orange_graph = add_graph()\n",
        "mul_tax_graph = mul_graph()"
      ],
      "metadata": {
        "id": "7xLqeoG3QZl4"
      },
      "execution_count": 12,
      "outputs": []
    },
    {
      "cell_type": "code",
      "source": [
        "apple_price = mul_apple_graph.forward(apple, apple_num)\n",
        "orange_price = mul_orange_graph.forward(orange, orange_num)\n",
        "all_price = add_apple_orange_graph.forward(apple_price, orange_price)\n",
        "total_price = mul_tax_graph.forward(all_price, tax)\n",
        "print(total_price)"
      ],
      "metadata": {
        "colab": {
          "base_uri": "https://localhost:8080/"
        },
        "id": "7QEQfrRHQylV",
        "outputId": "b89b2571-16de-4c9e-b0bd-aea363560c05"
      },
      "execution_count": 13,
      "outputs": [
        {
          "output_type": "stream",
          "name": "stdout",
          "text": [
            "715.0000000000001\n"
          ]
        }
      ]
    },
    {
      "cell_type": "code",
      "source": [
        "dprice = 1 # 맨 끝단에 줄 미분값이 없기 때문에 1을 부여\n",
        "dall_price, dtax = mul_tax_graph.backward(dprice)\n",
        "dapple_price, dorange_price = add_apple_orange_graph.backward(dall_price)\n",
        "dorange, dorange_num = mul_orange_graph.backward(dorange_price)\n",
        "dapple, dapple_num = mul_apple_graph.backward(dapple_price)\n",
        "print('dApple', dapple) # apple이 1 증가할 때 2.2 증가\n",
        "print('dApple_num', dapple_num) # dapple_num 1 증가할 때 110 증가\n",
        "print('dOrange', dorange)# dorange 1 증가할 때 3.3 증가\n",
        "print('dOrange_num', dorange_num) # dorange_num 1 증가할 때 165 증가  => 각각의 노들을의 값이 결과값에 끼치는 영향의 크기"
      ],
      "metadata": {
        "colab": {
          "base_uri": "https://localhost:8080/"
        },
        "id": "wyWHA9QsRfzA",
        "outputId": "d1d6510e-2af6-46aa-cd14-f3c2f6f33346"
      },
      "execution_count": 14,
      "outputs": [
        {
          "output_type": "stream",
          "name": "stdout",
          "text": [
            "dApple 2.2\n",
            "dApple_num 110.00000000000001\n",
            "dOrange 3.3000000000000003\n",
            "dOrange_num 165.0\n"
          ]
        }
      ]
    },
    {
      "cell_type": "code",
      "source": [
        "def celsius_to_fahrenheit(x):\n",
        "  return x * 1.8 +32 "
      ],
      "metadata": {
        "id": "wF7mpfmwiUCQ"
      },
      "execution_count": 15,
      "outputs": []
    },
    {
      "cell_type": "code",
      "source": [
        "data_C = np.array(range(100)) # scaling 하는 이유 미분값이 너무 클 경우 발산할 가능성이 있기에\n",
        "data_F = celsius_to_fahrenheit(data_C)\n",
        "scaled_data_C = data_C / 100\n",
        "scaled_data_F = data_F / 100\n",
        "print(scaled_data_C)\n",
        "print(scaled_data_F)"
      ],
      "metadata": {
        "colab": {
          "base_uri": "https://localhost:8080/"
        },
        "id": "EMh8GHwmpCD1",
        "outputId": "365665ac-7031-44e9-b53d-8449fefcb60f"
      },
      "execution_count": 20,
      "outputs": [
        {
          "output_type": "stream",
          "name": "stdout",
          "text": [
            "[0.   0.01 0.02 0.03 0.04 0.05 0.06 0.07 0.08 0.09 0.1  0.11 0.12 0.13\n",
            " 0.14 0.15 0.16 0.17 0.18 0.19 0.2  0.21 0.22 0.23 0.24 0.25 0.26 0.27\n",
            " 0.28 0.29 0.3  0.31 0.32 0.33 0.34 0.35 0.36 0.37 0.38 0.39 0.4  0.41\n",
            " 0.42 0.43 0.44 0.45 0.46 0.47 0.48 0.49 0.5  0.51 0.52 0.53 0.54 0.55\n",
            " 0.56 0.57 0.58 0.59 0.6  0.61 0.62 0.63 0.64 0.65 0.66 0.67 0.68 0.69\n",
            " 0.7  0.71 0.72 0.73 0.74 0.75 0.76 0.77 0.78 0.79 0.8  0.81 0.82 0.83\n",
            " 0.84 0.85 0.86 0.87 0.88 0.89 0.9  0.91 0.92 0.93 0.94 0.95 0.96 0.97\n",
            " 0.98 0.99]\n",
            "[0.32  0.338 0.356 0.374 0.392 0.41  0.428 0.446 0.464 0.482 0.5   0.518\n",
            " 0.536 0.554 0.572 0.59  0.608 0.626 0.644 0.662 0.68  0.698 0.716 0.734\n",
            " 0.752 0.77  0.788 0.806 0.824 0.842 0.86  0.878 0.896 0.914 0.932 0.95\n",
            " 0.968 0.986 1.004 1.022 1.04  1.058 1.076 1.094 1.112 1.13  1.148 1.166\n",
            " 1.184 1.202 1.22  1.238 1.256 1.274 1.292 1.31  1.328 1.346 1.364 1.382\n",
            " 1.4   1.418 1.436 1.454 1.472 1.49  1.508 1.526 1.544 1.562 1.58  1.598\n",
            " 1.616 1.634 1.652 1.67  1.688 1.706 1.724 1.742 1.76  1.778 1.796 1.814\n",
            " 1.832 1.85  1.868 1.886 1.904 1.922 1.94  1.958 1.976 1.994 2.012 2.03\n",
            " 2.048 2.066 2.084 2.102]\n"
          ]
        }
      ]
    },
    {
      "cell_type": "code",
      "source": [
        "weight = np.random.uniform(0, 5, 1) # 0 ~ 5 사이 값 1개\n",
        "print(weight)\n",
        "bias = 0"
      ],
      "metadata": {
        "colab": {
          "base_uri": "https://localhost:8080/"
        },
        "id": "AKzlko_Ip1IJ",
        "outputId": "47498670-74be-4eaa-9ebc-462e294ddc9d"
      },
      "execution_count": 41,
      "outputs": [
        {
          "output_type": "stream",
          "name": "stdout",
          "text": [
            "[4.73859544]\n"
          ]
        }
      ]
    },
    {
      "cell_type": "code",
      "source": [
        "weight_graph = mul_graph() # 곱셈그래프 1개\n",
        "bias_graph = add_graph() # 덧셈그래프 1개"
      ],
      "metadata": {
        "id": "PoLGNtFgqFc_"
      },
      "execution_count": 42,
      "outputs": []
    },
    {
      "cell_type": "code",
      "source": [
        "weighted_data = weight_graph.forward(weight, scaled_data_C)  #섭씨 온도 scaled_data_C(100개)\n",
        "predict_data = bias_graph.forward(weighted_data, bias)\n",
        "# print(weighted_data)\n",
        "print(predict_data)"
      ],
      "metadata": {
        "colab": {
          "base_uri": "https://localhost:8080/"
        },
        "id": "CXmbRPemq13O",
        "outputId": "a4642875-7933-40ed-df03-3ac9a5433af3"
      },
      "execution_count": 52,
      "outputs": [
        {
          "output_type": "stream",
          "name": "stdout",
          "text": [
            "[0.         0.04738595 0.09477191 0.14215786 0.18954382 0.23692977\n",
            " 0.28431573 0.33170168 0.37908764 0.42647359 0.47385954 0.5212455\n",
            " 0.56863145 0.61601741 0.66340336 0.71078932 0.75817527 0.80556123\n",
            " 0.85294718 0.90033313 0.94771909 0.99510504 1.042491   1.08987695\n",
            " 1.13726291 1.18464886 1.23203482 1.27942077 1.32680672 1.37419268\n",
            " 1.42157863 1.46896459 1.51635054 1.5637365  1.61112245 1.65850841\n",
            " 1.70589436 1.75328031 1.80066627 1.84805222 1.89543818 1.94282413\n",
            " 1.99021009 2.03759604 2.08498199 2.13236795 2.1797539  2.22713986\n",
            " 2.27452581 2.32191177 2.36929772 2.41668368 2.46406963 2.51145558\n",
            " 2.55884154 2.60622749 2.65361345 2.7009994  2.74838536 2.79577131\n",
            " 2.84315727 2.89054322 2.93792917 2.98531513 3.03270108 3.08008704\n",
            " 3.12747299 3.17485895 3.2222449  3.26963086 3.31701681 3.36440276\n",
            " 3.41178872 3.45917467 3.50656063 3.55394658 3.60133254 3.64871849\n",
            " 3.69610445 3.7434904  3.79087635 3.83826231 3.88564826 3.93303422\n",
            " 3.98042017 4.02780613 4.07519208 4.12257804 4.16996399 4.21734994\n",
            " 4.2647359  4.31212185 4.35950781 4.40689376 4.45427972 4.50166567\n",
            " 4.54905163 4.59643758 4.64382353 4.69120949]\n"
          ]
        }
      ]
    },
    {
      "cell_type": "code",
      "source": [
        "dout = 1\n",
        "dbias, dbiased_data = bias_graph.backward(dout)\n",
        "dweight, dscaled_data_C = weight_graph.backward(dbiased_data)\n",
        "print(dbias)\n",
        "print(dweight)"
      ],
      "metadata": {
        "colab": {
          "base_uri": "https://localhost:8080/"
        },
        "id": "e1B5HRctrPn8",
        "outputId": "4b186d26-6fb7-4d4a-d688-e8ca4baf8976"
      },
      "execution_count": 44,
      "outputs": [
        {
          "output_type": "stream",
          "name": "stdout",
          "text": [
            "1\n",
            "[0.   0.01 0.02 0.03 0.04 0.05 0.06 0.07 0.08 0.09 0.1  0.11 0.12 0.13\n",
            " 0.14 0.15 0.16 0.17 0.18 0.19 0.2  0.21 0.22 0.23 0.24 0.25 0.26 0.27\n",
            " 0.28 0.29 0.3  0.31 0.32 0.33 0.34 0.35 0.36 0.37 0.38 0.39 0.4  0.41\n",
            " 0.42 0.43 0.44 0.45 0.46 0.47 0.48 0.49 0.5  0.51 0.52 0.53 0.54 0.55\n",
            " 0.56 0.57 0.58 0.59 0.6  0.61 0.62 0.63 0.64 0.65 0.66 0.67 0.68 0.69\n",
            " 0.7  0.71 0.72 0.73 0.74 0.75 0.76 0.77 0.78 0.79 0.8  0.81 0.82 0.83\n",
            " 0.84 0.85 0.86 0.87 0.88 0.89 0.9  0.91 0.92 0.93 0.94 0.95 0.96 0.97\n",
            " 0.98 0.99]\n"
          ]
        }
      ]
    },
    {
      "cell_type": "code",
      "source": [
        "mseGraph = mse_graph()\n",
        "mse = mseGraph.forward(predict_data, scaled_data_F)\n",
        "print(mse)"
      ],
      "metadata": {
        "colab": {
          "base_uri": "https://localhost:8080/"
        },
        "id": "LoNGQdI1ruZE",
        "outputId": "8754677e-c4a9-4590-9f5e-ebfc83cb33e9"
      },
      "execution_count": 45,
      "outputs": [
        {
          "output_type": "stream",
          "name": "stdout",
          "text": [
            "2.0068678962157436\n"
          ]
        }
      ]
    },
    {
      "cell_type": "code",
      "source": [
        "weight_mse_gradient, bias_mse_gradient = mseGraph.backward(scaled_data_C)\n",
        "print(weight_mse_gradient)\n",
        "print(bias_mse_gradient)\n",
        "  #mse의 weight에 대한 미분값. gradient는 기울기임"
      ],
      "metadata": {
        "colab": {
          "base_uri": "https://localhost:8080/"
        },
        "id": "W0AqdzRhsOfG",
        "outputId": "d4308cf4-d63c-4bde-c5ca-11efee40c3ad"
      },
      "execution_count": 46,
      "outputs": [
        {
          "output_type": "stream",
          "name": "stdout",
          "text": [
            "1.6129756274940295\n",
            "2.2692094886844663\n"
          ]
        }
      ]
    },
    {
      "cell_type": "code",
      "source": [
        "learning_rate = 0.1\n",
        "learning_weight = weight - learning_rate * weight_mse_gradient * np.average(dweight)\n",
        "print(learning_weight)\n",
        "print(weight)"
      ],
      "metadata": {
        "id": "hWmpJ2oAslDF"
      },
      "execution_count": 48,
      "outputs": []
    },
    {
      "cell_type": "code",
      "source": [
        "learned_bias = bias - learning_rate * bias_mse_gradient * dbias\n",
        "print(learned_bias)\n",
        "print(bias)"
      ],
      "metadata": {
        "colab": {
          "base_uri": "https://localhost:8080/"
        },
        "id": "SnosiXU2s97U",
        "outputId": "db002d93-768e-4214-ca01-1378148ec542"
      },
      "execution_count": 50,
      "outputs": [
        {
          "output_type": "stream",
          "name": "stdout",
          "text": [
            "-0.22692094886844663\n",
            "0\n"
          ]
        }
      ]
    },
    {
      "cell_type": "code",
      "source": [
        "weight = np.random.uniform(0, 5, 1) # 0 ~ 5 사이 값 1개\n",
        "bias = 0\n",
        "dout = 1\n",
        "learning_rate = 0.1\n",
        "error_list = []\n",
        "for i in range(1000):\n",
        "  #forward\n",
        "  weighted_data = weight_graph.forward(weight, scaled_data_C)  \n",
        "  predict_data = bias_graph.forward(weighted_data, bias)\n",
        "  #backward\n",
        "  dout = 1\n",
        "  dbias, dbiased_data = bias_graph.backward(dout)\n",
        "  dweight, dscaled_data_C = weight_graph.backward(dbiased_data)\n",
        "  #mse\n",
        "  mse = mseGraph.forward(predict_data, scaled_data_F)\n",
        "  error_list.append(mse)\n",
        "  weight_mse_gradient, bias_mse_gradient = mseGraph.backward(scaled_data_C)\n",
        "  #learning -> wight bias 수정\n",
        "  weight = weight - learning_rate * weight_mse_gradient * np.average(dweight) # 원래값 - learning_rate *평균제곱오차의 미분값 * 원래값의 미분값\n",
        "  bias = bias - learning_rate * bias_mse_gradient * dbias\n",
        "print(weight)\n",
        "print(bias)"
      ],
      "metadata": {
        "colab": {
          "base_uri": "https://localhost:8080/"
        },
        "id": "-Tv5Pqf7uMO0",
        "outputId": "cf5c2593-8542-4b33-94f2-92206dca81cd"
      },
      "execution_count": 63,
      "outputs": [
        {
          "output_type": "stream",
          "name": "stdout",
          "text": [
            "[1.79993894]\n",
            "0.32003137214543215\n"
          ]
        }
      ]
    },
    {
      "cell_type": "code",
      "source": [
        "print(error_list[-1])"
      ],
      "metadata": {
        "colab": {
          "base_uri": "https://localhost:8080/"
        },
        "id": "AKNFXdfLyo9E",
        "outputId": "70e38dda-f16b-4b3f-ffa5-c09719681472"
      },
      "execution_count": 64,
      "outputs": [
        {
          "output_type": "stream",
          "name": "stdout",
          "text": [
            "3.165675565918916e-10\n"
          ]
        }
      ]
    },
    {
      "cell_type": "code",
      "source": [
        "plt.plot(error_list)\n",
        "plt.show()"
      ],
      "metadata": {
        "colab": {
          "base_uri": "https://localhost:8080/",
          "height": 265
        },
        "id": "Gb0imn2P2R-7",
        "outputId": "1295a3e9-8f52-4cda-a418-c78d141b1537"
      },
      "execution_count": 65,
      "outputs": [
        {
          "output_type": "display_data",
          "data": {
            "text/plain": [
              "<Figure size 432x288 with 1 Axes>"
            ],
            "image/png": "[encoded data removed]"
          },
          "metadata": {
            "needs_background": "light"
          }
        }
      ]
    },
    {
      "cell_type": "code",
      "source": [
        ""
      ],
      "metadata": {
        "id": "2TgxKrGw2gPX"
      },
      "execution_count": null,
      "outputs": []
    }
  ]
}