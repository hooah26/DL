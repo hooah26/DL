{
  "nbformat": 4,
  "nbformat_minor": 0,
  "metadata": {
    "colab": {
      "name": "esam12_titanic.ipynb",
      "provenance": []
    },
    "kernelspec": {
      "name": "python3",
      "display_name": "Python 3"
    },
    "language_info": {
      "name": "python"
    }
  },
  "cells": [
    {
      "cell_type": "code",
      "execution_count": 1,
      "metadata": {
        "id": "jZ7DwHNzoHra"
      },
      "outputs": [],
      "source": [
        "import numpy as np\n",
        "from tensorflow.keras.models import Sequential\n",
        "from tensorflow.keras.layers import Dense, Dropout\n",
        "import matplotlib.pyplot as plt\n",
        "import pandas as pd\n",
        "import seaborn as sns"
      ]
    },
    {
      "cell_type": "code",
      "source": [
        "raw_data = sns.load_dataset('titanic')\n",
        "print(raw_data)"
      ],
      "metadata": {
        "colab": {
          "base_uri": "https://localhost:8080/"
        },
        "id": "On-NH5ygopQp",
        "outputId": "c5559e38-3569-4d68-d840-8ce4cabc5adf"
      },
      "execution_count": 2,
      "outputs": [
        {
          "output_type": "stream",
          "name": "stdout",
          "text": [
            "     survived  pclass     sex   age  sibsp  parch     fare embarked   class  \\\n",
            "0           0       3    male  22.0      1      0   7.2500        S   Third   \n",
            "1           1       1  female  38.0      1      0  71.2833        C   First   \n",
            "2           1       3  female  26.0      0      0   7.9250        S   Third   \n",
            "3           1       1  female  35.0      1      0  53.1000        S   First   \n",
            "4           0       3    male  35.0      0      0   8.0500        S   Third   \n",
            "..        ...     ...     ...   ...    ...    ...      ...      ...     ...   \n",
            "886         0       2    male  27.0      0      0  13.0000        S  Second   \n",
            "887         1       1  female  19.0      0      0  30.0000        S   First   \n",
            "888         0       3  female   NaN      1      2  23.4500        S   Third   \n",
            "889         1       1    male  26.0      0      0  30.0000        C   First   \n",
            "890         0       3    male  32.0      0      0   7.7500        Q   Third   \n",
            "\n",
            "       who  adult_male deck  embark_town alive  alone  \n",
            "0      man        True  NaN  Southampton    no  False  \n",
            "1    woman       False    C    Cherbourg   yes  False  \n",
            "2    woman       False  NaN  Southampton   yes   True  \n",
            "3    woman       False    C  Southampton   yes  False  \n",
            "4      man        True  NaN  Southampton    no   True  \n",
            "..     ...         ...  ...          ...   ...    ...  \n",
            "886    man        True  NaN  Southampton    no   True  \n",
            "887  woman       False    B  Southampton   yes   True  \n",
            "888  woman       False  NaN  Southampton    no  False  \n",
            "889    man        True    C    Cherbourg   yes   True  \n",
            "890    man        True  NaN   Queenstown    no   True  \n",
            "\n",
            "[891 rows x 15 columns]\n"
          ]
        }
      ]
    },
    {
      "cell_type": "code",
      "source": [
        "print(raw_data.isnull().sum())"
      ],
      "metadata": {
        "colab": {
          "base_uri": "https://localhost:8080/"
        },
        "id": "0G4gwRjPo_zh",
        "outputId": "fa6b857f-52a0-4358-c3f4-17b4d46d8556"
      },
      "execution_count": 4,
      "outputs": [
        {
          "output_type": "stream",
          "name": "stdout",
          "text": [
            "survived         0\n",
            "pclass           0\n",
            "sex              0\n",
            "age            177\n",
            "sibsp            0\n",
            "parch            0\n",
            "fare             0\n",
            "embarked         2\n",
            "class            0\n",
            "who              0\n",
            "adult_male       0\n",
            "deck           688\n",
            "embark_town      2\n",
            "alive            0\n",
            "alone            0\n",
            "dtype: int64\n"
          ]
        }
      ]
    },
    {
      "cell_type": "code",
      "source": [
        "clean_data = raw_data.dropna(axis = 1, thresh = 500)\n",
        "print(clean_data)"
      ],
      "metadata": {
        "colab": {
          "base_uri": "https://localhost:8080/"
        },
        "id": "-GxhBNvZpIJZ",
        "outputId": "e61b5687-ace2-4f98-dccb-f5f434422e4c"
      },
      "execution_count": 5,
      "outputs": [
        {
          "output_type": "stream",
          "name": "stdout",
          "text": [
            "     survived  pclass     sex   age  sibsp  parch     fare embarked   class  \\\n",
            "0           0       3    male  22.0      1      0   7.2500        S   Third   \n",
            "1           1       1  female  38.0      1      0  71.2833        C   First   \n",
            "2           1       3  female  26.0      0      0   7.9250        S   Third   \n",
            "3           1       1  female  35.0      1      0  53.1000        S   First   \n",
            "4           0       3    male  35.0      0      0   8.0500        S   Third   \n",
            "..        ...     ...     ...   ...    ...    ...      ...      ...     ...   \n",
            "886         0       2    male  27.0      0      0  13.0000        S  Second   \n",
            "887         1       1  female  19.0      0      0  30.0000        S   First   \n",
            "888         0       3  female   NaN      1      2  23.4500        S   Third   \n",
            "889         1       1    male  26.0      0      0  30.0000        C   First   \n",
            "890         0       3    male  32.0      0      0   7.7500        Q   Third   \n",
            "\n",
            "       who  adult_male  embark_town alive  alone  \n",
            "0      man        True  Southampton    no  False  \n",
            "1    woman       False    Cherbourg   yes  False  \n",
            "2    woman       False  Southampton   yes   True  \n",
            "3    woman       False  Southampton   yes  False  \n",
            "4      man        True  Southampton    no   True  \n",
            "..     ...         ...          ...   ...    ...  \n",
            "886    man        True  Southampton    no   True  \n",
            "887  woman       False  Southampton   yes   True  \n",
            "888  woman       False  Southampton    no  False  \n",
            "889    man        True    Cherbourg   yes   True  \n",
            "890    man        True   Queenstown    no   True  \n",
            "\n",
            "[891 rows x 14 columns]\n"
          ]
        }
      ]
    },
    {
      "cell_type": "code",
      "source": [
        "mean_age = clean_data['age'].mean()\n",
        "print(mean_age)"
      ],
      "metadata": {
        "colab": {
          "base_uri": "https://localhost:8080/"
        },
        "id": "X9YvAZq_pdiw",
        "outputId": "3362b931-9461-4b7a-92fe-8c4c90d425ac"
      },
      "execution_count": 7,
      "outputs": [
        {
          "output_type": "stream",
          "name": "stdout",
          "text": [
            "29.69911764705882\n"
          ]
        }
      ]
    },
    {
      "cell_type": "code",
      "source": [
        "clean_data['age'].fillna(mean_age, inplace = True)\n",
        "print(clean_data.head())"
      ],
      "metadata": {
        "colab": {
          "base_uri": "https://localhost:8080/"
        },
        "id": "cnGOE0z5po8g",
        "outputId": "776c6cf4-126e-4eb9-d27d-be999eda9606"
      },
      "execution_count": 8,
      "outputs": [
        {
          "output_type": "stream",
          "name": "stdout",
          "text": [
            "   survived  pclass     sex   age  sibsp  parch     fare embarked  class  \\\n",
            "0         0       3    male  22.0      1      0   7.2500        S  Third   \n",
            "1         1       1  female  38.0      1      0  71.2833        C  First   \n",
            "2         1       3  female  26.0      0      0   7.9250        S  Third   \n",
            "3         1       1  female  35.0      1      0  53.1000        S  First   \n",
            "4         0       3    male  35.0      0      0   8.0500        S  Third   \n",
            "\n",
            "     who  adult_male  embark_town alive  alone  \n",
            "0    man        True  Southampton    no  False  \n",
            "1  woman       False    Cherbourg   yes  False  \n",
            "2  woman       False  Southampton   yes   True  \n",
            "3  woman       False  Southampton   yes  False  \n",
            "4    man        True  Southampton    no   True  \n"
          ]
        },
        {
          "output_type": "stream",
          "name": "stderr",
          "text": [
            "/usr/local/lib/python3.7/dist-packages/pandas/core/generic.py:6392: SettingWithCopyWarning: \n",
            "A value is trying to be set on a copy of a slice from a DataFrame\n",
            "\n",
            "See the caveats in the documentation: https://pandas.pydata.org/pandas-docs/stable/user_guide/indexing.html#returning-a-view-versus-a-copy\n",
            "  return self._update_inplace(result)\n"
          ]
        }
      ]
    },
    {
      "cell_type": "code",
      "source": [
        "clean_data.drop(['embark_town', 'alive'], axis = 1, inplace=True)"
      ],
      "metadata": {
        "colab": {
          "base_uri": "https://localhost:8080/"
        },
        "id": "6tFDCMBmp5Ug",
        "outputId": "979b1975-5613-48b4-e42b-eb6f3dc087d2"
      },
      "execution_count": 9,
      "outputs": [
        {
          "output_type": "stream",
          "name": "stderr",
          "text": [
            "/usr/local/lib/python3.7/dist-packages/pandas/core/frame.py:4913: SettingWithCopyWarning: \n",
            "A value is trying to be set on a copy of a slice from a DataFrame\n",
            "\n",
            "See the caveats in the documentation: https://pandas.pydata.org/pandas-docs/stable/user_guide/indexing.html#returning-a-view-versus-a-copy\n",
            "  errors=errors,\n"
          ]
        }
      ]
    },
    {
      "cell_type": "code",
      "source": [
        "print(clean_data)"
      ],
      "metadata": {
        "colab": {
          "base_uri": "https://localhost:8080/"
        },
        "id": "0OpCVFJBqQ7_",
        "outputId": "70016ff2-aa80-4ea5-8b13-edfa33524541"
      },
      "execution_count": 10,
      "outputs": [
        {
          "output_type": "stream",
          "name": "stdout",
          "text": [
            "     survived  pclass     sex        age  sibsp  parch     fare embarked  \\\n",
            "0           0       3    male  22.000000      1      0   7.2500        S   \n",
            "1           1       1  female  38.000000      1      0  71.2833        C   \n",
            "2           1       3  female  26.000000      0      0   7.9250        S   \n",
            "3           1       1  female  35.000000      1      0  53.1000        S   \n",
            "4           0       3    male  35.000000      0      0   8.0500        S   \n",
            "..        ...     ...     ...        ...    ...    ...      ...      ...   \n",
            "886         0       2    male  27.000000      0      0  13.0000        S   \n",
            "887         1       1  female  19.000000      0      0  30.0000        S   \n",
            "888         0       3  female  29.699118      1      2  23.4500        S   \n",
            "889         1       1    male  26.000000      0      0  30.0000        C   \n",
            "890         0       3    male  32.000000      0      0   7.7500        Q   \n",
            "\n",
            "      class    who  adult_male  alone  \n",
            "0     Third    man        True  False  \n",
            "1     First  woman       False  False  \n",
            "2     Third  woman       False   True  \n",
            "3     First  woman       False  False  \n",
            "4     Third    man        True   True  \n",
            "..      ...    ...         ...    ...  \n",
            "886  Second    man        True   True  \n",
            "887   First  woman       False   True  \n",
            "888   Third  woman       False  False  \n",
            "889   First    man        True   True  \n",
            "890   Third    man        True   True  \n",
            "\n",
            "[891 rows x 12 columns]\n"
          ]
        }
      ]
    },
    {
      "cell_type": "code",
      "source": [
        "clean_data['embarked'].fillna(method = 'ffill', inplace = True)\n",
        "print(clean_data.isnull().sum())"
      ],
      "metadata": {
        "colab": {
          "base_uri": "https://localhost:8080/"
        },
        "id": "O9Z0cUyHqUXu",
        "outputId": "7becedc4-fff8-4488-dd1f-edf9a89eb5db"
      },
      "execution_count": 11,
      "outputs": [
        {
          "output_type": "stream",
          "name": "stdout",
          "text": [
            "survived      0\n",
            "pclass        0\n",
            "sex           0\n",
            "age           0\n",
            "sibsp         0\n",
            "parch         0\n",
            "fare          0\n",
            "embarked      0\n",
            "class         0\n",
            "who           0\n",
            "adult_male    0\n",
            "alone         0\n",
            "dtype: int64\n"
          ]
        },
        {
          "output_type": "stream",
          "name": "stderr",
          "text": [
            "/usr/local/lib/python3.7/dist-packages/pandas/core/generic.py:6392: SettingWithCopyWarning: \n",
            "A value is trying to be set on a copy of a slice from a DataFrame\n",
            "\n",
            "See the caveats in the documentation: https://pandas.pydata.org/pandas-docs/stable/user_guide/indexing.html#returning-a-view-versus-a-copy\n",
            "  return self._update_inplace(result)\n"
          ]
        }
      ]
    },
    {
      "cell_type": "code",
      "source": [
        "label = list(clean_data.columns)\n",
        "keep = label.pop(0)\n",
        "target =  clean_data[[keep]]\n",
        "training_data = clean_data[label]\n",
        "print(training_data.head())\n",
        "print(target.head())"
      ],
      "metadata": {
        "colab": {
          "base_uri": "https://localhost:8080/"
        },
        "id": "Tnnhk5sLqp6g",
        "outputId": "f378ecf6-5eb8-49af-ba7e-e13b1b95f250"
      },
      "execution_count": 14,
      "outputs": [
        {
          "output_type": "stream",
          "name": "stdout",
          "text": [
            "   pclass     sex   age  sibsp  parch     fare embarked  class    who  \\\n",
            "0       3    male  22.0      1      0   7.2500        S  Third    man   \n",
            "1       1  female  38.0      1      0  71.2833        C  First  woman   \n",
            "2       3  female  26.0      0      0   7.9250        S  Third  woman   \n",
            "3       1  female  35.0      1      0  53.1000        S  First  woman   \n",
            "4       3    male  35.0      0      0   8.0500        S  Third    man   \n",
            "\n",
            "   adult_male  alone  \n",
            "0        True  False  \n",
            "1       False  False  \n",
            "2       False   True  \n",
            "3       False  False  \n",
            "4        True   True  \n",
            "   survived\n",
            "0         0\n",
            "1         1\n",
            "2         1\n",
            "3         1\n",
            "4         0\n"
          ]
        }
      ]
    },
    {
      "cell_type": "code",
      "source": [
        "value_data = training_data[['age', 'fare']]\n",
        "print(value_data.head())"
      ],
      "metadata": {
        "colab": {
          "base_uri": "https://localhost:8080/"
        },
        "id": "xyx8bL-oq9p3",
        "outputId": "a800b81d-4cbe-4054-b099-1bba30839261"
      },
      "execution_count": 16,
      "outputs": [
        {
          "output_type": "stream",
          "name": "stdout",
          "text": [
            "    age     fare\n",
            "0  22.0   7.2500\n",
            "1  38.0  71.2833\n",
            "2  26.0   7.9250\n",
            "3  35.0  53.1000\n",
            "4  35.0   8.0500\n"
          ]
        }
      ]
    },
    {
      "cell_type": "code",
      "source": [
        "from sklearn.preprocessing import StandardScaler\n",
        "scaler = StandardScaler()\n",
        "scaled_data = scaler.fit_transform(value_data) # 표준화 평균 0 표준편차 1\n",
        "value_data = pd.DataFrame(scaled_data, columns = value_data.columns)\n",
        "print(value_data.describe())"
      ],
      "metadata": {
        "colab": {
          "base_uri": "https://localhost:8080/"
        },
        "id": "2sOYzUxir5mf",
        "outputId": "91b325bf-2c66-4023-9ef1-30feea5a7588"
      },
      "execution_count": 18,
      "outputs": [
        {
          "output_type": "stream",
          "name": "stdout",
          "text": [
            "                age          fare\n",
            "count  8.910000e+02  8.910000e+02\n",
            "mean   1.379991e-17 -4.373606e-17\n",
            "std    1.000562e+00  1.000562e+00\n",
            "min   -2.253155e+00 -6.484217e-01\n",
            "25%   -5.924806e-01 -4.891482e-01\n",
            "50%   -2.232906e-16 -3.573909e-01\n",
            "75%    4.079260e-01 -2.424635e-02\n",
            "max    3.870872e+00  9.667167e+00\n"
          ]
        }
      ]
    },
    {
      "cell_type": "markdown",
      "source": [
        "\n",
        "onehot_data = pd.get_dummies(training_data, columns = training_data.columns)\n",
        "print(onehot_data)"
      ],
      "metadata": {
        "id": "TSo7YKpUsY2I"
      }
    },
    {
      "cell_type": "code",
      "source": [
        "onehot_data= pd.get_dummies(training_data, columns= training_data.columns)   #디폴트로는 int타입은 안해주니까 columns에 전체 컬럼 넣는다고 대입함.\n",
        "print(onehot_data.head())"
      ],
      "metadata": {
        "colab": {
          "base_uri": "https://localhost:8080/"
        },
        "id": "pyWp_8uKxudo",
        "outputId": "f58ac775-4ce8-4535-e30d-e81913a1e807"
      },
      "execution_count": 21,
      "outputs": [
        {
          "output_type": "stream",
          "name": "stdout",
          "text": [
            "   pclass_1  pclass_2  pclass_3  sex_female  sex_male  sibsp_0  sibsp_1  \\\n",
            "0         0         0         1           0         1        0        1   \n",
            "1         1         0         0           1         0        0        1   \n",
            "2         0         0         1           1         0        1        0   \n",
            "3         1         0         0           1         0        0        1   \n",
            "4         0         0         1           0         1        1        0   \n",
            "\n",
            "   sibsp_2  sibsp_3  sibsp_4  ...  class_First  class_Second  class_Third  \\\n",
            "0        0        0        0  ...            0             0            1   \n",
            "1        0        0        0  ...            1             0            0   \n",
            "2        0        0        0  ...            0             0            1   \n",
            "3        0        0        0  ...            1             0            0   \n",
            "4        0        0        0  ...            0             0            1   \n",
            "\n",
            "   who_child  who_man  who_woman  adult_male_False  adult_male_True  \\\n",
            "0          0        1          0                 0                1   \n",
            "1          0        0          1                 1                0   \n",
            "2          0        0          1                 1                0   \n",
            "3          0        0          1                 1                0   \n",
            "4          0        1          0                 0                1   \n",
            "\n",
            "   alone_False  alone_True  \n",
            "0            1           0  \n",
            "1            1           0  \n",
            "2            0           1  \n",
            "3            1           0  \n",
            "4            0           1  \n",
            "\n",
            "[5 rows x 32 columns]\n"
          ]
        }
      ]
    },
    {
      "cell_type": "code",
      "source": [
        "traning_data = pd.concat((onehot_data, value_data), axis = 1)\n",
        "print(traning_data.info())"
      ],
      "metadata": {
        "colab": {
          "base_uri": "https://localhost:8080/"
        },
        "id": "EzG5jmJLupvy",
        "outputId": "c029cb4f-a7e8-4fe5-c595-b1a7c17653e3"
      },
      "execution_count": 23,
      "outputs": [
        {
          "output_type": "stream",
          "name": "stdout",
          "text": [
            "<class 'pandas.core.frame.DataFrame'>\n",
            "RangeIndex: 891 entries, 0 to 890\n",
            "Data columns (total 34 columns):\n",
            " #   Column            Non-Null Count  Dtype  \n",
            "---  ------            --------------  -----  \n",
            " 0   pclass_1          891 non-null    uint8  \n",
            " 1   pclass_2          891 non-null    uint8  \n",
            " 2   pclass_3          891 non-null    uint8  \n",
            " 3   sex_female        891 non-null    uint8  \n",
            " 4   sex_male          891 non-null    uint8  \n",
            " 5   sibsp_0           891 non-null    uint8  \n",
            " 6   sibsp_1           891 non-null    uint8  \n",
            " 7   sibsp_2           891 non-null    uint8  \n",
            " 8   sibsp_3           891 non-null    uint8  \n",
            " 9   sibsp_4           891 non-null    uint8  \n",
            " 10  sibsp_5           891 non-null    uint8  \n",
            " 11  sibsp_8           891 non-null    uint8  \n",
            " 12  parch_0           891 non-null    uint8  \n",
            " 13  parch_1           891 non-null    uint8  \n",
            " 14  parch_2           891 non-null    uint8  \n",
            " 15  parch_3           891 non-null    uint8  \n",
            " 16  parch_4           891 non-null    uint8  \n",
            " 17  parch_5           891 non-null    uint8  \n",
            " 18  parch_6           891 non-null    uint8  \n",
            " 19  embarked_C        891 non-null    uint8  \n",
            " 20  embarked_Q        891 non-null    uint8  \n",
            " 21  embarked_S        891 non-null    uint8  \n",
            " 22  class_First       891 non-null    uint8  \n",
            " 23  class_Second      891 non-null    uint8  \n",
            " 24  class_Third       891 non-null    uint8  \n",
            " 25  who_child         891 non-null    uint8  \n",
            " 26  who_man           891 non-null    uint8  \n",
            " 27  who_woman         891 non-null    uint8  \n",
            " 28  adult_male_False  891 non-null    uint8  \n",
            " 29  adult_male_True   891 non-null    uint8  \n",
            " 30  alone_False       891 non-null    uint8  \n",
            " 31  alone_True        891 non-null    uint8  \n",
            " 32  age               891 non-null    float64\n",
            " 33  fare              891 non-null    float64\n",
            "dtypes: float64(2), uint8(32)\n",
            "memory usage: 41.9 KB\n",
            "None\n"
          ]
        }
      ]
    },
    {
      "cell_type": "code",
      "source": [
        "from sklearn.model_selection import train_test_split\n",
        "X_train, X_test, Y_train, Y_test = train_test_split(\n",
        "    traning_data, target, test_size = 0.2)\n",
        "print(X_train.shape, Y_train.shape)\n",
        "print(X_test.shape, Y_test.shape)"
      ],
      "metadata": {
        "colab": {
          "base_uri": "https://localhost:8080/"
        },
        "id": "hyDl6IR5yLRn",
        "outputId": "1adde13d-d03a-4261-b00e-9eddf249f83d"
      },
      "execution_count": 25,
      "outputs": [
        {
          "output_type": "stream",
          "name": "stdout",
          "text": [
            "(712, 34) (712, 1)\n",
            "(179, 34) (179, 1)\n"
          ]
        }
      ]
    },
    {
      "cell_type": "code",
      "source": [
        "from tensorflow.keras.models import Sequential\n",
        "from tensorflow.keras.layers import Dense, Dropout\n",
        "model = Sequential()\n",
        "model.add(Dense(128, input_dim = 34, activation = 'relu'))\n",
        "model.add(Dropout(0.02))\n",
        "model.add(Dense(256, activation = 'relu'))\n",
        "model.add(Dropout(0.02))\n",
        "model.add(Dense(512, activation = 'relu'))\n",
        "model.add(Dropout(0.02))\n",
        "model.add(Dense(128, activation = 'relu'))\n",
        "model.add(Dropout(0.02))\n",
        "model.add(Dense(64, activation = 'relu'))\n",
        "model.add(Dropout(0.02))\n",
        "model.add(Dense(32, activation = 'relu'))\n",
        "model.add(Dropout(0.02))\n",
        "model.add(Dense(1, activation = 'sigmoid'))\n",
        "model.summary()"
      ],
      "metadata": {
        "colab": {
          "base_uri": "https://localhost:8080/"
        },
        "id": "kSQ1fhpHzAWn",
        "outputId": "83f5699a-9fa5-47e4-a3b9-e7011f68314e"
      },
      "execution_count": 27,
      "outputs": [
        {
          "output_type": "stream",
          "name": "stdout",
          "text": [
            "Model: \"sequential_1\"\n",
            "_________________________________________________________________\n",
            " Layer (type)                Output Shape              Param #   \n",
            "=================================================================\n",
            " dense_7 (Dense)             (None, 128)               4480      \n",
            "                                                                 \n",
            " dropout_6 (Dropout)         (None, 128)               0         \n",
            "                                                                 \n",
            " dense_8 (Dense)             (None, 256)               33024     \n",
            "                                                                 \n",
            " dropout_7 (Dropout)         (None, 256)               0         \n",
            "                                                                 \n",
            " dense_9 (Dense)             (None, 512)               131584    \n",
            "                                                                 \n",
            " dropout_8 (Dropout)         (None, 512)               0         \n",
            "                                                                 \n",
            " dense_10 (Dense)            (None, 128)               65664     \n",
            "                                                                 \n",
            " dropout_9 (Dropout)         (None, 128)               0         \n",
            "                                                                 \n",
            " dense_11 (Dense)            (None, 64)                8256      \n",
            "                                                                 \n",
            " dropout_10 (Dropout)        (None, 64)                0         \n",
            "                                                                 \n",
            " dense_12 (Dense)            (None, 32)                2080      \n",
            "                                                                 \n",
            " dropout_11 (Dropout)        (None, 32)                0         \n",
            "                                                                 \n",
            " dense_13 (Dense)            (None, 1)                 33        \n",
            "                                                                 \n",
            "=================================================================\n",
            "Total params: 245,121\n",
            "Trainable params: 245,121\n",
            "Non-trainable params: 0\n",
            "_________________________________________________________________\n"
          ]
        }
      ]
    },
    {
      "cell_type": "code",
      "source": [
        "model.compile(loss='mse', optimizer = 'adam',\n",
        "              metrics=['binary_accuracy'])\n",
        "fit_hist = model.fit(\n",
        "    X_train, Y_train, batch_size=50, epochs=30,\n",
        "    validation_split=0.2, verbose=1\n",
        ")"
      ],
      "metadata": {
        "colab": {
          "base_uri": "https://localhost:8080/"
        },
        "id": "F6ARWz-832rm",
        "outputId": "bf48b9b9-0edf-41d1-c7ae-194c3de374b5"
      },
      "execution_count": 30,
      "outputs": [
        {
          "output_type": "stream",
          "name": "stdout",
          "text": [
            "Epoch 1/30\n",
            "12/12 [==============================] - 3s 57ms/step - loss: 0.2040 - binary_accuracy: 0.6749 - val_loss: 0.1872 - val_binary_accuracy: 0.7343\n",
            "Epoch 2/30\n",
            "12/12 [==============================] - 0s 21ms/step - loss: 0.1512 - binary_accuracy: 0.7926 - val_loss: 0.1649 - val_binary_accuracy: 0.7832\n",
            "Epoch 3/30\n",
            "12/12 [==============================] - 0s 20ms/step - loss: 0.1325 - binary_accuracy: 0.8207 - val_loss: 0.1645 - val_binary_accuracy: 0.7552\n",
            "Epoch 4/30\n",
            "12/12 [==============================] - 0s 19ms/step - loss: 0.1336 - binary_accuracy: 0.8172 - val_loss: 0.1584 - val_binary_accuracy: 0.7902\n",
            "Epoch 5/30\n",
            "12/12 [==============================] - 0s 19ms/step - loss: 0.1241 - binary_accuracy: 0.8436 - val_loss: 0.1594 - val_binary_accuracy: 0.7832\n",
            "Epoch 6/30\n",
            "12/12 [==============================] - 0s 22ms/step - loss: 0.1244 - binary_accuracy: 0.8278 - val_loss: 0.1641 - val_binary_accuracy: 0.7622\n",
            "Epoch 7/30\n",
            "12/12 [==============================] - 0s 23ms/step - loss: 0.1254 - binary_accuracy: 0.8418 - val_loss: 0.1619 - val_binary_accuracy: 0.7692\n",
            "Epoch 8/30\n",
            "12/12 [==============================] - 0s 19ms/step - loss: 0.1205 - binary_accuracy: 0.8453 - val_loss: 0.1633 - val_binary_accuracy: 0.7552\n",
            "Epoch 9/30\n",
            "12/12 [==============================] - 0s 22ms/step - loss: 0.1172 - binary_accuracy: 0.8471 - val_loss: 0.1659 - val_binary_accuracy: 0.7832\n",
            "Epoch 10/30\n",
            "12/12 [==============================] - 0s 20ms/step - loss: 0.1200 - binary_accuracy: 0.8453 - val_loss: 0.1652 - val_binary_accuracy: 0.7413\n",
            "Epoch 11/30\n",
            "12/12 [==============================] - 0s 21ms/step - loss: 0.1174 - binary_accuracy: 0.8489 - val_loss: 0.1733 - val_binary_accuracy: 0.7622\n",
            "Epoch 12/30\n",
            "12/12 [==============================] - 0s 18ms/step - loss: 0.1137 - binary_accuracy: 0.8541 - val_loss: 0.1614 - val_binary_accuracy: 0.7622\n",
            "Epoch 13/30\n",
            "12/12 [==============================] - 0s 25ms/step - loss: 0.1140 - binary_accuracy: 0.8506 - val_loss: 0.1653 - val_binary_accuracy: 0.7762\n",
            "Epoch 14/30\n",
            "12/12 [==============================] - 0s 25ms/step - loss: 0.1106 - binary_accuracy: 0.8524 - val_loss: 0.1650 - val_binary_accuracy: 0.7622\n",
            "Epoch 15/30\n",
            "12/12 [==============================] - 0s 25ms/step - loss: 0.1094 - binary_accuracy: 0.8559 - val_loss: 0.1655 - val_binary_accuracy: 0.7622\n",
            "Epoch 16/30\n",
            "12/12 [==============================] - 0s 30ms/step - loss: 0.1119 - binary_accuracy: 0.8541 - val_loss: 0.1688 - val_binary_accuracy: 0.7902\n",
            "Epoch 17/30\n",
            "12/12 [==============================] - 0s 22ms/step - loss: 0.1131 - binary_accuracy: 0.8489 - val_loss: 0.1730 - val_binary_accuracy: 0.7622\n",
            "Epoch 18/30\n",
            "12/12 [==============================] - 0s 28ms/step - loss: 0.1101 - binary_accuracy: 0.8594 - val_loss: 0.1714 - val_binary_accuracy: 0.7762\n",
            "Epoch 19/30\n",
            "12/12 [==============================] - 0s 21ms/step - loss: 0.1057 - binary_accuracy: 0.8612 - val_loss: 0.1715 - val_binary_accuracy: 0.7832\n",
            "Epoch 20/30\n",
            "12/12 [==============================] - 0s 17ms/step - loss: 0.1040 - binary_accuracy: 0.8664 - val_loss: 0.1669 - val_binary_accuracy: 0.7832\n",
            "Epoch 21/30\n",
            "12/12 [==============================] - 0s 22ms/step - loss: 0.1043 - binary_accuracy: 0.8647 - val_loss: 0.1767 - val_binary_accuracy: 0.7762\n",
            "Epoch 22/30\n",
            "12/12 [==============================] - 0s 25ms/step - loss: 0.1031 - binary_accuracy: 0.8629 - val_loss: 0.1734 - val_binary_accuracy: 0.7692\n",
            "Epoch 23/30\n",
            "12/12 [==============================] - 0s 19ms/step - loss: 0.0977 - binary_accuracy: 0.8682 - val_loss: 0.1746 - val_binary_accuracy: 0.7762\n",
            "Epoch 24/30\n",
            "12/12 [==============================] - 0s 26ms/step - loss: 0.1010 - binary_accuracy: 0.8717 - val_loss: 0.1776 - val_binary_accuracy: 0.7762\n",
            "Epoch 25/30\n",
            "12/12 [==============================] - 0s 20ms/step - loss: 0.1017 - binary_accuracy: 0.8594 - val_loss: 0.1805 - val_binary_accuracy: 0.7552\n",
            "Epoch 26/30\n",
            "12/12 [==============================] - 0s 23ms/step - loss: 0.1072 - binary_accuracy: 0.8594 - val_loss: 0.1687 - val_binary_accuracy: 0.7832\n",
            "Epoch 27/30\n",
            "12/12 [==============================] - 0s 22ms/step - loss: 0.1094 - binary_accuracy: 0.8612 - val_loss: 0.1723 - val_binary_accuracy: 0.7902\n",
            "Epoch 28/30\n",
            "12/12 [==============================] - 0s 24ms/step - loss: 0.1066 - binary_accuracy: 0.8594 - val_loss: 0.1661 - val_binary_accuracy: 0.7972\n",
            "Epoch 29/30\n",
            "12/12 [==============================] - 0s 27ms/step - loss: 0.0980 - binary_accuracy: 0.8699 - val_loss: 0.1716 - val_binary_accuracy: 0.7902\n",
            "Epoch 30/30\n",
            "12/12 [==============================] - 0s 28ms/step - loss: 0.0977 - binary_accuracy: 0.8699 - val_loss: 0.1767 - val_binary_accuracy: 0.7832\n"
          ]
        }
      ]
    },
    {
      "cell_type": "code",
      "source": [
        "plt.plot(fit_hist.history['binary_accuracy'])\n",
        "plt.plot(fit_hist.history['val_binary_accuracy'])"
      ],
      "metadata": {
        "id": "JN8UumbZ4s0-",
        "outputId": "c88a375a-43ee-466b-8dea-6fb68fbd9a8e",
        "colab": {
          "base_uri": "https://localhost:8080/",
          "height": 283
        }
      },
      "execution_count": 31,
      "outputs": [
        {
          "output_type": "execute_result",
          "data": {
            "text/plain": [
              "[<matplotlib.lines.Line2D at 0x7f7e3954a390>]"
            ]
          },
          "metadata": {},
          "execution_count": 31
        },
        {
          "output_type": "display_data",
          "data": {
            "text/plain": [
              "<Figure size 432x288 with 1 Axes>"
            ],
            "image/png": "[encoded data removed]"
          },
          "metadata": {
            "needs_background": "light"
          }
        }
      ]
    },
    {
      "cell_type": "code",
      "source": [
        "score = model.evaluate(X_test, Y_test, verbose=0)\n",
        "print('loss :', score[0])\n",
        "print('accuracy :', score[1])"
      ],
      "metadata": {
        "id": "gpi552ir5ZC2",
        "outputId": "610f45c4-07c5-4790-8b86-f2335059dc7e",
        "colab": {
          "base_uri": "https://localhost:8080/"
        }
      },
      "execution_count": 32,
      "outputs": [
        {
          "output_type": "stream",
          "name": "stdout",
          "text": [
            "loss : 0.10743052512407303\n",
            "accuracy : 0.8435754179954529\n"
          ]
        }
      ]
    },
    {
      "cell_type": "code",
      "source": [
        ""
      ],
      "metadata": {
        "id": "RjtIYDD2558d"
      },
      "execution_count": null,
      "outputs": []
    }
  ]
}