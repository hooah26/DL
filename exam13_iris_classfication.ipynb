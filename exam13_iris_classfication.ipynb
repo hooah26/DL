{
  "nbformat": 4,
  "nbformat_minor": 0,
  "metadata": {
    "colab": {
      "name": "exam13_iris_classfication.ipynb",
      "provenance": []
    },
    "kernelspec": {
      "name": "python3",
      "display_name": "Python 3"
    },
    "language_info": {
      "name": "python"
    }
  },
  "cells": [
    {
      "cell_type": "code",
      "execution_count": 20,
      "metadata": {
        "id": "6jcKshjp-NV9"
      },
      "outputs": [],
      "source": [
        "from tensorflow.keras.models import Sequential\n",
        "from tensorflow.keras.layers import Dense, Dropout\n",
        "import numpy as np\n",
        "import matplotlib.pyplot as plt\n",
        "import pandas as pd\n",
        "import seaborn as sns\n",
        "from sklearn.preprocessing import StandardScaler\n",
        "from sklearn.model_selection import train_test_split\n",
        "from sklearn.datasets import load_iris\n",
        "from sklearn.preprocessing import OneHotEncoder\n",
        "from tensorflow.keras.optimizers import Adam"
      ]
    },
    {
      "cell_type": "code",
      "source": [
        "iris = load_iris() # dict 형식으로 된 자료 \n",
        "print(type(iris))\n",
        "print('Data :', iris.data.shape)\n",
        "print('Label :', iris.target.shape)\n",
        "print('feature name :', iris.feature_names)\n",
        "print('target :', iris.target_names)\n",
        "print('iris dataset keys\\n', iris.keys())"
      ],
      "metadata": {
        "colab": {
          "base_uri": "https://localhost:8080/"
        },
        "id": "8kH1-2-r_Ajj",
        "outputId": "a1505cfb-4c09-404e-d123-5fc479d42dd5"
      },
      "execution_count": 21,
      "outputs": [
        {
          "output_type": "stream",
          "name": "stdout",
          "text": [
            "<class 'sklearn.utils.Bunch'>\n",
            "Data : (150, 4)\n",
            "Label : (150,)\n",
            "feature name : ['sepal length (cm)', 'sepal width (cm)', 'petal length (cm)', 'petal width (cm)']\n",
            "target : ['setosa' 'versicolor' 'virginica']\n",
            "iris dataset keys\n",
            " dict_keys(['data', 'target', 'frame', 'target_names', 'DESCR', 'feature_names', 'filename', 'data_module'])\n"
          ]
        }
      ]
    },
    {
      "cell_type": "code",
      "source": [
        "x = iris.data\n",
        "y = iris.target"
      ],
      "metadata": {
        "id": "tTzEphrj_2Wn"
      },
      "execution_count": 22,
      "outputs": []
    },
    {
      "cell_type": "code",
      "source": [
        "# class 가 2개라고 2진 분류기가 아니다. ex) 개 or 고양이 사진 분류는 2진 분류기가 아니라 다중분류기"
      ],
      "metadata": {
        "id": "ycz4tHIwF44Q"
      },
      "execution_count": 23,
      "outputs": []
    },
    {
      "cell_type": "code",
      "source": [
        "encoder = OneHotEncoder(sparse = False) #sparse = False 원래 값이 출력된다\n",
        "y = y.reshape(-1,1) # 1개씩 묶을 수 있는대로 묶어라\n",
        "encoded_y = encoder.fit_transform(y)\n",
        "print(encoded_y.shape)\n",
        "print(encoded_y[50:55])"
      ],
      "metadata": {
        "colab": {
          "base_uri": "https://localhost:8080/"
        },
        "id": "2ZNxCoHiGMH6",
        "outputId": "15bf3d52-fe2c-4f3a-ad6d-a5cefc2b39bd"
      },
      "execution_count": 24,
      "outputs": [
        {
          "output_type": "stream",
          "name": "stdout",
          "text": [
            "(150, 3)\n",
            "[[0. 1. 0.]\n",
            " [0. 1. 0.]\n",
            " [0. 1. 0.]\n",
            " [0. 1. 0.]\n",
            " [0. 1. 0.]]\n"
          ]
        }
      ]
    },
    {
      "cell_type": "code",
      "source": [
        "X_train, X_test, Y_train, Y_test = train_test_split(\n",
        "    x, encoded_y, test_size= 0.2)\n",
        "print(X_train.shape, Y_train.shape)\n",
        "print(X_test.shape, Y_test.shape)"
      ],
      "metadata": {
        "colab": {
          "base_uri": "https://localhost:8080/"
        },
        "id": "gWhGu1jHNJ3n",
        "outputId": "df74f03d-fe69-465b-b649-d0b989ca21b6"
      },
      "execution_count": 37,
      "outputs": [
        {
          "output_type": "stream",
          "name": "stdout",
          "text": [
            "(120, 4) (120, 3)\n",
            "(30, 4) (30, 3)\n"
          ]
        }
      ]
    },
    {
      "cell_type": "code",
      "source": [
        "model = Sequential()\n",
        "model.add(Dense(256, input_dim=4, activation='relu'))   #feature name 4개였지 data shape도 그렇고\n",
        "model.add(Dense(128, activation='relu'))\n",
        "model.add(Dense(512, activation='relu'))\n",
        "model.add(Dense(3, activation='softmax'))   #3개의 값을 확률값으로 바꿔줌. 즉 출력의 3가지 경우의 확률 합하면 1이됨."
      ],
      "metadata": {
        "id": "SMAU42_6HMwT"
      },
      "execution_count": 38,
      "outputs": []
    },
    {
      "cell_type": "code",
      "source": [
        "opt = Adam(lr = 0.1) # learning rate를 설정해 주는 것(step 사이즈 제한) adam은 알아서 값을 잡는다, 그래도 값을 주고 싶으면 지정 가능\n",
        "model.compile(opt, loss = 'categorical_crossentropy', # 다중일 때는 categorical_crossentropy\n",
        "              metrics = ['accuracy'])\n",
        "model.summary()"
      ],
      "metadata": {
        "colab": {
          "base_uri": "https://localhost:8080/"
        },
        "id": "ZvduFxARLRqa",
        "outputId": "6b7c3329-aa0e-4193-c164-028cc431fde9"
      },
      "execution_count": 39,
      "outputs": [
        {
          "output_type": "stream",
          "name": "stdout",
          "text": [
            "Model: \"sequential_3\"\n",
            "_________________________________________________________________\n",
            " Layer (type)                Output Shape              Param #   \n",
            "=================================================================\n",
            " dense_12 (Dense)            (None, 256)               1280      \n",
            "                                                                 \n",
            " dense_13 (Dense)            (None, 128)               32896     \n",
            "                                                                 \n",
            " dense_14 (Dense)            (None, 512)               66048     \n",
            "                                                                 \n",
            " dense_15 (Dense)            (None, 3)                 1539      \n",
            "                                                                 \n",
            "=================================================================\n",
            "Total params: 101,763\n",
            "Trainable params: 101,763\n",
            "Non-trainable params: 0\n",
            "_________________________________________________________________\n"
          ]
        },
        {
          "output_type": "stream",
          "name": "stderr",
          "text": [
            "/usr/local/lib/python3.7/dist-packages/keras/optimizer_v2/adam.py:105: UserWarning: The `lr` argument is deprecated, use `learning_rate` instead.\n",
            "  super(Adam, self).__init__(name, **kwargs)\n"
          ]
        }
      ]
    },
    {
      "cell_type": "code",
      "source": [
        "fit_hist = model.fit(X_train, Y_train, batch_size = 5,\n",
        "                     epochs = 20, verbose = 1)"
      ],
      "metadata": {
        "colab": {
          "base_uri": "https://localhost:8080/"
        },
        "id": "q98QDJ2rM_-x",
        "outputId": "02c1a0d1-346b-4706-f3e9-767b45cea644"
      },
      "execution_count": 40,
      "outputs": [
        {
          "output_type": "stream",
          "name": "stdout",
          "text": [
            "Epoch 1/20\n",
            "24/24 [==============================] - 0s 3ms/step - loss: 22.9189 - accuracy: 0.4083\n",
            "Epoch 2/20\n",
            "24/24 [==============================] - 0s 2ms/step - loss: 0.5160 - accuracy: 0.7500\n",
            "Epoch 3/20\n",
            "24/24 [==============================] - 0s 3ms/step - loss: 0.4318 - accuracy: 0.8167\n",
            "Epoch 4/20\n",
            "24/24 [==============================] - 0s 2ms/step - loss: 0.4925 - accuracy: 0.6833\n",
            "Epoch 5/20\n",
            "24/24 [==============================] - 0s 2ms/step - loss: 0.4870 - accuracy: 0.7417\n",
            "Epoch 6/20\n",
            "24/24 [==============================] - 0s 3ms/step - loss: 0.4290 - accuracy: 0.8083\n",
            "Epoch 7/20\n",
            "24/24 [==============================] - 0s 2ms/step - loss: 0.3579 - accuracy: 0.9167\n",
            "Epoch 8/20\n",
            "24/24 [==============================] - 0s 3ms/step - loss: 0.6484 - accuracy: 0.7083\n",
            "Epoch 9/20\n",
            "24/24 [==============================] - 0s 3ms/step - loss: 0.4520 - accuracy: 0.6833\n",
            "Epoch 10/20\n",
            "24/24 [==============================] - 0s 3ms/step - loss: 0.3173 - accuracy: 0.8417\n",
            "Epoch 11/20\n",
            "24/24 [==============================] - 0s 2ms/step - loss: 0.4220 - accuracy: 0.8833\n",
            "Epoch 12/20\n",
            "24/24 [==============================] - 0s 3ms/step - loss: 0.6463 - accuracy: 0.6583\n",
            "Epoch 13/20\n",
            "24/24 [==============================] - 0s 3ms/step - loss: 0.5237 - accuracy: 0.5500\n",
            "Epoch 14/20\n",
            "24/24 [==============================] - 0s 2ms/step - loss: 0.4761 - accuracy: 0.6750\n",
            "Epoch 15/20\n",
            "24/24 [==============================] - 0s 2ms/step - loss: 0.4656 - accuracy: 0.6833\n",
            "Epoch 16/20\n",
            "24/24 [==============================] - 0s 3ms/step - loss: 0.4966 - accuracy: 0.6417\n",
            "Epoch 17/20\n",
            "24/24 [==============================] - 0s 3ms/step - loss: 0.4758 - accuracy: 0.6333\n",
            "Epoch 18/20\n",
            "24/24 [==============================] - 0s 3ms/step - loss: 0.4752 - accuracy: 0.6167\n",
            "Epoch 19/20\n",
            "24/24 [==============================] - 0s 2ms/step - loss: 0.4817 - accuracy: 0.6750\n",
            "Epoch 20/20\n",
            "24/24 [==============================] - 0s 2ms/step - loss: 0.4702 - accuracy: 0.6417\n"
          ]
        }
      ]
    },
    {
      "cell_type": "code",
      "source": [
        "score = model.evaluate(X_test, Y_test, verbose = 0)\n",
        "print('Final test set accuracy',score[1])"
      ],
      "metadata": {
        "colab": {
          "base_uri": "https://localhost:8080/"
        },
        "id": "6OcWTEG2N1ki",
        "outputId": "23694408-68b6-4a58-acd6-0974ce3f1221"
      },
      "execution_count": 41,
      "outputs": [
        {
          "output_type": "stream",
          "name": "stdout",
          "text": [
            "Final test set accuracy 0.6333333253860474\n"
          ]
        }
      ]
    },
    {
      "cell_type": "code",
      "source": [
        "plt.plot(fit_hist.history['accuracy'])\n",
        "plt.show()"
      ],
      "metadata": {
        "colab": {
          "base_uri": "https://localhost:8080/",
          "height": 265
        },
        "id": "jCPUuJB3OL5a",
        "outputId": "efebf7da-57c4-4ad9-c34c-694aa95ee713"
      },
      "execution_count": 42,
      "outputs": [
        {
          "output_type": "display_data",
          "data": {
            "text/plain": [
              "<Figure size 432x288 with 1 Axes>"
            ],
            "image/png": "[encoded data removed]"
          },
          "metadata": {
            "needs_background": "light"
          }
        }
      ]
    },
    {
      "cell_type": "code",
      "source": [
        "my_sample = np.random.randint(30) # 0~ 29 까지 같은 확률로\n",
        "sample = X_test[my_sample] #X_test에서 random 하게 하나 뽑은 것\n",
        "print(sample)"
      ],
      "metadata": {
        "colab": {
          "base_uri": "https://localhost:8080/"
        },
        "id": "fziZPp5VOg0j",
        "outputId": "7c80ab08-6c4e-4067-99de-ee47a8a0bd7d"
      },
      "execution_count": 43,
      "outputs": [
        {
          "output_type": "stream",
          "name": "stdout",
          "text": [
            "[6.2 2.9 4.3 1.3]\n"
          ]
        }
      ]
    },
    {
      "cell_type": "code",
      "source": [
        "sample = sample.reshape(-1, 4) # 4개의 자료를 한 번 더 묶어서 \n",
        "print(sample)"
      ],
      "metadata": {
        "colab": {
          "base_uri": "https://localhost:8080/"
        },
        "id": "B2fu37xKRBrT",
        "outputId": "01950988-e9d8-47b7-dc03-2b9599d0d500"
      },
      "execution_count": 45,
      "outputs": [
        {
          "output_type": "stream",
          "name": "stdout",
          "text": [
            "[[6.2 2.9 4.3 1.3]]\n"
          ]
        }
      ]
    },
    {
      "cell_type": "code",
      "source": [
        "pred  = model.predict(sample)\n",
        "print('pred is :',pred) # 확률 값 3개를 합치면 1, ex) 0.51391697 의 확률로 중간의 것\n",
        "print('actual is :', Y_test[my_sample])\n",
        "print('Target :', iris.target_names[np.argmax(Y_test[my_sample])]) # argmax=> Y_test[my_sample]안의 값 중 가장 큰 값 return\n",
        "print('Prediction after learning is :', iris.target_names[np.argmax(pred)]) # pred 의 가장 큰 값 return"
      ],
      "metadata": {
        "colab": {
          "base_uri": "https://localhost:8080/"
        },
        "id": "2sSo1el_RTub",
        "outputId": "44b49911-de42-4d03-d329-98082c706565"
      },
      "execution_count": 48,
      "outputs": [
        {
          "output_type": "stream",
          "name": "stdout",
          "text": [
            "pred is : [[0.00248376 0.51391697 0.48359922]]\n",
            "actual is : [0. 1. 0.]\n",
            "Target : versicolor\n",
            "Prediction after learning is : versicolor\n"
          ]
        }
      ]
    },
    {
      "cell_type": "code",
      "source": [
        ""
      ],
      "metadata": {
        "id": "lgPJOtq0RsIZ"
      },
      "execution_count": null,
      "outputs": []
    }
  ]
}