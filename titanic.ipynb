{
  "nbformat": 4,
  "nbformat_minor": 0,
  "metadata": {
    "colab": {
      "name": "titanic.ipynb",
      "provenance": []
    },
    "kernelspec": {
      "name": "python3",
      "display_name": "Python 3"
    },
    "language_info": {
      "name": "python"
    }
  },
  "cells": [
    {
      "cell_type": "code",
      "execution_count": null,
      "metadata": {
        "id": "2KjiE0u0PQYa"
      },
      "outputs": [],
      "source": [
        "import numpy as np\n",
        "from tensorflow.keras.models import Sequential\n",
        "from tensorflow.keras.layers import Dense, Dropout\n",
        "import matplotlib.pyplot as plt\n",
        "import pandas as pd\n",
        "import seaborn as sns\n"
      ]
    },
    {
      "cell_type": "code",
      "source": [
        "raw_data = sns.load_dataset('titanic')\n",
        "print(raw_data)"
      ],
      "metadata": {
        "colab": {
          "base_uri": "https://localhost:8080/"
        },
        "id": "vzYBLUBHPSIP",
        "outputId": "a8c8b07d-1d11-4bc0-8169-2ef961c41618"
      },
      "execution_count": null,
      "outputs": [
        {
          "output_type": "stream",
          "name": "stdout",
          "text": [
            "     survived  pclass     sex   age  sibsp  parch     fare embarked   class  \\\n",
            "0           0       3    male  22.0      1      0   7.2500        S   Third   \n",
            "1           1       1  female  38.0      1      0  71.2833        C   First   \n",
            "2           1       3  female  26.0      0      0   7.9250        S   Third   \n",
            "3           1       1  female  35.0      1      0  53.1000        S   First   \n",
            "4           0       3    male  35.0      0      0   8.0500        S   Third   \n",
            "..        ...     ...     ...   ...    ...    ...      ...      ...     ...   \n",
            "886         0       2    male  27.0      0      0  13.0000        S  Second   \n",
            "887         1       1  female  19.0      0      0  30.0000        S   First   \n",
            "888         0       3  female   NaN      1      2  23.4500        S   Third   \n",
            "889         1       1    male  26.0      0      0  30.0000        C   First   \n",
            "890         0       3    male  32.0      0      0   7.7500        Q   Third   \n",
            "\n",
            "       who  adult_male deck  embark_town alive  alone  \n",
            "0      man        True  NaN  Southampton    no  False  \n",
            "1    woman       False    C    Cherbourg   yes  False  \n",
            "2    woman       False  NaN  Southampton   yes   True  \n",
            "3    woman       False    C  Southampton   yes  False  \n",
            "4      man        True  NaN  Southampton    no   True  \n",
            "..     ...         ...  ...          ...   ...    ...  \n",
            "886    man        True  NaN  Southampton    no   True  \n",
            "887  woman       False    B  Southampton   yes   True  \n",
            "888  woman       False  NaN  Southampton    no  False  \n",
            "889    man        True    C    Cherbourg   yes   True  \n",
            "890    man        True  NaN   Queenstown    no   True  \n",
            "\n",
            "[891 rows x 15 columns]\n"
          ]
        }
      ]
    },
    {
      "cell_type": "code",
      "source": [
        "print(raw_data.isnull().sum())  #age랑 deck가 문제임"
      ],
      "metadata": {
        "colab": {
          "base_uri": "https://localhost:8080/"
        },
        "id": "HDe1jWTQPVIO",
        "outputId": "cf37a785-9607-4261-d102-4e5c20d31f6a"
      },
      "execution_count": null,
      "outputs": [
        {
          "output_type": "stream",
          "name": "stdout",
          "text": [
            "survived         0\n",
            "pclass           0\n",
            "sex              0\n",
            "age            177\n",
            "sibsp            0\n",
            "parch            0\n",
            "fare             0\n",
            "embarked         2\n",
            "class            0\n",
            "who              0\n",
            "adult_male       0\n",
            "deck           688\n",
            "embark_town      2\n",
            "alive            0\n",
            "alone            0\n",
            "dtype: int64\n"
          ]
        }
      ]
    },
    {
      "cell_type": "code",
      "source": [
        " #deck컬럼 삭제\n",
        " clean_data = raw_data.dropna(axis=1, thresh=500) #none값이500 개 이상인 컬럼삭제\n",
        " print(clean_data.columns)\n"
      ],
      "metadata": {
        "colab": {
          "base_uri": "https://localhost:8080/"
        },
        "id": "B5A0WWnTPXJ0",
        "outputId": "bc8bb209-9e65-4873-f13f-c442b0ec2e64"
      },
      "execution_count": null,
      "outputs": [
        {
          "output_type": "stream",
          "name": "stdout",
          "text": [
            "Index(['survived', 'pclass', 'sex', 'age', 'sibsp', 'parch', 'fare',\n",
            "       'embarked', 'class', 'who', 'adult_male', 'embark_town', 'alive',\n",
            "       'alone'],\n",
            "      dtype='object')\n"
          ]
        }
      ]
    },
    {
      "cell_type": "code",
      "source": [
        "#age는 평균나이로 대체\n",
        "mean_age = clean_data['age'].mean()\n",
        "print(mean_age)"
      ],
      "metadata": {
        "colab": {
          "base_uri": "https://localhost:8080/"
        },
        "id": "BhYW0pHhPYMc",
        "outputId": "10db986e-dc8d-4ba9-b12b-f65db004cef1"
      },
      "execution_count": null,
      "outputs": [
        {
          "output_type": "stream",
          "name": "stdout",
          "text": [
            "29.69911764705882\n"
          ]
        }
      ]
    },
    {
      "cell_type": "code",
      "source": [
        "clean_data['age'].fillna(mean_age, inplace=True)\n",
        "print(clean_data.head())"
      ],
      "metadata": {
        "colab": {
          "base_uri": "https://localhost:8080/"
        },
        "id": "SK6QPoVJPZT9",
        "outputId": "389e8c30-1d8c-4515-8b4a-cdfdd780d082"
      },
      "execution_count": null,
      "outputs": [
        {
          "output_type": "stream",
          "name": "stdout",
          "text": [
            "   survived  pclass     sex   age  sibsp  parch     fare embarked  class  \\\n",
            "0         0       3    male  22.0      1      0   7.2500        S  Third   \n",
            "1         1       1  female  38.0      1      0  71.2833        C  First   \n",
            "2         1       3  female  26.0      0      0   7.9250        S  Third   \n",
            "3         1       1  female  35.0      1      0  53.1000        S  First   \n",
            "4         0       3    male  35.0      0      0   8.0500        S  Third   \n",
            "\n",
            "     who  adult_male  embark_town alive  alone  \n",
            "0    man        True  Southampton    no  False  \n",
            "1  woman       False    Cherbourg   yes  False  \n",
            "2  woman       False  Southampton   yes   True  \n",
            "3  woman       False  Southampton   yes  False  \n",
            "4    man        True  Southampton    no   True  \n"
          ]
        },
        {
          "output_type": "stream",
          "name": "stderr",
          "text": [
            "/usr/local/lib/python3.7/dist-packages/pandas/core/generic.py:6392: SettingWithCopyWarning: \n",
            "A value is trying to be set on a copy of a slice from a DataFrame\n",
            "\n",
            "See the caveats in the documentation: https://pandas.pydata.org/pandas-docs/stable/user_guide/indexing.html#returning-a-view-versus-a-copy\n",
            "  return self._update_inplace(result)\n"
          ]
        }
      ]
    },
    {
      "cell_type": "code",
      "source": [
        "#중복되는 컬럼 삭제\n",
        "clean_data.drop(['embark_town', 'alive','who'], axis=1, inplace=True)"
      ],
      "metadata": {
        "colab": {
          "base_uri": "https://localhost:8080/"
        },
        "id": "7n2ZI6TzPbbU",
        "outputId": "b1341eb4-4ee1-40bf-dd5f-3a51faa66513"
      },
      "execution_count": null,
      "outputs": [
        {
          "output_type": "stream",
          "name": "stderr",
          "text": [
            "/usr/local/lib/python3.7/dist-packages/pandas/core/frame.py:4913: SettingWithCopyWarning: \n",
            "A value is trying to be set on a copy of a slice from a DataFrame\n",
            "\n",
            "See the caveats in the documentation: https://pandas.pydata.org/pandas-docs/stable/user_guide/indexing.html#returning-a-view-versus-a-copy\n",
            "  errors=errors,\n"
          ]
        }
      ]
    },
    {
      "cell_type": "code",
      "source": [
        "clean_data.info()\n",
        "#embarked열에 값이 부족함"
      ],
      "metadata": {
        "colab": {
          "base_uri": "https://localhost:8080/"
        },
        "id": "aqAnaoWAPce8",
        "outputId": "44d87923-1981-4602-e446-8e88fc270c87"
      },
      "execution_count": null,
      "outputs": [
        {
          "output_type": "stream",
          "name": "stdout",
          "text": [
            "<class 'pandas.core.frame.DataFrame'>\n",
            "RangeIndex: 891 entries, 0 to 890\n",
            "Data columns (total 11 columns):\n",
            " #   Column      Non-Null Count  Dtype   \n",
            "---  ------      --------------  -----   \n",
            " 0   survived    891 non-null    int64   \n",
            " 1   pclass      891 non-null    int64   \n",
            " 2   sex         891 non-null    object  \n",
            " 3   age         891 non-null    float64 \n",
            " 4   sibsp       891 non-null    int64   \n",
            " 5   parch       891 non-null    int64   \n",
            " 6   fare        891 non-null    float64 \n",
            " 7   embarked    889 non-null    object  \n",
            " 8   class       891 non-null    category\n",
            " 9   adult_male  891 non-null    bool    \n",
            " 10  alone       891 non-null    bool    \n",
            "dtypes: bool(2), category(1), float64(2), int64(4), object(2)\n",
            "memory usage: 58.6+ KB\n"
          ]
        }
      ]
    },
    {
      "cell_type": "code",
      "source": [
        "#위에 값으로 채워주기\n",
        "clean_data['embarked'].fillna(\n",
        "    method='ffill',inplace=True)\n",
        "#다시 null값 보면 0개 확인\n",
        "print(clean_data.isnull().sum())"
      ],
      "metadata": {
        "colab": {
          "base_uri": "https://localhost:8080/"
        },
        "id": "m_fWa-g5PenM",
        "outputId": "12cc2bf2-93dd-4958-ab83-05bfa1a49a20"
      },
      "execution_count": null,
      "outputs": [
        {
          "output_type": "stream",
          "name": "stdout",
          "text": [
            "survived      0\n",
            "pclass        0\n",
            "sex           0\n",
            "age           0\n",
            "sibsp         0\n",
            "parch         0\n",
            "fare          0\n",
            "embarked      0\n",
            "class         0\n",
            "adult_male    0\n",
            "alone         0\n",
            "dtype: int64\n"
          ]
        },
        {
          "output_type": "stream",
          "name": "stderr",
          "text": [
            "/usr/local/lib/python3.7/dist-packages/pandas/core/generic.py:6392: SettingWithCopyWarning: \n",
            "A value is trying to be set on a copy of a slice from a DataFrame\n",
            "\n",
            "See the caveats in the documentation: https://pandas.pydata.org/pandas-docs/stable/user_guide/indexing.html#returning-a-view-versus-a-copy\n",
            "  return self._update_inplace(result)\n"
          ]
        }
      ]
    },
    {
      "cell_type": "code",
      "source": [
        "#target인 survived만 빼내기\n",
        "label=list(clean_data.columns)\n",
        "keep = label.pop(0)\n",
        "target = clean_data[[keep]]\n",
        "training_data = clean_data[label]\n",
        "print(training_data.head())\n",
        "print(target.head())"
      ],
      "metadata": {
        "colab": {
          "base_uri": "https://localhost:8080/"
        },
        "id": "3GQAn4nNPh3N",
        "outputId": "1c7531d8-58fe-44bd-c1ac-c3669ee1ed0e"
      },
      "execution_count": null,
      "outputs": [
        {
          "output_type": "stream",
          "name": "stdout",
          "text": [
            "   pclass     sex   age  sibsp  parch     fare embarked  class  adult_male  \\\n",
            "0       3    male  22.0      1      0   7.2500        S  Third        True   \n",
            "1       1  female  38.0      1      0  71.2833        C  First       False   \n",
            "2       3  female  26.0      0      0   7.9250        S  Third       False   \n",
            "3       1  female  35.0      1      0  53.1000        S  First       False   \n",
            "4       3    male  35.0      0      0   8.0500        S  Third        True   \n",
            "\n",
            "   alone  \n",
            "0  False  \n",
            "1  False  \n",
            "2   True  \n",
            "3  False  \n",
            "4   True  \n",
            "   survived\n",
            "0         0\n",
            "1         1\n",
            "2         1\n",
            "3         1\n",
            "4         0\n"
          ]
        }
      ]
    },
    {
      "cell_type": "code",
      "source": [
        "print(keep)\n",
        "print(label)"
      ],
      "metadata": {
        "colab": {
          "base_uri": "https://localhost:8080/"
        },
        "id": "rgFL9cpJQkwV",
        "outputId": "54180c32-5121-4c1b-e302-d6589c3a904a"
      },
      "execution_count": null,
      "outputs": [
        {
          "output_type": "stream",
          "name": "stdout",
          "text": [
            "survived\n",
            "['pclass', 'sex', 'age', 'sibsp', 'parch', 'fare', 'embarked', 'class', 'adult_male', 'alone']\n"
          ]
        }
      ]
    },
    {
      "cell_type": "code",
      "source": [
        "training_data = clean_data[label]\n",
        "target = clean_data[[keep]]\n",
        "\n",
        "print(training_data)\n",
        "print(target)"
      ],
      "metadata": {
        "colab": {
          "base_uri": "https://localhost:8080/"
        },
        "id": "6UAsTwVIQm99",
        "outputId": "7b2d961e-b204-40da-956d-3ab4cab8dc34"
      },
      "execution_count": null,
      "outputs": [
        {
          "output_type": "stream",
          "name": "stdout",
          "text": [
            "     pclass     sex        age  sibsp  parch     fare embarked   class  \\\n",
            "0         3    male  22.000000      1      0   7.2500        S   Third   \n",
            "1         1  female  38.000000      1      0  71.2833        C   First   \n",
            "2         3  female  26.000000      0      0   7.9250        S   Third   \n",
            "3         1  female  35.000000      1      0  53.1000        S   First   \n",
            "4         3    male  35.000000      0      0   8.0500        S   Third   \n",
            "..      ...     ...        ...    ...    ...      ...      ...     ...   \n",
            "886       2    male  27.000000      0      0  13.0000        S  Second   \n",
            "887       1  female  19.000000      0      0  30.0000        S   First   \n",
            "888       3  female  29.699118      1      2  23.4500        S   Third   \n",
            "889       1    male  26.000000      0      0  30.0000        C   First   \n",
            "890       3    male  32.000000      0      0   7.7500        Q   Third   \n",
            "\n",
            "     adult_male  alone  \n",
            "0          True  False  \n",
            "1         False  False  \n",
            "2         False   True  \n",
            "3         False  False  \n",
            "4          True   True  \n",
            "..          ...    ...  \n",
            "886        True   True  \n",
            "887       False   True  \n",
            "888       False  False  \n",
            "889        True   True  \n",
            "890        True   True  \n",
            "\n",
            "[891 rows x 10 columns]\n",
            "     survived\n",
            "0           0\n",
            "1           1\n",
            "2           1\n",
            "3           1\n",
            "4           0\n",
            "..        ...\n",
            "886         0\n",
            "887         1\n",
            "888         0\n",
            "889         1\n",
            "890         0\n",
            "\n",
            "[891 rows x 1 columns]\n"
          ]
        }
      ]
    },
    {
      "cell_type": "code",
      "source": [
        "print(training_data[['sex','class']].head())"
      ],
      "metadata": {
        "colab": {
          "base_uri": "https://localhost:8080/"
        },
        "id": "iyOvU9EpUDRk",
        "outputId": "e0e7d29e-9b17-4486-a253-d7e36406def5"
      },
      "execution_count": null,
      "outputs": [
        {
          "output_type": "stream",
          "name": "stdout",
          "text": [
            "      sex  class\n",
            "0    male  Third\n",
            "1  female  First\n",
            "2  female  Third\n",
            "3  female  First\n",
            "4    male  Third\n"
          ]
        }
      ]
    },
    {
      "cell_type": "code",
      "source": [
        "training_data['sex'].replace({'male':0, 'female':1}, inplace=True)\n",
        "training_data['class'].replace({'First':1, 'Second':2, 'Third':3}, inplace=True)\n",
        "training_data['embarked'].replace({'S':1, 'C':2, 'Q':3}, inplace=True)\n"
      ],
      "metadata": {
        "colab": {
          "base_uri": "https://localhost:8080/"
        },
        "id": "DQfOoXfpT2gU",
        "outputId": "4b0063bc-7d79-4dd2-9a15-cc38612039cb"
      },
      "execution_count": null,
      "outputs": [
        {
          "output_type": "stream",
          "name": "stderr",
          "text": [
            "/usr/local/lib/python3.7/dist-packages/pandas/core/generic.py:6619: SettingWithCopyWarning: \n",
            "A value is trying to be set on a copy of a slice from a DataFrame\n",
            "\n",
            "See the caveats in the documentation: https://pandas.pydata.org/pandas-docs/stable/user_guide/indexing.html#returning-a-view-versus-a-copy\n",
            "  return self._update_inplace(result)\n"
          ]
        }
      ]
    },
    {
      "cell_type": "code",
      "source": [
        "print(training_data['embarked'].unique())"
      ],
      "metadata": {
        "colab": {
          "base_uri": "https://localhost:8080/"
        },
        "id": "55hlNGUtUdkL",
        "outputId": "a879ead1-4b87-4c83-fe24-2fc0a252c353"
      },
      "execution_count": null,
      "outputs": [
        {
          "output_type": "stream",
          "name": "stdout",
          "text": [
            "[1 2 3]\n"
          ]
        }
      ]
    },
    {
      "cell_type": "code",
      "source": [
        "training_data.info()"
      ],
      "metadata": {
        "colab": {
          "base_uri": "https://localhost:8080/"
        },
        "id": "weFz66JbUXHr",
        "outputId": "b1d99731-e1ad-4a85-a715-e8443fd33646"
      },
      "execution_count": null,
      "outputs": [
        {
          "output_type": "stream",
          "name": "stdout",
          "text": [
            "<class 'pandas.core.frame.DataFrame'>\n",
            "RangeIndex: 891 entries, 0 to 890\n",
            "Data columns (total 10 columns):\n",
            " #   Column      Non-Null Count  Dtype  \n",
            "---  ------      --------------  -----  \n",
            " 0   pclass      891 non-null    int64  \n",
            " 1   sex         891 non-null    int64  \n",
            " 2   age         891 non-null    float64\n",
            " 3   sibsp       891 non-null    int64  \n",
            " 4   parch       891 non-null    int64  \n",
            " 5   fare        891 non-null    float64\n",
            " 6   embarked    891 non-null    int64  \n",
            " 7   class       891 non-null    int64  \n",
            " 8   adult_male  891 non-null    bool   \n",
            " 9   alone       891 non-null    bool   \n",
            "dtypes: bool(2), float64(2), int64(6)\n",
            "memory usage: 57.6 KB\n"
          ]
        }
      ]
    },
    {
      "cell_type": "code",
      "source": [
        "print(target[keep].sum())"
      ],
      "metadata": {
        "colab": {
          "base_uri": "https://localhost:8080/"
        },
        "id": "xeJQq-aHRATk",
        "outputId": "54524346-3589-4b8d-9e3b-287f05721a58"
      },
      "execution_count": null,
      "outputs": [
        {
          "output_type": "stream",
          "name": "stdout",
          "text": [
            "342\n"
          ]
        }
      ]
    },
    {
      "cell_type": "code",
      "source": [
        "from sklearn.preprocessing import StandardScaler\n",
        "scaler = StandardScaler()\n",
        "scaled_data = scaler.fit_transform(training_data)   #numpy의 ndarray가 되어있음 그래서 df로 바꿔줘야함\n",
        "print(type(scaled_data))\n",
        "scaled_data = pd.DataFrame(scaled_data, columns=label)\n",
        "print(scaled_data.head())   #평균이 0이고 표준편차가 1인 정규분포를따르는데이터, 표준정규분포"
      ],
      "metadata": {
        "colab": {
          "base_uri": "https://localhost:8080/"
        },
        "id": "Nv8jei4-REJM",
        "outputId": "953f4822-8903-4450-cf6a-e69ef678f304"
      },
      "execution_count": null,
      "outputs": [
        {
          "output_type": "stream",
          "name": "stdout",
          "text": [
            "<class 'numpy.ndarray'>\n",
            "     pclass       sex       age     sibsp     parch      fare  embarked  \\\n",
            "0  0.827377 -0.737695 -0.592481  0.432793 -0.473674 -0.502445 -0.571898   \n",
            "1 -1.566107  1.355574  0.638789  0.432793 -0.473674  0.786845  0.995982   \n",
            "2  0.827377  1.355574 -0.284663 -0.474545 -0.473674 -0.488854 -0.571898   \n",
            "3 -1.566107  1.355574  0.407926  0.432793 -0.473674  0.420730 -0.571898   \n",
            "4  0.827377 -0.737695  0.407926 -0.474545 -0.473674 -0.486337 -0.571898   \n",
            "\n",
            "      class  adult_male     alone  \n",
            "0  0.827377    0.811922 -1.231645  \n",
            "1 -1.566107   -1.231645 -1.231645  \n",
            "2  0.827377   -1.231645  0.811922  \n",
            "3 -1.566107   -1.231645 -1.231645  \n",
            "4  0.827377    0.811922  0.811922  \n"
          ]
        }
      ]
    },
    {
      "cell_type": "code",
      "source": [
        "print(scaled_data.describe().T)   #평균은 0, 표준편차는1"
      ],
      "metadata": {
        "colab": {
          "base_uri": "https://localhost:8080/"
        },
        "id": "mOMt0oxJU7K8",
        "outputId": "b7cb4725-b765-4604-c09f-a1ec0ba99a2c"
      },
      "execution_count": null,
      "outputs": [
        {
          "output_type": "stream",
          "name": "stdout",
          "text": [
            "            count          mean       std       min       25%       50%  \\\n",
            "pclass      891.0 -2.031048e-16  1.000562 -1.566107 -0.369365  0.827377   \n",
            "sex         891.0  3.162453e-16  1.000562 -0.737695 -0.737695 -0.737695   \n",
            "age         891.0  2.562796e-16  1.000562 -2.253155 -0.592481  0.000000   \n",
            "sibsp       891.0  3.456519e-16  1.000562 -0.474545 -0.474545 -0.474545   \n",
            "parch       891.0  6.716164e-17  1.000562 -0.473674 -0.473674 -0.473674   \n",
            "fare        891.0 -4.373606e-17  1.000562 -0.648422 -0.489148 -0.357391   \n",
            "embarked    891.0  1.834173e-16  1.000562 -0.571898 -0.571898 -0.571898   \n",
            "class       891.0 -2.031048e-16  1.000562 -1.566107 -0.369365  0.827377   \n",
            "adult_male  891.0 -1.779347e-16  1.000562 -1.231645 -1.231645  0.811922   \n",
            "alone       891.0 -2.561861e-16  1.000562 -1.231645 -1.231645  0.811922   \n",
            "\n",
            "                 75%       max  \n",
            "pclass      0.827377  0.827377  \n",
            "sex         1.355574  1.355574  \n",
            "age         0.407926  3.870872  \n",
            "sibsp       0.432793  6.784163  \n",
            "parch      -0.473674  6.974147  \n",
            "fare       -0.024246  9.667167  \n",
            "embarked    0.995982  2.563862  \n",
            "class       0.827377  0.827377  \n",
            "adult_male  0.811922  0.811922  \n",
            "alone       0.811922  0.811922  \n"
          ]
        }
      ]
    },
    {
      "cell_type": "code",
      "source": [
        "scaled_data.boxplot(column=label,\n",
        "                    showmeans=True)\n",
        "plt.show()"
      ],
      "metadata": {
        "colab": {
          "base_uri": "https://localhost:8080/",
          "height": 266
        },
        "id": "UfAjT-m8U_nT",
        "outputId": "8ecd1065-30bc-4849-a702-db4567ffe33a"
      },
      "execution_count": null,
      "outputs": [
        {
          "output_type": "display_data",
          "data": {
            "text/plain": [
              "<Figure size 432x288 with 1 Axes>"
            ],
            "image/png": "[encoded data removed]"
          },
          "metadata": {
            "needs_background": "light"
          }
        }
      ]
    },
    {
      "cell_type": "code",
      "source": [
        "from sklearn.model_selection import train_test_split\n",
        "#데이터중 30프로를 떼서 나중에 테스트용으로 씀\n",
        "X_train, X_test, Y_train, Y_test = train_test_split(\n",
        "    scaled_data, target, test_size=0.30)\n",
        "\n",
        "print('X_train:', X_train.shape)\n",
        "print('X_test:', X_test.shape)\n",
        "print('Y_train:', Y_train.shape)\n",
        "print('Y_test:', Y_test.shape)"
      ],
      "metadata": {
        "colab": {
          "base_uri": "https://localhost:8080/"
        },
        "id": "9o_b3TXxVFDD",
        "outputId": "c517482d-183c-4d74-aad2-c8aafb32e49a"
      },
      "execution_count": null,
      "outputs": [
        {
          "output_type": "stream",
          "name": "stdout",
          "text": [
            "X_train: (623, 10)\n",
            "X_test: (268, 10)\n",
            "Y_train: (623, 1)\n",
            "Y_test: (268, 1)\n"
          ]
        }
      ]
    },
    {
      "cell_type": "code",
      "source": [
        "model = Sequential()\n",
        "model.add(Dense(512, input_dim=10, activation='relu'))\n",
        "model.add(Dropout(0.25))\n",
        "model.add(Dense(256, activation='relu'))\n",
        "model.add(Dropout(0.2))\n",
        "model.add(Dense(128, activation='relu'))\n",
        "model.add(Dropout(0.1))\n",
        "model.add(Dense(1, activation='sigmoid'))\n",
        "model.summary()"
      ],
      "metadata": {
        "colab": {
          "base_uri": "https://localhost:8080/"
        },
        "id": "WfYmcf32VHIT",
        "outputId": "85d4b13f-601d-405c-da32-eee5fc429c2b"
      },
      "execution_count": null,
      "outputs": [
        {
          "output_type": "stream",
          "name": "stdout",
          "text": [
            "Model: \"sequential\"\n",
            "_________________________________________________________________\n",
            " Layer (type)                Output Shape              Param #   \n",
            "=================================================================\n",
            " dense (Dense)               (None, 512)               5632      \n",
            "                                                                 \n",
            " dropout (Dropout)           (None, 512)               0         \n",
            "                                                                 \n",
            " dense_1 (Dense)             (None, 256)               131328    \n",
            "                                                                 \n",
            " dropout_1 (Dropout)         (None, 256)               0         \n",
            "                                                                 \n",
            " dense_2 (Dense)             (None, 128)               32896     \n",
            "                                                                 \n",
            " dropout_2 (Dropout)         (None, 128)               0         \n",
            "                                                                 \n",
            " dense_3 (Dense)             (None, 1)                 129       \n",
            "                                                                 \n",
            "=================================================================\n",
            "Total params: 169,985\n",
            "Trainable params: 169,985\n",
            "Non-trainable params: 0\n",
            "_________________________________________________________________\n"
          ]
        }
      ]
    },
    {
      "cell_type": "code",
      "source": [
        "model.compile(loss='mse', optimizer='adam',\n",
        "              metrics=['binary_accuracy'])\n",
        "fit_hist = model.fit(X_train, Y_train, batch_size=50, epochs=7,\n",
        "                     validation_split=0.2, verbose=1)"
      ],
      "metadata": {
        "colab": {
          "base_uri": "https://localhost:8080/"
        },
        "id": "t5sRxz98VQAj",
        "outputId": "e9732418-c059-4325-d86a-5b211c931622"
      },
      "execution_count": null,
      "outputs": [
        {
          "output_type": "stream",
          "name": "stdout",
          "text": [
            "Epoch 1/7\n",
            "10/10 [==============================] - 1s 42ms/step - loss: 0.1779 - binary_accuracy: 0.7530 - val_loss: 0.1343 - val_binary_accuracy: 0.8240\n",
            "Epoch 2/7\n",
            "10/10 [==============================] - 0s 7ms/step - loss: 0.1316 - binary_accuracy: 0.8213 - val_loss: 0.1234 - val_binary_accuracy: 0.8560\n",
            "Epoch 3/7\n",
            "10/10 [==============================] - 0s 7ms/step - loss: 0.1292 - binary_accuracy: 0.8153 - val_loss: 0.1275 - val_binary_accuracy: 0.8240\n",
            "Epoch 4/7\n",
            "10/10 [==============================] - 0s 7ms/step - loss: 0.1277 - binary_accuracy: 0.8233 - val_loss: 0.1245 - val_binary_accuracy: 0.8560\n",
            "Epoch 5/7\n",
            "10/10 [==============================] - 0s 8ms/step - loss: 0.1258 - binary_accuracy: 0.8233 - val_loss: 0.1188 - val_binary_accuracy: 0.8560\n",
            "Epoch 6/7\n",
            "10/10 [==============================] - 0s 7ms/step - loss: 0.1210 - binary_accuracy: 0.8373 - val_loss: 0.1244 - val_binary_accuracy: 0.8400\n",
            "Epoch 7/7\n",
            "10/10 [==============================] - 0s 7ms/step - loss: 0.1209 - binary_accuracy: 0.8373 - val_loss: 0.1204 - val_binary_accuracy: 0.8400\n"
          ]
        }
      ]
    },
    {
      "cell_type": "code",
      "source": [
        "plt.plot(fit_hist.history['binary_accuracy'])\n",
        "plt.plot(fit_hist.history['val_binary_accuracy'])  #검증정확도\n",
        "\n",
        "plt.show()"
      ],
      "metadata": {
        "colab": {
          "base_uri": "https://localhost:8080/",
          "height": 267
        },
        "id": "tUH5KRffVSpj",
        "outputId": "dc00fe02-777e-4774-ed68-01e5e28502c9"
      },
      "execution_count": null,
      "outputs": [
        {
          "output_type": "display_data",
          "data": {
            "text/plain": [
              "<Figure size 432x288 with 1 Axes>"
            ],
            "image/png": "[encoded data removed]"
          },
          "metadata": {
            "needs_background": "light"
          }
        }
      ]
    },
    {
      "cell_type": "code",
      "source": [
        "#검증할때 쓰는 evaluate   진행사항 안보려고 verbose=0\n",
        "score = model.evaluate(X_test, Y_test, verbose=0)  #loss랑 accuracy만 구함 testset에 대한 학습은 하지 않음\n",
        "print('Keras DNN model loss:', score[0])  #evaluate는 리스트로 값을 반환, 0이 loss, 1이 accuracy\n",
        "print('Keras DNN model accuracy:', score[1])"
      ],
      "metadata": {
        "colab": {
          "base_uri": "https://localhost:8080/"
        },
        "id": "QfAoUiMWVUvE",
        "outputId": "01fdc252-4c01-43dc-bed3-19b84b00a85b"
      },
      "execution_count": null,
      "outputs": [
        {
          "output_type": "stream",
          "name": "stdout",
          "text": [
            "Keras DNN model loss: 0.13616763055324554\n",
            "Keras DNN model accuracy: 0.8208954930305481\n"
          ]
        }
      ]
    },
    {
      "cell_type": "code",
      "source": [
        "plt.plot(fit_hist.history['binary_accuracy'])\n",
        "plt.plot(fit_hist.history['val_binary_accuracy'])  #검증정확도\n",
        "\n",
        "plt.show()"
      ],
      "metadata": {
        "colab": {
          "base_uri": "https://localhost:8080/",
          "height": 267
        },
        "id": "D1xkrexcVVsz",
        "outputId": "12c21aaf-a322-4e7b-9456-38a471c28f90"
      },
      "execution_count": null,
      "outputs": [
        {
          "output_type": "display_data",
          "data": {
            "text/plain": [
              "<Figure size 432x288 with 1 Axes>"
            ],
            "image/png": "[encoded data removed]"
          },
          "metadata": {
            "needs_background": "light"
          }
        }
      ]
    },
    {
      "cell_type": "code",
      "source": [
        "score = model.evaluate(X_test, Y_test, verbose=0)\n",
        "print('loss',score[0])\n",
        "print('accuracy',score[1])"
      ],
      "metadata": {
        "colab": {
          "base_uri": "https://localhost:8080/"
        },
        "id": "uMT_BNaVVWhU",
        "outputId": "c1f61675-930c-43b2-aea0-1e49a288d865"
      },
      "execution_count": null,
      "outputs": [
        {
          "output_type": "stream",
          "name": "stdout",
          "text": [
            "loss 0.13616763055324554\n",
            "accuracy 0.8208954930305481\n"
          ]
        }
      ]
    }
  ]
}