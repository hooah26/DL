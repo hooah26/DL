{
  "nbformat": 4,
  "nbformat_minor": 0,
  "metadata": {
    "colab": {
      "name": "exam16_classfication_fashion_MNIST_CNN.ipynb",
      "provenance": [],
      "collapsed_sections": []
    },
    "kernelspec": {
      "name": "python3",
      "display_name": "Python 3"
    },
    "language_info": {
      "name": "python"
    },
    "accelerator": "GPU"
  },
  "cells": [
    {
      "cell_type": "markdown",
      "source": [
        "지금까지는 일반적인 인공신경망, Dense(조밀 신경말)<br>\n",
        "앞으로 할 것은 CNN(Convolutional Neural Networks)-> 영상에 특화된 알고리즘<br>\n",
        "https://towardsdatascience.com/a-comprehensive-guide-to-convolutional-neural-networks-the-eli5-way-3bd2b1164a53\n"
      ],
      "metadata": {
        "id": "EWVVB9snI9Ne"
      }
    },
    {
      "cell_type": "code",
      "execution_count": 12,
      "metadata": {
        "id": "2E8ZpPc7XhQs"
      },
      "outputs": [],
      "source": [
        "import numpy as np\n",
        "import matplotlib.pyplot as plt\n",
        "from tensorflow.keras.models import Sequential\n",
        "from tensorflow.keras.layers import Dense, Conv2D, MaxPool2D, Flatten # 이미지를 28 * 28 을 한 줄((784)로 해주는 함수\n",
        "from tensorflow.keras import datasets # 이미 train, test 가 나눠져 있다.\n",
        "from keras.utils import np_utils"
      ]
    },
    {
      "cell_type": "code",
      "source": [
        "(X_train, Y_train), (X_test, Y_test) = datasets.fashion_mnist.load_data()\n",
        "print(X_train.shape, Y_train.shape)\n",
        "print(X_test.shape, Y_test.shape)"
      ],
      "metadata": {
        "colab": {
          "base_uri": "https://localhost:8080/"
        },
        "id": "qbRLprjyYHeo",
        "outputId": "c2a31ac6-a266-4e88-e6a6-2b67ed3e7ff5"
      },
      "execution_count": 13,
      "outputs": [
        {
          "output_type": "stream",
          "name": "stdout",
          "text": [
            "(60000, 28, 28) (60000,)\n",
            "(10000, 28, 28) (10000,)\n"
          ]
        }
      ]
    },
    {
      "cell_type": "code",
      "source": [
        "label = ['T-shirt', 'trouser', 'pullover', 'dress', 'coat',\n",
        "         'sandal', 'shirt', 'sneaker', 'bag', 'ankle boot']"
      ],
      "metadata": {
        "id": "jaUSrBPm3EWb"
      },
      "execution_count": 14,
      "outputs": []
    },
    {
      "cell_type": "code",
      "source": [
        "my_sample = np.random.randint(60000)\n",
        "plt.imshow(X_train[my_sample], cmap = 'gray')\n",
        "plt.show()\n",
        "print(Y_train[my_sample]) # Y 값 one hot, scailing\n",
        "print(X_train[my_sample]) # 이미지는 각자의 픽셀의 값을 숫자로 나타낸 것"
      ],
      "metadata": {
        "id": "M4b7N9jfYv4Q"
      },
      "execution_count": null,
      "outputs": []
    },
    {
      "cell_type": "code",
      "source": [
        ""
      ],
      "metadata": {
        "id": "5JUcZ-Ne3Cx8"
      },
      "execution_count": 15,
      "outputs": []
    },
    {
      "cell_type": "code",
      "source": [
        "y_train = np_utils.to_categorical(Y_train) #ont hot을 자동으로 해주는 함수, to_categorical, OneHotEncoder, get_dummies \n",
        "y_test = np_utils.to_categorical(Y_test)\n",
        "print(Y_train[5000])\n",
        "print(y_train[5000])"
      ],
      "metadata": {
        "colab": {
          "base_uri": "https://localhost:8080/"
        },
        "id": "fsIvDV8qZX6z",
        "outputId": "d74a034a-1499-4fec-b303-7acd6af9e0ef"
      },
      "execution_count": 16,
      "outputs": [
        {
          "output_type": "stream",
          "name": "stdout",
          "text": [
            "4\n",
            "[0. 0. 0. 0. 1. 0. 0. 0. 0. 0.]\n"
          ]
        }
      ]
    },
    {
      "cell_type": "code",
      "source": [
        "x_train = X_train / 255 # MinMaxScaler\n",
        "x_test = X_test / 255\n",
        "x_train = x_train.reshape(60000, 28, 28, 1)\n",
        "x_test = x_test.reshape(10000, 28, 28, 1)\n",
        "print(x_train.shape)\n",
        "print(x_train[0])\n",
        "print(x_test.shape)\n",
        "print(x_test[0])\n",
        "# reshape을 하지 않고 이미지 그래도 들어간다"
      ],
      "metadata": {
        "id": "vWK2cTc_ccxn"
      },
      "execution_count": null,
      "outputs": []
    },
    {
      "cell_type": "code",
      "source": [
        "model = Sequential()\n",
        "model.add(Conv2D(32, kernel_size = (3,3), input_shape=(28, 28,1), padding = 'same', activation = 'relu')) #padding = 'same' 입력이미지와 출력 이미지의 크기가 같다 28 * 28, 32=>출력계수(필터의 개수, 다양한 필터 적용) 필터를 적용한 이미지가 32개\n",
        "model.add(MaxPool2D(padding = 'same', pool_size = (2,2))) # 2 *2의 필터 안에서 가장 큰 값만 남긴다, 2칸씩 이동, 칸이 맞지 않아 부족할 경우 버린다, padding = 'same'을 넣으면 추가한다. 14 * 14\n",
        "model.add(Conv2D(32, kernel_size = (3,3), padding = 'same', activation = 'relu')) #14*14, 32=>출력계수(필터의 개수, 다양한 필터 적용) 3*3의 필터 세트가 32개 존재 각각의 이미지에 세트가 만들어져 세트끼리만 적용(첫 번째 이미지 - 첫 번째 필터) \n",
        "# 그후 같은 위치의 픽셀 값을 더해서 하나의 이미지 완성, 그런 이미지가 32개 필요-> 3*3의 필터가 32개가 32개 필요\n",
        "model.add(MaxPool2D(padding = 'same', pool_size = (2,2)))# 7*7\n",
        "model.add(Flatten())\n",
        "\n",
        "model.add(Dense(128, activation = 'relu'))\n",
        "model.add(Dense(10, activation = 'softmax'))"
      ],
      "metadata": {
        "id": "6qsNIF-xdeNg"
      },
      "execution_count": 19,
      "outputs": []
    },
    {
      "cell_type": "code",
      "source": [
        "model.compile(optimizer = 'adam', loss = 'categorical_crossentropy',\n",
        "              metrics = ['accuracy'])\n",
        "model.summary()"
      ],
      "metadata": {
        "colab": {
          "base_uri": "https://localhost:8080/"
        },
        "id": "8mG4vEj6eBCn",
        "outputId": "f8c53856-23e1-45c1-a9c6-d3b2b6df202f"
      },
      "execution_count": 20,
      "outputs": [
        {
          "output_type": "stream",
          "name": "stdout",
          "text": [
            "Model: \"sequential_1\"\n",
            "_________________________________________________________________\n",
            " Layer (type)                Output Shape              Param #   \n",
            "=================================================================\n",
            " conv2d_2 (Conv2D)           (None, 28, 28, 32)        320       \n",
            "                                                                 \n",
            " max_pooling2d_2 (MaxPooling  (None, 14, 14, 32)       0         \n",
            " 2D)                                                             \n",
            "                                                                 \n",
            " conv2d_3 (Conv2D)           (None, 14, 14, 32)        9248      \n",
            "                                                                 \n",
            " max_pooling2d_3 (MaxPooling  (None, 7, 7, 32)         0         \n",
            " 2D)                                                             \n",
            "                                                                 \n",
            " flatten_1 (Flatten)         (None, 1568)              0         \n",
            "                                                                 \n",
            " dense_2 (Dense)             (None, 128)               200832    \n",
            "                                                                 \n",
            " dense_3 (Dense)             (None, 10)                1290      \n",
            "                                                                 \n",
            "=================================================================\n",
            "Total params: 211,690\n",
            "Trainable params: 211,690\n",
            "Non-trainable params: 0\n",
            "_________________________________________________________________\n"
          ]
        }
      ]
    },
    {
      "cell_type": "code",
      "source": [
        "fit_hist = model.fit(x_train, y_train, batch_size=128, epochs = 20, validation_split = 0.2, verbose = 1)"
      ],
      "metadata": {
        "colab": {
          "base_uri": "https://localhost:8080/"
        },
        "id": "Y6IoQA6yeSnY",
        "outputId": "d654cb84-eb30-4166-97c5-f6206b9767c5"
      },
      "execution_count": 21,
      "outputs": [
        {
          "output_type": "stream",
          "name": "stdout",
          "text": [
            "Epoch 1/20\n",
            "375/375 [==============================] - 5s 12ms/step - loss: 0.5505 - accuracy: 0.8039 - val_loss: 0.3867 - val_accuracy: 0.8662\n",
            "Epoch 2/20\n",
            "375/375 [==============================] - 4s 10ms/step - loss: 0.3563 - accuracy: 0.8740 - val_loss: 0.3568 - val_accuracy: 0.8744\n",
            "Epoch 3/20\n",
            "375/375 [==============================] - 4s 11ms/step - loss: 0.3097 - accuracy: 0.8891 - val_loss: 0.3336 - val_accuracy: 0.8771\n",
            "Epoch 4/20\n",
            "375/375 [==============================] - 4s 12ms/step - loss: 0.2778 - accuracy: 0.9001 - val_loss: 0.2953 - val_accuracy: 0.8929\n",
            "Epoch 5/20\n",
            "375/375 [==============================] - 6s 17ms/step - loss: 0.2557 - accuracy: 0.9065 - val_loss: 0.2791 - val_accuracy: 0.8992\n",
            "Epoch 6/20\n",
            "375/375 [==============================] - 5s 12ms/step - loss: 0.2380 - accuracy: 0.9123 - val_loss: 0.2704 - val_accuracy: 0.9041\n",
            "Epoch 7/20\n",
            "375/375 [==============================] - 4s 10ms/step - loss: 0.2241 - accuracy: 0.9181 - val_loss: 0.2491 - val_accuracy: 0.9070\n",
            "Epoch 8/20\n",
            "375/375 [==============================] - 4s 10ms/step - loss: 0.2086 - accuracy: 0.9235 - val_loss: 0.2404 - val_accuracy: 0.9125\n",
            "Epoch 9/20\n",
            "375/375 [==============================] - 4s 10ms/step - loss: 0.1932 - accuracy: 0.9284 - val_loss: 0.2386 - val_accuracy: 0.9147\n",
            "Epoch 10/20\n",
            "375/375 [==============================] - 4s 10ms/step - loss: 0.1815 - accuracy: 0.9330 - val_loss: 0.2437 - val_accuracy: 0.9161\n",
            "Epoch 11/20\n",
            "375/375 [==============================] - 4s 10ms/step - loss: 0.1714 - accuracy: 0.9371 - val_loss: 0.2405 - val_accuracy: 0.9137\n",
            "Epoch 12/20\n",
            "375/375 [==============================] - 4s 11ms/step - loss: 0.1587 - accuracy: 0.9410 - val_loss: 0.2378 - val_accuracy: 0.9153\n",
            "Epoch 13/20\n",
            "375/375 [==============================] - 4s 10ms/step - loss: 0.1476 - accuracy: 0.9452 - val_loss: 0.2311 - val_accuracy: 0.9162\n",
            "Epoch 14/20\n",
            "375/375 [==============================] - 4s 10ms/step - loss: 0.1358 - accuracy: 0.9505 - val_loss: 0.2304 - val_accuracy: 0.9218\n",
            "Epoch 15/20\n",
            "375/375 [==============================] - 4s 10ms/step - loss: 0.1277 - accuracy: 0.9529 - val_loss: 0.2588 - val_accuracy: 0.9127\n",
            "Epoch 16/20\n",
            "375/375 [==============================] - 4s 10ms/step - loss: 0.1166 - accuracy: 0.9580 - val_loss: 0.2593 - val_accuracy: 0.9141\n",
            "Epoch 17/20\n",
            "375/375 [==============================] - 4s 10ms/step - loss: 0.1074 - accuracy: 0.9613 - val_loss: 0.2522 - val_accuracy: 0.9193\n",
            "Epoch 18/20\n",
            "375/375 [==============================] - 4s 10ms/step - loss: 0.0981 - accuracy: 0.9645 - val_loss: 0.2424 - val_accuracy: 0.9220\n",
            "Epoch 19/20\n",
            "375/375 [==============================] - 4s 10ms/step - loss: 0.0895 - accuracy: 0.9674 - val_loss: 0.2677 - val_accuracy: 0.9153\n",
            "Epoch 20/20\n",
            "375/375 [==============================] - 4s 10ms/step - loss: 0.0795 - accuracy: 0.9722 - val_loss: 0.2516 - val_accuracy: 0.9208\n"
          ]
        }
      ]
    },
    {
      "cell_type": "code",
      "source": [
        "score = model.evaluate(x_test, y_test, verbose = 0)\n",
        "print('Final test set accurecy', score[1])"
      ],
      "metadata": {
        "colab": {
          "base_uri": "https://localhost:8080/"
        },
        "id": "uu2svNwQeymo",
        "outputId": "e2b9a71b-d517-4466-c2ed-3537dd7802c2"
      },
      "execution_count": 22,
      "outputs": [
        {
          "output_type": "stream",
          "name": "stdout",
          "text": [
            "Final test set accurecy 0.9147999882698059\n"
          ]
        }
      ]
    },
    {
      "cell_type": "code",
      "source": [
        "plt.plot(fit_hist.history['accuracy'])\n",
        "plt.plot(fit_hist.history['val_accuracy'])\n",
        "plt.show()"
      ],
      "metadata": {
        "colab": {
          "base_uri": "https://localhost:8080/",
          "height": 265
        },
        "id": "dKbrwk1jfr4H",
        "outputId": "908e401d-ff3b-405a-aeba-a419ce162bf1"
      },
      "execution_count": 23,
      "outputs": [
        {
          "output_type": "display_data",
          "data": {
            "text/plain": [
              "<Figure size 432x288 with 1 Axes>"
            ],
            "image/png": "[encoded data removed]"
          },
          "metadata": {
            "needs_background": "light"
          }
        }
      ]
    },
    {
      "cell_type": "code",
      "source": [
        "my_sample = np.random.randint(10000)\n",
        "plt.imshow(X_test[my_sample], cmap = 'gray')\n",
        "print(Y_test[my_sample])\n",
        "print(label[Y_test[my_sample]])\n",
        "pred = model.predict(x_test[my_sample].reshape(-1, 28, 28, 1))\n",
        "print(pred)\n",
        "print(label[np.argmax(pred)])"
      ],
      "metadata": {
        "colab": {
          "base_uri": "https://localhost:8080/",
          "height": 357
        },
        "id": "At4DfazHf3QP",
        "outputId": "19c20bfd-6957-429c-b641-7fc1204a336b"
      },
      "execution_count": 25,
      "outputs": [
        {
          "output_type": "stream",
          "name": "stdout",
          "text": [
            "2\n",
            "pullover\n",
            "[[3.3756041e-03 1.8355622e-06 9.9146187e-01 1.5420969e-06 4.9312576e-03\n",
            "  3.5893910e-09 1.3352293e-04 4.5765107e-09 9.4431518e-05 2.4399633e-09]]\n",
            "pullover\n"
          ]
        },
        {
          "output_type": "display_data",
          "data": {
            "text/plain": [
              "<Figure size 432x288 with 1 Axes>"
            ],
            "image/png": "[encoded data removed]"
          },
          "metadata": {
            "needs_background": "light"
          }
        }
      ]
    },
    {
      "cell_type": "markdown",
      "source": [
        "지금까지는 일반적인 인공신경망, Dense(조밀 신경말)<br>\n",
        "앞으로 할 것은 CNN(Convolutional Neural Networks)-> 영상에 특화된 알고리즘\n"
      ],
      "metadata": {
        "id": "-JECd_Wogpso"
      }
    },
    {
      "cell_type": "code",
      "source": [
        ""
      ],
      "metadata": {
        "id": "K5UDVUq2JAG2"
      },
      "execution_count": null,
      "outputs": []
    },
    {
      "cell_type": "markdown",
      "source": [
        "https://towardsdatascience.com/a-comprehensive-guide-to-convolutional-neural-networks-the-eli5-way-3bd2b1164a53"
      ],
      "metadata": {
        "id": "DIcF85Ac7HlB"
      }
    },
    {
      "cell_type": "code",
      "source": [
        ""
      ],
      "metadata": {
        "id": "Y7-4-LSHFEAn"
      },
      "execution_count": null,
      "outputs": []
    }
  ]
}