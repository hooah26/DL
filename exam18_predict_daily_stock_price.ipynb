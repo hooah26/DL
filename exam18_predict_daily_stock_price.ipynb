{
  "nbformat": 4,
  "nbformat_minor": 0,
  "metadata": {
    "colab": {
      "name": "exam18_predict_daily_stock_price.ipynb",
      "provenance": []
    },
    "kernelspec": {
      "name": "python3",
      "display_name": "Python 3"
    },
    "language_info": {
      "name": "python"
    }
  },
  "cells": [
    {
      "cell_type": "code",
      "execution_count": 12,
      "metadata": {
        "id": "7ReJ-ZCBKaxw"
      },
      "outputs": [],
      "source": [
        "import pandas as pd\n",
        "import numpy as np\n",
        "import matplotlib.pyplot as plt\n",
        "from tensorflow.keras.models import Sequential\n",
        "from tensorflow.keras.layers import *\n",
        "from sklearn.preprocessing import MinMaxScaler\n",
        "from sklearn.model_selection import train_test_split\n",
        "from tensorflow.keras.callbacks import EarlyStopping"
      ]
    },
    {
      "cell_type": "code",
      "source": [
        "raw_data = pd.read_csv('./datasets/samsung200101_220328.KS.csv')\n",
        "print(raw_data.head())\n",
        "raw_data.info()"
      ],
      "metadata": {
        "colab": {
          "base_uri": "https://localhost:8080/"
        },
        "id": "6x2WvptNKjNS",
        "outputId": "270c0c25-5bd3-409c-e240-91ba1e122032"
      },
      "execution_count": 4,
      "outputs": [
        {
          "output_type": "stream",
          "name": "stdout",
          "text": [
            "         Date     Open     High      Low    Close     Adj Close    Volume\n",
            "0  2020-01-02  55500.0  56000.0  55000.0  55200.0  51824.093750  12993228\n",
            "1  2020-01-03  56000.0  56600.0  54900.0  55500.0  52105.750000  15422255\n",
            "2  2020-01-06  54900.0  55600.0  54600.0  55500.0  52105.750000  10278951\n",
            "3  2020-01-07  55700.0  56400.0  55600.0  55800.0  52387.406250  10009778\n",
            "4  2020-01-08  56200.0  57400.0  55900.0  56800.0  53326.242188  23501171\n",
            "<class 'pandas.core.frame.DataFrame'>\n",
            "RangeIndex: 551 entries, 0 to 550\n",
            "Data columns (total 7 columns):\n",
            " #   Column     Non-Null Count  Dtype  \n",
            "---  ------     --------------  -----  \n",
            " 0   Date       551 non-null    object \n",
            " 1   Open       551 non-null    float64\n",
            " 2   High       551 non-null    float64\n",
            " 3   Low        551 non-null    float64\n",
            " 4   Close      551 non-null    float64\n",
            " 5   Adj Close  551 non-null    float64\n",
            " 6   Volume     551 non-null    int64  \n",
            "dtypes: float64(5), int64(1), object(1)\n",
            "memory usage: 30.3+ KB\n"
          ]
        }
      ]
    },
    {
      "cell_type": "code",
      "source": [
        "raw_data['Date'] = pd.to_datetime(raw_data['Date'])\n",
        "raw_data.set_index('Date', inplace= True)\n",
        "print(raw_data.head())\n"
      ],
      "metadata": {
        "colab": {
          "base_uri": "https://localhost:8080/",
          "height": 529
        },
        "id": "eSTPWMcHMd4n",
        "outputId": "739bbcb9-7713-43fc-fde3-47c03c51f2c0"
      },
      "execution_count": 8,
      "outputs": [
        {
          "output_type": "error",
          "ename": "KeyError",
          "evalue": "ignored",
          "traceback": [
            "\u001b[0;31m---------------------------------------------------------------------------\u001b[0m",
            "\u001b[0;31mKeyError\u001b[0m                                  Traceback (most recent call last)",
            "\u001b[0;32m/usr/local/lib/python3.7/dist-packages/pandas/core/indexes/base.py\u001b[0m in \u001b[0;36mget_loc\u001b[0;34m(self, key, method, tolerance)\u001b[0m\n\u001b[1;32m   3360\u001b[0m             \u001b[0;32mtry\u001b[0m\u001b[0;34m:\u001b[0m\u001b[0;34m\u001b[0m\u001b[0;34m\u001b[0m\u001b[0m\n\u001b[0;32m-> 3361\u001b[0;31m                 \u001b[0;32mreturn\u001b[0m \u001b[0mself\u001b[0m\u001b[0;34m.\u001b[0m\u001b[0m_engine\u001b[0m\u001b[0;34m.\u001b[0m\u001b[0mget_loc\u001b[0m\u001b[0;34m(\u001b[0m\u001b[0mcasted_key\u001b[0m\u001b[0;34m)\u001b[0m\u001b[0;34m\u001b[0m\u001b[0;34m\u001b[0m\u001b[0m\n\u001b[0m\u001b[1;32m   3362\u001b[0m             \u001b[0;32mexcept\u001b[0m \u001b[0mKeyError\u001b[0m \u001b[0;32mas\u001b[0m \u001b[0merr\u001b[0m\u001b[0;34m:\u001b[0m\u001b[0;34m\u001b[0m\u001b[0;34m\u001b[0m\u001b[0m\n",
            "\u001b[0;32m/usr/local/lib/python3.7/dist-packages/pandas/_libs/index.pyx\u001b[0m in \u001b[0;36mpandas._libs.index.IndexEngine.get_loc\u001b[0;34m()\u001b[0m\n",
            "\u001b[0;32m/usr/local/lib/python3.7/dist-packages/pandas/_libs/index.pyx\u001b[0m in \u001b[0;36mpandas._libs.index.IndexEngine.get_loc\u001b[0;34m()\u001b[0m\n",
            "\u001b[0;32mpandas/_libs/hashtable_class_helper.pxi\u001b[0m in \u001b[0;36mpandas._libs.hashtable.PyObjectHashTable.get_item\u001b[0;34m()\u001b[0m\n",
            "\u001b[0;32mpandas/_libs/hashtable_class_helper.pxi\u001b[0m in \u001b[0;36mpandas._libs.hashtable.PyObjectHashTable.get_item\u001b[0;34m()\u001b[0m\n",
            "\u001b[0;31mKeyError\u001b[0m: 'Date'",
            "\nThe above exception was the direct cause of the following exception:\n",
            "\u001b[0;31mKeyError\u001b[0m                                  Traceback (most recent call last)",
            "\u001b[0;32m<ipython-input-8-8f1721de05d2>\u001b[0m in \u001b[0;36m<module>\u001b[0;34m()\u001b[0m\n\u001b[0;32m----> 1\u001b[0;31m \u001b[0mraw_data\u001b[0m\u001b[0;34m[\u001b[0m\u001b[0;34m'Date'\u001b[0m\u001b[0;34m]\u001b[0m \u001b[0;34m=\u001b[0m \u001b[0mpd\u001b[0m\u001b[0;34m.\u001b[0m\u001b[0mto_datetime\u001b[0m\u001b[0;34m(\u001b[0m\u001b[0mraw_data\u001b[0m\u001b[0;34m[\u001b[0m\u001b[0;34m'Date'\u001b[0m\u001b[0;34m]\u001b[0m\u001b[0;34m)\u001b[0m\u001b[0;34m\u001b[0m\u001b[0;34m\u001b[0m\u001b[0m\n\u001b[0m\u001b[1;32m      2\u001b[0m \u001b[0mraw_data\u001b[0m\u001b[0;34m.\u001b[0m\u001b[0mset_index\u001b[0m\u001b[0;34m(\u001b[0m\u001b[0;34m'Date'\u001b[0m\u001b[0;34m,\u001b[0m \u001b[0minplace\u001b[0m\u001b[0;34m=\u001b[0m \u001b[0;32mTrue\u001b[0m\u001b[0;34m)\u001b[0m\u001b[0;34m\u001b[0m\u001b[0;34m\u001b[0m\u001b[0m\n\u001b[1;32m      3\u001b[0m \u001b[0mprint\u001b[0m\u001b[0;34m(\u001b[0m\u001b[0mraw_data\u001b[0m\u001b[0;34m.\u001b[0m\u001b[0mhead\u001b[0m\u001b[0;34m(\u001b[0m\u001b[0;34m)\u001b[0m\u001b[0;34m)\u001b[0m\u001b[0;34m\u001b[0m\u001b[0;34m\u001b[0m\u001b[0m\n\u001b[1;32m      4\u001b[0m \u001b[0mraw_data\u001b[0m\u001b[0;34m.\u001b[0m\u001b[0minfo\u001b[0m\u001b[0;34m(\u001b[0m\u001b[0;34m)\u001b[0m\u001b[0;34m\u001b[0m\u001b[0;34m\u001b[0m\u001b[0m\n",
            "\u001b[0;32m/usr/local/lib/python3.7/dist-packages/pandas/core/frame.py\u001b[0m in \u001b[0;36m__getitem__\u001b[0;34m(self, key)\u001b[0m\n\u001b[1;32m   3456\u001b[0m             \u001b[0;32mif\u001b[0m \u001b[0mself\u001b[0m\u001b[0;34m.\u001b[0m\u001b[0mcolumns\u001b[0m\u001b[0;34m.\u001b[0m\u001b[0mnlevels\u001b[0m \u001b[0;34m>\u001b[0m \u001b[0;36m1\u001b[0m\u001b[0;34m:\u001b[0m\u001b[0;34m\u001b[0m\u001b[0;34m\u001b[0m\u001b[0m\n\u001b[1;32m   3457\u001b[0m                 \u001b[0;32mreturn\u001b[0m \u001b[0mself\u001b[0m\u001b[0;34m.\u001b[0m\u001b[0m_getitem_multilevel\u001b[0m\u001b[0;34m(\u001b[0m\u001b[0mkey\u001b[0m\u001b[0;34m)\u001b[0m\u001b[0;34m\u001b[0m\u001b[0;34m\u001b[0m\u001b[0m\n\u001b[0;32m-> 3458\u001b[0;31m             \u001b[0mindexer\u001b[0m \u001b[0;34m=\u001b[0m \u001b[0mself\u001b[0m\u001b[0;34m.\u001b[0m\u001b[0mcolumns\u001b[0m\u001b[0;34m.\u001b[0m\u001b[0mget_loc\u001b[0m\u001b[0;34m(\u001b[0m\u001b[0mkey\u001b[0m\u001b[0;34m)\u001b[0m\u001b[0;34m\u001b[0m\u001b[0;34m\u001b[0m\u001b[0m\n\u001b[0m\u001b[1;32m   3459\u001b[0m             \u001b[0;32mif\u001b[0m \u001b[0mis_integer\u001b[0m\u001b[0;34m(\u001b[0m\u001b[0mindexer\u001b[0m\u001b[0;34m)\u001b[0m\u001b[0;34m:\u001b[0m\u001b[0;34m\u001b[0m\u001b[0;34m\u001b[0m\u001b[0m\n\u001b[1;32m   3460\u001b[0m                 \u001b[0mindexer\u001b[0m \u001b[0;34m=\u001b[0m \u001b[0;34m[\u001b[0m\u001b[0mindexer\u001b[0m\u001b[0;34m]\u001b[0m\u001b[0;34m\u001b[0m\u001b[0;34m\u001b[0m\u001b[0m\n",
            "\u001b[0;32m/usr/local/lib/python3.7/dist-packages/pandas/core/indexes/base.py\u001b[0m in \u001b[0;36mget_loc\u001b[0;34m(self, key, method, tolerance)\u001b[0m\n\u001b[1;32m   3361\u001b[0m                 \u001b[0;32mreturn\u001b[0m \u001b[0mself\u001b[0m\u001b[0;34m.\u001b[0m\u001b[0m_engine\u001b[0m\u001b[0;34m.\u001b[0m\u001b[0mget_loc\u001b[0m\u001b[0;34m(\u001b[0m\u001b[0mcasted_key\u001b[0m\u001b[0;34m)\u001b[0m\u001b[0;34m\u001b[0m\u001b[0;34m\u001b[0m\u001b[0m\n\u001b[1;32m   3362\u001b[0m             \u001b[0;32mexcept\u001b[0m \u001b[0mKeyError\u001b[0m \u001b[0;32mas\u001b[0m \u001b[0merr\u001b[0m\u001b[0;34m:\u001b[0m\u001b[0;34m\u001b[0m\u001b[0;34m\u001b[0m\u001b[0m\n\u001b[0;32m-> 3363\u001b[0;31m                 \u001b[0;32mraise\u001b[0m \u001b[0mKeyError\u001b[0m\u001b[0;34m(\u001b[0m\u001b[0mkey\u001b[0m\u001b[0;34m)\u001b[0m \u001b[0;32mfrom\u001b[0m \u001b[0merr\u001b[0m\u001b[0;34m\u001b[0m\u001b[0;34m\u001b[0m\u001b[0m\n\u001b[0m\u001b[1;32m   3364\u001b[0m \u001b[0;34m\u001b[0m\u001b[0m\n\u001b[1;32m   3365\u001b[0m         \u001b[0;32mif\u001b[0m \u001b[0mis_scalar\u001b[0m\u001b[0;34m(\u001b[0m\u001b[0mkey\u001b[0m\u001b[0;34m)\u001b[0m \u001b[0;32mand\u001b[0m \u001b[0misna\u001b[0m\u001b[0;34m(\u001b[0m\u001b[0mkey\u001b[0m\u001b[0;34m)\u001b[0m \u001b[0;32mand\u001b[0m \u001b[0;32mnot\u001b[0m \u001b[0mself\u001b[0m\u001b[0;34m.\u001b[0m\u001b[0mhasnans\u001b[0m\u001b[0;34m:\u001b[0m\u001b[0;34m\u001b[0m\u001b[0;34m\u001b[0m\u001b[0m\n",
            "\u001b[0;31mKeyError\u001b[0m: 'Date'"
          ]
        }
      ]
    },
    {
      "cell_type": "code",
      "source": [
        "raw_data['Close'].plot()\n",
        "plt.show()"
      ],
      "metadata": {
        "colab": {
          "base_uri": "https://localhost:8080/",
          "height": 277
        },
        "id": "pqnfVpGxM8TP",
        "outputId": "1dca5dc3-e6ff-4076-d5a1-f884301368e4"
      },
      "execution_count": 10,
      "outputs": [
        {
          "output_type": "display_data",
          "data": {
            "text/plain": [
              "<Figure size 432x288 with 1 Axes>"
            ],
            "image/png": "[encoded data removed]"
          },
          "metadata": {
            "needs_background": "light"
          }
        }
      ]
    },
    {
      "cell_type": "code",
      "source": [
        "data_test = raw_data.sort_values('Close')\n",
        "print(data_test.head())\n",
        "print(data_test.tail())"
      ],
      "metadata": {
        "colab": {
          "base_uri": "https://localhost:8080/"
        },
        "id": "KkFBGUNqN1Jv",
        "outputId": "49ea381b-9adf-4e78-bdd9-aab0ba196968"
      },
      "execution_count": 11,
      "outputs": [
        {
          "output_type": "stream",
          "name": "stdout",
          "text": [
            "               Open     High      Low    Close     Adj Close    Volume\n",
            "Date                                                                  \n",
            "2020-03-23  42600.0  43550.0  42400.0  42500.0  39900.804688  41701626\n",
            "2020-03-19  46400.0  46650.0  42300.0  42950.0  40323.277344  56925513\n",
            "2020-03-20  44150.0  45500.0  43550.0  45400.0  42623.441406  49730008\n",
            "2020-03-18  47750.0  48350.0  45600.0  45600.0  42811.214844  40152623\n",
            "2020-04-01  47450.0  47900.0  45800.0  45800.0  43316.453125  27259532\n",
            "               Open     High      Low    Close     Adj Close    Volume\n",
            "Date                                                                  \n",
            "2021-01-25  87000.0  89900.0  86300.0  89400.0  87796.445313  27258534\n",
            "2021-01-13  89800.0  91200.0  89100.0  89700.0  88091.062500  36068848\n",
            "2021-01-14  88700.0  90000.0  88700.0  89700.0  88091.062500  26393970\n",
            "2021-01-12  90300.0  91400.0  87800.0  90600.0  88974.914063  48682416\n",
            "2021-01-11  90000.0  96800.0  89500.0  91000.0  89367.734375  90306177\n"
          ]
        }
      ]
    },
    {
      "cell_type": "code",
      "source": [
        "data_close = raw_data[['Close']]\n",
        "data_close.info()\n",
        "print(data_close.head())"
      ],
      "metadata": {
        "colab": {
          "base_uri": "https://localhost:8080/"
        },
        "id": "jTm2FyWYKnuw",
        "outputId": "2f1472c3-9468-4a25-9bc7-bdc349b17155"
      },
      "execution_count": 28,
      "outputs": [
        {
          "output_type": "stream",
          "name": "stdout",
          "text": [
            "<class 'pandas.core.frame.DataFrame'>\n",
            "DatetimeIndex: 551 entries, 2020-01-02 to 2022-03-28\n",
            "Data columns (total 1 columns):\n",
            " #   Column  Non-Null Count  Dtype  \n",
            "---  ------  --------------  -----  \n",
            " 0   Close   551 non-null    float64\n",
            "dtypes: float64(1)\n",
            "memory usage: 8.6 KB\n",
            "              Close\n",
            "Date               \n",
            "2020-01-02  55200.0\n",
            "2020-01-03  55500.0\n",
            "2020-01-06  55500.0\n",
            "2020-01-07  55800.0\n",
            "2020-01-08  56800.0\n"
          ]
        }
      ]
    },
    {
      "cell_type": "code",
      "source": [
        "minmaxscaler = MinMaxScaler()\n",
        "scaled_data = minmaxscaler.fit_transform(data_close)\n",
        "print(scaled_data[:5])\n",
        "print(scaled_data.shape)"
      ],
      "metadata": {
        "colab": {
          "base_uri": "https://localhost:8080/"
        },
        "id": "sQUKLbjCOeXP",
        "outputId": "0e8621b5-a654-4aa9-fc40-a8fa6e906a35"
      },
      "execution_count": 25,
      "outputs": [
        {
          "output_type": "stream",
          "name": "stdout",
          "text": [
            "[[0.26185567]\n",
            " [0.26804124]\n",
            " [0.26804124]\n",
            " [0.2742268 ]\n",
            " [0.29484536]]\n",
            "(551, 1)\n"
          ]
        }
      ]
    },
    {
      "cell_type": "code",
      "source": [
        "sequence_X = []\n",
        "sequence_Y = []\n",
        "\n",
        "for i in range(len(scaled_data)-30): #30개의 data를 가지고 비교\n",
        "  x = scaled_data[i:i+30] #scaled_data 30개 중 Close만\n",
        "  y = scaled_data[i+30] # 30개를 기준으로 그 다음날의 Close\n",
        "  sequence_X.append(x)\n",
        "  sequence_Y.append(y)\n",
        "print(sequence_X[:5])\n",
        "print(sequence_Y[:5])"
      ],
      "metadata": {
        "colab": {
          "base_uri": "https://localhost:8080/"
        },
        "id": "QqvL6X9iL3ZQ",
        "outputId": "907015a6-8d49-451b-c227-ffb18beea6d4"
      },
      "execution_count": 21,
      "outputs": [
        {
          "output_type": "stream",
          "name": "stdout",
          "text": [
            "[array([[0.26185567],\n",
            "       [0.26804124],\n",
            "       [0.26804124],\n",
            "       [0.2742268 ],\n",
            "       [0.29484536],\n",
            "       [0.33195876],\n",
            "       [0.35051546],\n",
            "       [0.36082474],\n",
            "       [0.36082474],\n",
            "       [0.34020619],\n",
            "       [0.37525773],\n",
            "       [0.38762887],\n",
            "       [0.41030928],\n",
            "       [0.38969072],\n",
            "       [0.40824742],\n",
            "       [0.37731959],\n",
            "       [0.33608247],\n",
            "       [0.34226804],\n",
            "       [0.30309278],\n",
            "       [0.28659794],\n",
            "       [0.30309278],\n",
            "       [0.33814433],\n",
            "       [0.35051546],\n",
            "       [0.38350515],\n",
            "       [0.36907216],\n",
            "       [0.35463918],\n",
            "       [0.35876289],\n",
            "       [0.37113402],\n",
            "       [0.37525773],\n",
            "       [0.39793814]]), array([[0.26804124],\n",
            "       [0.26804124],\n",
            "       [0.2742268 ],\n",
            "       [0.29484536],\n",
            "       [0.33195876],\n",
            "       [0.35051546],\n",
            "       [0.36082474],\n",
            "       [0.36082474],\n",
            "       [0.34020619],\n",
            "       [0.37525773],\n",
            "       [0.38762887],\n",
            "       [0.41030928],\n",
            "       [0.38969072],\n",
            "       [0.40824742],\n",
            "       [0.37731959],\n",
            "       [0.33608247],\n",
            "       [0.34226804],\n",
            "       [0.30309278],\n",
            "       [0.28659794],\n",
            "       [0.30309278],\n",
            "       [0.33814433],\n",
            "       [0.35051546],\n",
            "       [0.38350515],\n",
            "       [0.36907216],\n",
            "       [0.35463918],\n",
            "       [0.35876289],\n",
            "       [0.37113402],\n",
            "       [0.37525773],\n",
            "       [0.39793814],\n",
            "       [0.39175258]]), array([[0.26804124],\n",
            "       [0.2742268 ],\n",
            "       [0.29484536],\n",
            "       [0.33195876],\n",
            "       [0.35051546],\n",
            "       [0.36082474],\n",
            "       [0.36082474],\n",
            "       [0.34020619],\n",
            "       [0.37525773],\n",
            "       [0.38762887],\n",
            "       [0.41030928],\n",
            "       [0.38969072],\n",
            "       [0.40824742],\n",
            "       [0.37731959],\n",
            "       [0.33608247],\n",
            "       [0.34226804],\n",
            "       [0.30309278],\n",
            "       [0.28659794],\n",
            "       [0.30309278],\n",
            "       [0.33814433],\n",
            "       [0.35051546],\n",
            "       [0.38350515],\n",
            "       [0.36907216],\n",
            "       [0.35463918],\n",
            "       [0.35876289],\n",
            "       [0.37113402],\n",
            "       [0.37525773],\n",
            "       [0.39793814],\n",
            "       [0.39175258],\n",
            "       [0.35670103]]), array([[0.2742268 ],\n",
            "       [0.29484536],\n",
            "       [0.33195876],\n",
            "       [0.35051546],\n",
            "       [0.36082474],\n",
            "       [0.36082474],\n",
            "       [0.34020619],\n",
            "       [0.37525773],\n",
            "       [0.38762887],\n",
            "       [0.41030928],\n",
            "       [0.38969072],\n",
            "       [0.40824742],\n",
            "       [0.37731959],\n",
            "       [0.33608247],\n",
            "       [0.34226804],\n",
            "       [0.30309278],\n",
            "       [0.28659794],\n",
            "       [0.30309278],\n",
            "       [0.33814433],\n",
            "       [0.35051546],\n",
            "       [0.38350515],\n",
            "       [0.36907216],\n",
            "       [0.35463918],\n",
            "       [0.35876289],\n",
            "       [0.37113402],\n",
            "       [0.37525773],\n",
            "       [0.39793814],\n",
            "       [0.39175258],\n",
            "       [0.35670103],\n",
            "       [0.36494845]]), array([[0.29484536],\n",
            "       [0.33195876],\n",
            "       [0.35051546],\n",
            "       [0.36082474],\n",
            "       [0.36082474],\n",
            "       [0.34020619],\n",
            "       [0.37525773],\n",
            "       [0.38762887],\n",
            "       [0.41030928],\n",
            "       [0.38969072],\n",
            "       [0.40824742],\n",
            "       [0.37731959],\n",
            "       [0.33608247],\n",
            "       [0.34226804],\n",
            "       [0.30309278],\n",
            "       [0.28659794],\n",
            "       [0.30309278],\n",
            "       [0.33814433],\n",
            "       [0.35051546],\n",
            "       [0.38350515],\n",
            "       [0.36907216],\n",
            "       [0.35463918],\n",
            "       [0.35876289],\n",
            "       [0.37113402],\n",
            "       [0.37525773],\n",
            "       [0.39793814],\n",
            "       [0.39175258],\n",
            "       [0.35670103],\n",
            "       [0.36494845],\n",
            "       [0.36082474]])]\n",
            "[array([0.39175258]), array([0.35670103]), array([0.36494845]), array([0.36082474]), array([0.3443299])]\n"
          ]
        }
      ]
    },
    {
      "cell_type": "code",
      "source": [
        "sequence_X = np.array(sequence_X)\n",
        "sequence_Y = np.array(sequence_Y)\n",
        "print(sequence_X[0])\n",
        "print(sequence_Y[0])\n",
        "print(sequence_X.shape)\n",
        "print(sequence_Y.shape)"
      ],
      "metadata": {
        "colab": {
          "base_uri": "https://localhost:8080/"
        },
        "id": "HY99tv8ZRqV_",
        "outputId": "766b8e32-66d9-45c4-ba93-bc23440f52a0"
      },
      "execution_count": 32,
      "outputs": [
        {
          "output_type": "stream",
          "name": "stdout",
          "text": [
            "[[0.26185567]\n",
            " [0.26804124]\n",
            " [0.26804124]\n",
            " [0.2742268 ]\n",
            " [0.29484536]\n",
            " [0.33195876]\n",
            " [0.35051546]\n",
            " [0.36082474]\n",
            " [0.36082474]\n",
            " [0.34020619]\n",
            " [0.37525773]\n",
            " [0.38762887]\n",
            " [0.41030928]\n",
            " [0.38969072]\n",
            " [0.40824742]\n",
            " [0.37731959]\n",
            " [0.33608247]\n",
            " [0.34226804]\n",
            " [0.30309278]\n",
            " [0.28659794]\n",
            " [0.30309278]\n",
            " [0.33814433]\n",
            " [0.35051546]\n",
            " [0.38350515]\n",
            " [0.36907216]\n",
            " [0.35463918]\n",
            " [0.35876289]\n",
            " [0.37113402]\n",
            " [0.37525773]\n",
            " [0.39793814]]\n",
            "[0.39175258]\n",
            "(521, 30, 1)\n",
            "(521, 1)\n"
          ]
        }
      ]
    },
    {
      "cell_type": "code",
      "source": [
        "X_train, X_test, Y_train, Y_test = train_test_split(\n",
        "    sequence_X, sequence_Y, test_size = 0.2)\n",
        "print(X_train.shape, Y_train.shape)\n",
        "print(X_test.shape, Y_test.shape)"
      ],
      "metadata": {
        "colab": {
          "base_uri": "https://localhost:8080/"
        },
        "id": "HVAb594FaSyK",
        "outputId": "18aadb61-8404-4640-8f66-f4f80c210aff"
      },
      "execution_count": 33,
      "outputs": [
        {
          "output_type": "stream",
          "name": "stdout",
          "text": [
            "(416, 30, 1) (416, 1)\n",
            "(105, 30, 1) (105, 1)\n"
          ]
        }
      ]
    },
    {
      "cell_type": "code",
      "source": [
        "model = Sequential()\n",
        "model.add(LSTM(50, input_shape=(30,1),\n",
        "               activation = 'tanh')) #LSTM은 activation으로 tanh, tanh는 -1 ~ 1 사이의 값\n",
        "model.add(Flatten())\n",
        "model.add(Dense(1)) # 예측한 값을 그래도 써야 하기 때문에 마지막에는 activation을 사용하지 않는다\n",
        "model.compile(loss = 'mse', optimizer='adam') # 분류가 아니므로 metrics를 안 쓴다.\n",
        "model.summary()"
      ],
      "metadata": {
        "colab": {
          "base_uri": "https://localhost:8080/"
        },
        "id": "sClVdSKFdG9w",
        "outputId": "317daebb-adc5-4554-cd9a-dea233e35e69"
      },
      "execution_count": 35,
      "outputs": [
        {
          "output_type": "stream",
          "name": "stdout",
          "text": [
            "Model: \"sequential_1\"\n",
            "_________________________________________________________________\n",
            " Layer (type)                Output Shape              Param #   \n",
            "=================================================================\n",
            " lstm (LSTM)                 (None, 50)                10400     \n",
            "                                                                 \n",
            " flatten (Flatten)           (None, 50)                0         \n",
            "                                                                 \n",
            " dense (Dense)               (None, 1)                 51        \n",
            "                                                                 \n",
            "=================================================================\n",
            "Total params: 10,451\n",
            "Trainable params: 10,451\n",
            "Non-trainable params: 0\n",
            "_________________________________________________________________\n"
          ]
        }
      ]
    },
    {
      "cell_type": "code",
      "source": [
        "fit_hist = model.fit(X_train, Y_train, epochs = 100, \n",
        "                     validation_data = (X_test, Y_test), shuffle = False) # 매 epoch 마다 validation_data의 값만큼 뽑아 loss 값만 검증,(X_test, Y_test)에 back를 하지 않아 학습(수정)하지 않는다. \n",
        "                     #but forward에서 data 가 많아 학습 효과가 좋다, shuffle = False=>data를 넣는 순서대로 한다."
      ],
      "metadata": {
        "colab": {
          "base_uri": "https://localhost:8080/"
        },
        "id": "ZgYE3dXqeNlS",
        "outputId": "c3048091-7890-430c-adc1-82d5646dded8"
      },
      "execution_count": 36,
      "outputs": [
        {
          "output_type": "stream",
          "name": "stdout",
          "text": [
            "Epoch 1/100\n",
            "13/13 [==============================] - 3s 60ms/step - loss: 0.0782 - val_loss: 0.0207\n",
            "Epoch 2/100\n",
            "13/13 [==============================] - 0s 16ms/step - loss: 0.0090 - val_loss: 0.0112\n",
            "Epoch 3/100\n",
            "13/13 [==============================] - 0s 16ms/step - loss: 0.0056 - val_loss: 0.0045\n",
            "Epoch 4/100\n",
            "13/13 [==============================] - 0s 16ms/step - loss: 0.0034 - val_loss: 0.0044\n",
            "Epoch 5/100\n",
            "13/13 [==============================] - 0s 15ms/step - loss: 0.0029 - val_loss: 0.0032\n",
            "Epoch 6/100\n",
            "13/13 [==============================] - 0s 16ms/step - loss: 0.0024 - val_loss: 0.0032\n",
            "Epoch 7/100\n",
            "13/13 [==============================] - 0s 17ms/step - loss: 0.0022 - val_loss: 0.0031\n",
            "Epoch 8/100\n",
            "13/13 [==============================] - 0s 16ms/step - loss: 0.0022 - val_loss: 0.0030\n",
            "Epoch 9/100\n",
            "13/13 [==============================] - 0s 17ms/step - loss: 0.0021 - val_loss: 0.0030\n",
            "Epoch 10/100\n",
            "13/13 [==============================] - 0s 17ms/step - loss: 0.0021 - val_loss: 0.0029\n",
            "Epoch 11/100\n",
            "13/13 [==============================] - 0s 16ms/step - loss: 0.0020 - val_loss: 0.0029\n",
            "Epoch 12/100\n",
            "13/13 [==============================] - 0s 15ms/step - loss: 0.0020 - val_loss: 0.0028\n",
            "Epoch 13/100\n",
            "13/13 [==============================] - 0s 15ms/step - loss: 0.0020 - val_loss: 0.0028\n",
            "Epoch 14/100\n",
            "13/13 [==============================] - 0s 16ms/step - loss: 0.0020 - val_loss: 0.0028\n",
            "Epoch 15/100\n",
            "13/13 [==============================] - 0s 16ms/step - loss: 0.0019 - val_loss: 0.0027\n",
            "Epoch 16/100\n",
            "13/13 [==============================] - 0s 17ms/step - loss: 0.0019 - val_loss: 0.0027\n",
            "Epoch 17/100\n",
            "13/13 [==============================] - 0s 16ms/step - loss: 0.0019 - val_loss: 0.0026\n",
            "Epoch 18/100\n",
            "13/13 [==============================] - 0s 16ms/step - loss: 0.0019 - val_loss: 0.0026\n",
            "Epoch 19/100\n",
            "13/13 [==============================] - 0s 16ms/step - loss: 0.0018 - val_loss: 0.0025\n",
            "Epoch 20/100\n",
            "13/13 [==============================] - 0s 16ms/step - loss: 0.0018 - val_loss: 0.0025\n",
            "Epoch 21/100\n",
            "13/13 [==============================] - 0s 18ms/step - loss: 0.0018 - val_loss: 0.0025\n",
            "Epoch 22/100\n",
            "13/13 [==============================] - 0s 16ms/step - loss: 0.0017 - val_loss: 0.0024\n",
            "Epoch 23/100\n",
            "13/13 [==============================] - 0s 16ms/step - loss: 0.0017 - val_loss: 0.0024\n",
            "Epoch 24/100\n",
            "13/13 [==============================] - 0s 16ms/step - loss: 0.0017 - val_loss: 0.0023\n",
            "Epoch 25/100\n",
            "13/13 [==============================] - 0s 16ms/step - loss: 0.0017 - val_loss: 0.0023\n",
            "Epoch 26/100\n",
            "13/13 [==============================] - 0s 16ms/step - loss: 0.0016 - val_loss: 0.0022\n",
            "Epoch 27/100\n",
            "13/13 [==============================] - 0s 17ms/step - loss: 0.0016 - val_loss: 0.0022\n",
            "Epoch 28/100\n",
            "13/13 [==============================] - 0s 16ms/step - loss: 0.0016 - val_loss: 0.0022\n",
            "Epoch 29/100\n",
            "13/13 [==============================] - 0s 19ms/step - loss: 0.0016 - val_loss: 0.0021\n",
            "Epoch 30/100\n",
            "13/13 [==============================] - 0s 18ms/step - loss: 0.0016 - val_loss: 0.0021\n",
            "Epoch 31/100\n",
            "13/13 [==============================] - 0s 17ms/step - loss: 0.0015 - val_loss: 0.0020\n",
            "Epoch 32/100\n",
            "13/13 [==============================] - 0s 17ms/step - loss: 0.0015 - val_loss: 0.0020\n",
            "Epoch 33/100\n",
            "13/13 [==============================] - 0s 17ms/step - loss: 0.0015 - val_loss: 0.0020\n",
            "Epoch 34/100\n",
            "13/13 [==============================] - 0s 16ms/step - loss: 0.0015 - val_loss: 0.0019\n",
            "Epoch 35/100\n",
            "13/13 [==============================] - 0s 18ms/step - loss: 0.0014 - val_loss: 0.0019\n",
            "Epoch 36/100\n",
            "13/13 [==============================] - 0s 16ms/step - loss: 0.0014 - val_loss: 0.0018\n",
            "Epoch 37/100\n",
            "13/13 [==============================] - 0s 16ms/step - loss: 0.0014 - val_loss: 0.0018\n",
            "Epoch 38/100\n",
            "13/13 [==============================] - 0s 16ms/step - loss: 0.0014 - val_loss: 0.0018\n",
            "Epoch 39/100\n",
            "13/13 [==============================] - 0s 17ms/step - loss: 0.0014 - val_loss: 0.0018\n",
            "Epoch 40/100\n",
            "13/13 [==============================] - 0s 16ms/step - loss: 0.0014 - val_loss: 0.0017\n",
            "Epoch 41/100\n",
            "13/13 [==============================] - 0s 16ms/step - loss: 0.0014 - val_loss: 0.0017\n",
            "Epoch 42/100\n",
            "13/13 [==============================] - 0s 15ms/step - loss: 0.0013 - val_loss: 0.0017\n",
            "Epoch 43/100\n",
            "13/13 [==============================] - 0s 15ms/step - loss: 0.0013 - val_loss: 0.0017\n",
            "Epoch 44/100\n",
            "13/13 [==============================] - 0s 17ms/step - loss: 0.0013 - val_loss: 0.0017\n",
            "Epoch 45/100\n",
            "13/13 [==============================] - 0s 16ms/step - loss: 0.0013 - val_loss: 0.0017\n",
            "Epoch 46/100\n",
            "13/13 [==============================] - 0s 15ms/step - loss: 0.0013 - val_loss: 0.0017\n",
            "Epoch 47/100\n",
            "13/13 [==============================] - 0s 17ms/step - loss: 0.0013 - val_loss: 0.0016\n",
            "Epoch 48/100\n",
            "13/13 [==============================] - 0s 16ms/step - loss: 0.0013 - val_loss: 0.0016\n",
            "Epoch 49/100\n",
            "13/13 [==============================] - 0s 17ms/step - loss: 0.0013 - val_loss: 0.0016\n",
            "Epoch 50/100\n",
            "13/13 [==============================] - 0s 17ms/step - loss: 0.0012 - val_loss: 0.0016\n",
            "Epoch 51/100\n",
            "13/13 [==============================] - 0s 16ms/step - loss: 0.0012 - val_loss: 0.0016\n",
            "Epoch 52/100\n",
            "13/13 [==============================] - 0s 16ms/step - loss: 0.0012 - val_loss: 0.0016\n",
            "Epoch 53/100\n",
            "13/13 [==============================] - 0s 18ms/step - loss: 0.0012 - val_loss: 0.0016\n",
            "Epoch 54/100\n",
            "13/13 [==============================] - 0s 17ms/step - loss: 0.0012 - val_loss: 0.0015\n",
            "Epoch 55/100\n",
            "13/13 [==============================] - 0s 17ms/step - loss: 0.0012 - val_loss: 0.0015\n",
            "Epoch 56/100\n",
            "13/13 [==============================] - 0s 17ms/step - loss: 0.0012 - val_loss: 0.0015\n",
            "Epoch 57/100\n",
            "13/13 [==============================] - 0s 18ms/step - loss: 0.0012 - val_loss: 0.0015\n",
            "Epoch 58/100\n",
            "13/13 [==============================] - 0s 17ms/step - loss: 0.0012 - val_loss: 0.0015\n",
            "Epoch 59/100\n",
            "13/13 [==============================] - 0s 16ms/step - loss: 0.0012 - val_loss: 0.0015\n",
            "Epoch 60/100\n",
            "13/13 [==============================] - 0s 16ms/step - loss: 0.0012 - val_loss: 0.0015\n",
            "Epoch 61/100\n",
            "13/13 [==============================] - 0s 16ms/step - loss: 0.0011 - val_loss: 0.0015\n",
            "Epoch 62/100\n",
            "13/13 [==============================] - 0s 16ms/step - loss: 0.0011 - val_loss: 0.0014\n",
            "Epoch 63/100\n",
            "13/13 [==============================] - 0s 16ms/step - loss: 0.0011 - val_loss: 0.0014\n",
            "Epoch 64/100\n",
            "13/13 [==============================] - 0s 16ms/step - loss: 0.0011 - val_loss: 0.0014\n",
            "Epoch 65/100\n",
            "13/13 [==============================] - 0s 16ms/step - loss: 0.0011 - val_loss: 0.0014\n",
            "Epoch 66/100\n",
            "13/13 [==============================] - 0s 16ms/step - loss: 0.0011 - val_loss: 0.0014\n",
            "Epoch 67/100\n",
            "13/13 [==============================] - 0s 17ms/step - loss: 0.0011 - val_loss: 0.0014\n",
            "Epoch 68/100\n",
            "13/13 [==============================] - 0s 19ms/step - loss: 0.0011 - val_loss: 0.0014\n",
            "Epoch 69/100\n",
            "13/13 [==============================] - 0s 17ms/step - loss: 0.0011 - val_loss: 0.0014\n",
            "Epoch 70/100\n",
            "13/13 [==============================] - 0s 17ms/step - loss: 0.0011 - val_loss: 0.0014\n",
            "Epoch 71/100\n",
            "13/13 [==============================] - 0s 16ms/step - loss: 0.0011 - val_loss: 0.0014\n",
            "Epoch 72/100\n",
            "13/13 [==============================] - 0s 17ms/step - loss: 0.0011 - val_loss: 0.0013\n",
            "Epoch 73/100\n",
            "13/13 [==============================] - 0s 19ms/step - loss: 0.0011 - val_loss: 0.0013\n",
            "Epoch 74/100\n",
            "13/13 [==============================] - 0s 17ms/step - loss: 0.0010 - val_loss: 0.0013\n",
            "Epoch 75/100\n",
            "13/13 [==============================] - 0s 15ms/step - loss: 0.0010 - val_loss: 0.0013\n",
            "Epoch 76/100\n",
            "13/13 [==============================] - 0s 17ms/step - loss: 0.0010 - val_loss: 0.0013\n",
            "Epoch 77/100\n",
            "13/13 [==============================] - 0s 17ms/step - loss: 0.0010 - val_loss: 0.0013\n",
            "Epoch 78/100\n",
            "13/13 [==============================] - 0s 17ms/step - loss: 0.0010 - val_loss: 0.0013\n",
            "Epoch 79/100\n",
            "13/13 [==============================] - 0s 17ms/step - loss: 0.0010 - val_loss: 0.0013\n",
            "Epoch 80/100\n",
            "13/13 [==============================] - 0s 16ms/step - loss: 0.0010 - val_loss: 0.0013\n",
            "Epoch 81/100\n",
            "13/13 [==============================] - 0s 16ms/step - loss: 9.9799e-04 - val_loss: 0.0013\n",
            "Epoch 82/100\n",
            "13/13 [==============================] - 0s 16ms/step - loss: 9.9164e-04 - val_loss: 0.0013\n",
            "Epoch 83/100\n",
            "13/13 [==============================] - 0s 18ms/step - loss: 9.8535e-04 - val_loss: 0.0013\n",
            "Epoch 84/100\n",
            "13/13 [==============================] - 0s 17ms/step - loss: 9.7911e-04 - val_loss: 0.0013\n",
            "Epoch 85/100\n",
            "13/13 [==============================] - 0s 17ms/step - loss: 9.7294e-04 - val_loss: 0.0012\n",
            "Epoch 86/100\n",
            "13/13 [==============================] - 0s 17ms/step - loss: 9.6682e-04 - val_loss: 0.0012\n",
            "Epoch 87/100\n",
            "13/13 [==============================] - 0s 16ms/step - loss: 9.6077e-04 - val_loss: 0.0012\n",
            "Epoch 88/100\n",
            "13/13 [==============================] - 0s 15ms/step - loss: 9.5477e-04 - val_loss: 0.0012\n",
            "Epoch 89/100\n",
            "13/13 [==============================] - 0s 16ms/step - loss: 9.4883e-04 - val_loss: 0.0012\n",
            "Epoch 90/100\n",
            "13/13 [==============================] - 0s 16ms/step - loss: 9.4294e-04 - val_loss: 0.0012\n",
            "Epoch 91/100\n",
            "13/13 [==============================] - 0s 16ms/step - loss: 9.3711e-04 - val_loss: 0.0012\n",
            "Epoch 92/100\n",
            "13/13 [==============================] - 0s 16ms/step - loss: 9.3134e-04 - val_loss: 0.0012\n",
            "Epoch 93/100\n",
            "13/13 [==============================] - 0s 17ms/step - loss: 9.2563e-04 - val_loss: 0.0012\n",
            "Epoch 94/100\n",
            "13/13 [==============================] - 0s 18ms/step - loss: 9.1998e-04 - val_loss: 0.0012\n",
            "Epoch 95/100\n",
            "13/13 [==============================] - 0s 18ms/step - loss: 9.1438e-04 - val_loss: 0.0012\n",
            "Epoch 96/100\n",
            "13/13 [==============================] - 0s 15ms/step - loss: 9.0885e-04 - val_loss: 0.0012\n",
            "Epoch 97/100\n",
            "13/13 [==============================] - 0s 17ms/step - loss: 9.0337e-04 - val_loss: 0.0012\n",
            "Epoch 98/100\n",
            "13/13 [==============================] - 0s 16ms/step - loss: 8.9795e-04 - val_loss: 0.0012\n",
            "Epoch 99/100\n",
            "13/13 [==============================] - 0s 16ms/step - loss: 8.9258e-04 - val_loss: 0.0012\n",
            "Epoch 100/100\n",
            "13/13 [==============================] - 0s 17ms/step - loss: 8.8728e-04 - val_loss: 0.0012\n"
          ]
        }
      ]
    },
    {
      "cell_type": "code",
      "source": [
        "plt.plot(fit_hist.history['loss'][10:], label = 'loss')\n",
        "plt.plot(fit_hist.history['val_loss'][10:], label = 'val_loss')\n",
        "plt.legend()\n",
        "plt.show()"
      ],
      "metadata": {
        "colab": {
          "base_uri": "https://localhost:8080/",
          "height": 265
        },
        "id": "VGdln6WTgB64",
        "outputId": "7bff0e6c-5fea-419d-b398-0f4e0f3f6770"
      },
      "execution_count": 38,
      "outputs": [
        {
          "output_type": "display_data",
          "data": {
            "text/plain": [
              "<Figure size 432x288 with 1 Axes>"
            ],
            "image/png": "[encoded data removed]"
          },
          "metadata": {
            "needs_background": "light"
          }
        }
      ]
    },
    {
      "cell_type": "code",
      "source": [
        "model.save('./stock_close_predict.h5')"
      ],
      "metadata": {
        "id": "6ycW2hXxh8Uu"
      },
      "execution_count": 39,
      "outputs": []
    },
    {
      "cell_type": "code",
      "source": [
        "pred = model.predict(X_test)"
      ],
      "metadata": {
        "id": "qxWH2gvDiUKp"
      },
      "execution_count": 40,
      "outputs": []
    },
    {
      "cell_type": "code",
      "source": [
        "plt.plot(Y_test[:30], label = 'actual')\n",
        "plt.plot(pred[:30], label = 'predict')\n",
        "plt.legend()\n",
        "plt.show()"
      ],
      "metadata": {
        "colab": {
          "base_uri": "https://localhost:8080/",
          "height": 265
        },
        "id": "0oD25LhYie9m",
        "outputId": "5b7a52b4-daea-44d9-dd4d-fa8f3e4ea1d7"
      },
      "execution_count": 42,
      "outputs": [
        {
          "output_type": "display_data",
          "data": {
            "text/plain": [
              "<Figure size 432x288 with 1 Axes>"
            ],
            "image/png": "[encoded data removed]"
          },
          "metadata": {
            "needs_background": "light"
          }
        }
      ]
    },
    {
      "cell_type": "code",
      "source": [
        "last_data_30 = scaled_data[-30:].reshape(1, 30, 1)\n",
        "today_close = model.predict(last_data_30)\n",
        "\n",
        "print(today_close)"
      ],
      "metadata": {
        "colab": {
          "base_uri": "https://localhost:8080/"
        },
        "id": "k9--5WjMivhs",
        "outputId": "a9bacb5b-6160-42d8-e7c8-c8efdbaff4f3"
      },
      "execution_count": 44,
      "outputs": [
        {
          "output_type": "stream",
          "name": "stdout",
          "text": [
            "[[0.5658047]]\n"
          ]
        }
      ]
    },
    {
      "cell_type": "code",
      "source": [
        "today_close_value = minmaxscaler.inverse_transform(today_close)\n",
        "print(today_close_value)"
      ],
      "metadata": {
        "colab": {
          "base_uri": "https://localhost:8080/"
        },
        "id": "_pnI5B3hmJp1",
        "outputId": "8f58e876-7bcb-456d-fb38-2fe56ed4e692"
      },
      "execution_count": 45,
      "outputs": [
        {
          "output_type": "stream",
          "name": "stdout",
          "text": [
            "[[69941.53]]\n"
          ]
        }
      ]
    },
    {
      "cell_type": "code",
      "source": [
        "today_actual = 70200\n",
        "today_actual = np.array(today_actual).reshape(1,1)\n",
        "scaled_today_actual = minmaxscaler.transform(today_actual) # fit_transfrom -> minmaxscaler가 가지고 있는 min, max 정보가 달라진다.\n",
        "print(scaled_today_actual)"
      ],
      "metadata": {
        "colab": {
          "base_uri": "https://localhost:8080/"
        },
        "id": "m0Zs7_7Nm9jg",
        "outputId": "f7994fdb-16a5-4e09-cae5-15b23b14bb43"
      },
      "execution_count": 50,
      "outputs": [
        {
          "output_type": "stream",
          "name": "stdout",
          "text": [
            "[[0.57113402]]\n"
          ]
        },
        {
          "output_type": "stream",
          "name": "stderr",
          "text": [
            "/usr/local/lib/python3.7/dist-packages/sklearn/base.py:451: UserWarning: X does not have valid feature names, but MinMaxScaler was fitted with feature names\n",
            "  \"X does not have valid feature names, but\"\n"
          ]
        }
      ]
    },
    {
      "cell_type": "code",
      "source": [
        "last_data_29 = scaled_data[-29:]\n",
        "last_data_30 = np.append(last_data_29,scaled_today_actual)\n",
        "last_data_30= last_data_30.reshape(1,30,1)\n",
        "print(last_data_30.shape)\n"
      ],
      "metadata": {
        "colab": {
          "base_uri": "https://localhost:8080/"
        },
        "id": "yW8sc-b6n6xN",
        "outputId": "4dbc23af-e652-4882-e2f6-004004fb665e"
      },
      "execution_count": 53,
      "outputs": [
        {
          "output_type": "stream",
          "name": "stdout",
          "text": [
            "(1, 30, 1)\n"
          ]
        }
      ]
    },
    {
      "cell_type": "code",
      "source": [
        "tomorrow_pred = model.predict(last_data_30)\n",
        "tomorrow_predicted_value = minmaxscaler.inverse_transform(tomorrow_pred)\n",
        "print('%d'%tomorrow_predicted_value[0][0])"
      ],
      "metadata": {
        "colab": {
          "base_uri": "https://localhost:8080/"
        },
        "id": "doJ5vDbmo4A1",
        "outputId": "15305fec-9917-43b6-9ece-eb0084e588e0"
      },
      "execution_count": 56,
      "outputs": [
        {
          "output_type": "stream",
          "name": "stdout",
          "text": [
            "69987\n"
          ]
        }
      ]
    },
    {
      "cell_type": "code",
      "source": [
        ""
      ],
      "metadata": {
        "id": "3NSDtE7xpmSE"
      },
      "execution_count": null,
      "outputs": []
    }
  ]
}