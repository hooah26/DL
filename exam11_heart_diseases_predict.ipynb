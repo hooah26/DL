{
  "nbformat": 4,
  "nbformat_minor": 0,
  "metadata": {
    "colab": {
      "name": "exam11_heart_diseases_predict.ipynb",
      "provenance": []
    },
    "kernelspec": {
      "name": "python3",
      "display_name": "Python 3"
    },
    "language_info": {
      "name": "python"
    }
  },
  "cells": [
    {
      "cell_type": "code",
      "execution_count": 50,
      "metadata": {
        "id": "AhOuy5MQ7Tga"
      },
      "outputs": [],
      "source": [
        "import numpy as np\n",
        "from tensorflow.keras.models import Sequential\n",
        "from tensorflow.keras.layers import Dense, Dropout\n",
        "import matplotlib.pyplot as plt\n",
        "import pandas as pd\n"
      ]
    },
    {
      "cell_type": "code",
      "source": [
        "column_name = ['age', 'sex', 'cp', 'treshbps', 'chol', \n",
        "               'fbs',\n",
        "               'restecg', 'thalach', 'exang', 'oldpeak', \n",
        "               'slope',\n",
        "               'ca', 'thal', 'HeartDisease']\n",
        "raw_data = pd.read_excel('./datasets/heart-disease.xlsx',\n",
        "                         header=None, names=column_name)\n",
        "print(raw_data.head(20))"
      ],
      "metadata": {
        "colab": {
          "base_uri": "https://localhost:8080/"
        },
        "id": "cXoYGK7Y8Fku",
        "outputId": "1de91ec0-8e30-43c4-927d-3c9e07bb5b4d"
      },
      "execution_count": 32,
      "outputs": [
        {
          "output_type": "stream",
          "name": "stdout",
          "text": [
            "    age  sex  cp  treshbps chol  fbs  restecg  thalach  exang  oldpeak  slope  \\\n",
            "0    63    1   1       145  233    1        2      150      0      2.3      3   \n",
            "1    67    1   4       160  286    0        0      108      1      1.5      2   \n",
            "2    67    1   4       120    ?    0        2      129      1      2.6      2   \n",
            "3    37    1   3       130  250    0        0      187      0      3.5      3   \n",
            "4    41    0   2       130  204    0        2      172      0      1.4      1   \n",
            "5    56    1   2       120  236    0        0      178      0      0.8      1   \n",
            "6    62    0   4       140  268    0        2      160      0      3.6      3   \n",
            "7    57    0   4       120  354    0        0      163      1      0.6      1   \n",
            "8    63    1   4       130  254    0        2      147      0      1.4      2   \n",
            "9    53    1   4       140  203    1        2      155      1      3.1      3   \n",
            "10   57    1   4       140  192    0        0      148      0      0.4      2   \n",
            "11   56    0   2       140  294    0        2      153      0      1.3      2   \n",
            "12   56    1   3       130  256    1        2      142      1      0.6      2   \n",
            "13   44    1   2       120  263    0        0      173      0      0.0      1   \n",
            "14   52    1   3       172  199    1        0      162      0      0.5      1   \n",
            "15   57    1   3       150  168    0        0      174      0      1.6      1   \n",
            "16   48    1   2       110  229    0        0      168      0      1.0      3   \n",
            "17   54    1   4       140  239    0        0      160      0      1.2      1   \n",
            "18   48    0   3       130  275    0        0      139      0      0.2      1   \n",
            "19   49    1   2       130  266    0        0      171      0      0.6      1   \n",
            "\n",
            "   ca thal  HeartDisease  \n",
            "0   0    6             0  \n",
            "1   3    3             1  \n",
            "2   2    7             1  \n",
            "3   0    3             0  \n",
            "4   0    3             0  \n",
            "5   0    3             0  \n",
            "6   2    3             1  \n",
            "7   0    3             0  \n",
            "8   1    7             1  \n",
            "9   0    7             1  \n",
            "10  0    6             0  \n",
            "11  0    3             0  \n",
            "12  1    6             1  \n",
            "13  0    7             0  \n",
            "14  0    7             0  \n",
            "15  0    3             0  \n",
            "16  0    7             1  \n",
            "17  0    3             0  \n",
            "18  0    3             0  \n",
            "19  0    3             0  \n"
          ]
        }
      ]
    },
    {
      "cell_type": "code",
      "source": [
        "print(raw_data.describe().T)"
      ],
      "metadata": {
        "colab": {
          "base_uri": "https://localhost:8080/"
        },
        "id": "yWM1-qrg8vtG",
        "outputId": "a99f6a69-dbc4-45fd-a14c-1080b28e7b2b"
      },
      "execution_count": 33,
      "outputs": [
        {
          "output_type": "stream",
          "name": "stdout",
          "text": [
            "              count        mean        std   min    25%    50%    75%    max\n",
            "age           303.0   54.438944   9.038662  29.0   48.0   56.0   61.0   77.0\n",
            "sex           303.0    0.679868   0.467299   0.0    0.0    1.0    1.0    1.0\n",
            "cp            303.0    3.158416   0.960126   1.0    3.0    3.0    4.0    4.0\n",
            "treshbps      303.0  131.689769  17.599748  94.0  120.0  130.0  140.0  200.0\n",
            "fbs           303.0    0.148515   0.356198   0.0    0.0    0.0    0.0    1.0\n",
            "restecg       303.0    0.983498   0.994883   0.0    0.0    0.0    2.0    2.0\n",
            "thalach       303.0  149.607261  22.875003  71.0  133.5  153.0  166.0  202.0\n",
            "exang         303.0    0.326733   0.469794   0.0    0.0    0.0    1.0    1.0\n",
            "oldpeak       303.0    1.039604   1.161075   0.0    0.0    0.8    1.6    6.2\n",
            "slope         303.0    1.600660   0.616226   1.0    1.0    2.0    2.0    3.0\n",
            "HeartDisease  303.0    0.458746   0.499120   0.0    0.0    0.0    1.0    1.0\n"
          ]
        }
      ]
    },
    {
      "cell_type": "code",
      "source": [
        "raw_data.info()"
      ],
      "metadata": {
        "colab": {
          "base_uri": "https://localhost:8080/"
        },
        "id": "MMI-d3tJ83JV",
        "outputId": "30a3d086-ae90-49f6-df86-9af0fde7e0a7"
      },
      "execution_count": 34,
      "outputs": [
        {
          "output_type": "stream",
          "name": "stdout",
          "text": [
            "<class 'pandas.core.frame.DataFrame'>\n",
            "RangeIndex: 303 entries, 0 to 302\n",
            "Data columns (total 14 columns):\n",
            " #   Column        Non-Null Count  Dtype  \n",
            "---  ------        --------------  -----  \n",
            " 0   age           303 non-null    int64  \n",
            " 1   sex           303 non-null    int64  \n",
            " 2   cp            303 non-null    int64  \n",
            " 3   treshbps      303 non-null    int64  \n",
            " 4   chol          303 non-null    object \n",
            " 5   fbs           303 non-null    int64  \n",
            " 6   restecg       303 non-null    int64  \n",
            " 7   thalach       303 non-null    int64  \n",
            " 8   exang         303 non-null    int64  \n",
            " 9   oldpeak       303 non-null    float64\n",
            " 10  slope         303 non-null    int64  \n",
            " 11  ca            303 non-null    object \n",
            " 12  thal          303 non-null    object \n",
            " 13  HeartDisease  303 non-null    int64  \n",
            "dtypes: float64(1), int64(10), object(3)\n",
            "memory usage: 33.3+ KB\n"
          ]
        }
      ]
    },
    {
      "cell_type": "code",
      "source": [
        "clean_data = raw_data.replace('?', np.nan)\n",
        "clean_data = clean_data.dropna()\n",
        "print(clean_data.info())"
      ],
      "metadata": {
        "colab": {
          "base_uri": "https://localhost:8080/"
        },
        "id": "ZuBpuD3D9FN1",
        "outputId": "2caa2403-116b-478b-9084-f9e7c27d4bdd"
      },
      "execution_count": 35,
      "outputs": [
        {
          "output_type": "stream",
          "name": "stdout",
          "text": [
            "<class 'pandas.core.frame.DataFrame'>\n",
            "Int64Index: 296 entries, 0 to 301\n",
            "Data columns (total 14 columns):\n",
            " #   Column        Non-Null Count  Dtype  \n",
            "---  ------        --------------  -----  \n",
            " 0   age           296 non-null    int64  \n",
            " 1   sex           296 non-null    int64  \n",
            " 2   cp            296 non-null    int64  \n",
            " 3   treshbps      296 non-null    int64  \n",
            " 4   chol          296 non-null    float64\n",
            " 5   fbs           296 non-null    int64  \n",
            " 6   restecg       296 non-null    int64  \n",
            " 7   thalach       296 non-null    int64  \n",
            " 8   exang         296 non-null    int64  \n",
            " 9   oldpeak       296 non-null    float64\n",
            " 10  slope         296 non-null    int64  \n",
            " 11  ca            296 non-null    float64\n",
            " 12  thal          296 non-null    float64\n",
            " 13  HeartDisease  296 non-null    int64  \n",
            "dtypes: float64(4), int64(10)\n",
            "memory usage: 34.7 KB\n",
            "None\n"
          ]
        }
      ]
    },
    {
      "cell_type": "code",
      "source": [
        "keep = column_name.pop()\n",
        "print(keep)\n",
        "print(column_name)"
      ],
      "metadata": {
        "colab": {
          "base_uri": "https://localhost:8080/"
        },
        "id": "YQj2c_Oz9n1s",
        "outputId": "f61674d4-e033-4aa8-ce10-a21513e65d43"
      },
      "execution_count": 36,
      "outputs": [
        {
          "output_type": "stream",
          "name": "stdout",
          "text": [
            "HeartDisease\n",
            "['age', 'sex', 'cp', 'treshbps', 'chol', 'fbs', 'restecg', 'thalach', 'exang', 'oldpeak', 'slope', 'ca', 'thal']\n"
          ]
        }
      ]
    },
    {
      "cell_type": "code",
      "source": [
        "training_data = clean_data[column_name]\n",
        "target = clean_data[[keep]]\n",
        "print(training_data.head())\n",
        "print(target.head())"
      ],
      "metadata": {
        "colab": {
          "base_uri": "https://localhost:8080/"
        },
        "id": "XTg34agD-MdE",
        "outputId": "6c60c622-54d0-4f46-f097-928b65e9fcd2"
      },
      "execution_count": 37,
      "outputs": [
        {
          "output_type": "stream",
          "name": "stdout",
          "text": [
            "   age  sex  cp  treshbps   chol  fbs  restecg  thalach  exang  oldpeak  \\\n",
            "0   63    1   1       145  233.0    1        2      150      0      2.3   \n",
            "1   67    1   4       160  286.0    0        0      108      1      1.5   \n",
            "3   37    1   3       130  250.0    0        0      187      0      3.5   \n",
            "4   41    0   2       130  204.0    0        2      172      0      1.4   \n",
            "5   56    1   2       120  236.0    0        0      178      0      0.8   \n",
            "\n",
            "   slope   ca  thal  \n",
            "0      3  0.0   6.0  \n",
            "1      2  3.0   3.0  \n",
            "3      3  0.0   3.0  \n",
            "4      1  0.0   3.0  \n",
            "5      1  0.0   3.0  \n",
            "   HeartDisease\n",
            "0             0\n",
            "1             1\n",
            "3             0\n",
            "4             0\n",
            "5             0\n"
          ]
        }
      ]
    },
    {
      "cell_type": "code",
      "source": [
        "print(target[keep].sum())"
      ],
      "metadata": {
        "colab": {
          "base_uri": "https://localhost:8080/"
        },
        "id": "T_vb-Csn-5KK",
        "outputId": "f172ebc7-62c6-420b-d926-7fdfdbb8d101"
      },
      "execution_count": 38,
      "outputs": [
        {
          "output_type": "stream",
          "name": "stdout",
          "text": [
            "136\n"
          ]
        }
      ]
    },
    {
      "cell_type": "code",
      "source": [
        "print(target[keep].mean())"
      ],
      "metadata": {
        "colab": {
          "base_uri": "https://localhost:8080/"
        },
        "id": "CdhLoH03_MtB",
        "outputId": "45a41dba-ce80-4b7c-b561-f0c3f7fc2844"
      },
      "execution_count": 39,
      "outputs": [
        {
          "output_type": "stream",
          "name": "stdout",
          "text": [
            "0.4594594594594595\n"
          ]
        }
      ]
    },
    {
      "cell_type": "code",
      "source": [
        "# 어떤 col이 중요한지는 아직 모르기 때문에 col의 스케일을 맞출 필요가 있다., but 명목측도는 another encoding을 해야한다\n",
        "# cp는 가슴통증의 정도는 1 ~ 4로 나눈것이다. 그렇기 때문에 1개의 col로 하는 것이 아니라 각각의 통증 정도에 별개의 col을 만든다. -> 3 col의 경우 가슴통증이 3이면 1, 이외에는 0 즉 명목척도는 이런 전처리\n",
        "\n",
        "from sklearn.preprocessing import StandardScaler\n",
        "scaler = StandardScaler()\n",
        "scaled_data = scaler.fit_transform(training_data) # 표준정규분표로 만드는 함수\n",
        "print(type(scaled_data))\n",
        "scaled_data = pd.DataFrame(scaled_data, columns = column_name)\n",
        "print(scaled_data.head())\n",
        "# 평균이 0 표준편차가 1인 정규분호=> 표준정규분표"
      ],
      "metadata": {
        "colab": {
          "base_uri": "https://localhost:8080/"
        },
        "id": "z5YXkqFLAGCM",
        "outputId": "aa014a0d-a12d-43d9-e0e2-89e91dff8e0f"
      },
      "execution_count": 40,
      "outputs": [
        {
          "output_type": "stream",
          "name": "stdout",
          "text": [
            "<class 'numpy.ndarray'>\n",
            "        age       sex        cp  treshbps      chol       fbs   restecg  \\\n",
            "0  0.942285  0.692820 -2.236793  0.747441 -0.277228  2.425638  1.020526   \n",
            "1  1.385714  0.692820  0.876486  1.592523  0.742265 -0.412263 -0.993312   \n",
            "2 -1.939999  0.692820 -0.161274 -0.097641  0.049779 -0.412263 -0.993312   \n",
            "3 -1.496571 -1.443376 -1.199033 -0.097641 -0.835064 -0.412263  1.020526   \n",
            "4  0.166286  0.692820 -1.199033 -0.661029 -0.219521 -0.412263 -0.993312   \n",
            "\n",
            "    thalach     exang   oldpeak     slope        ca      thal  \n",
            "0  0.014451 -0.692820  1.074839  2.264087 -0.718421  0.660262  \n",
            "1 -1.818794  1.443376  0.386756  0.645320  2.487397 -0.890830  \n",
            "2  1.629453 -0.692820  2.106963  2.264087 -0.718421 -0.890830  \n",
            "3  0.974723 -0.692820  0.300746 -0.973448 -0.718421 -0.890830  \n",
            "4  1.236615 -0.692820 -0.215316 -0.973448 -0.718421 -0.890830  \n"
          ]
        }
      ]
    },
    {
      "cell_type": "code",
      "source": [
        "print(scaled_data.describe().T) #모든 data 가 평균이 0 표준편차가 1"
      ],
      "metadata": {
        "colab": {
          "base_uri": "https://localhost:8080/"
        },
        "id": "nEc29iAoDOHt",
        "outputId": "40ede7d2-2dce-4e68-b7f2-af9f7fbe5f0b"
      },
      "execution_count": 41,
      "outputs": [
        {
          "output_type": "stream",
          "name": "stdout",
          "text": [
            "          count          mean       std       min       25%       50%  \\\n",
            "age       296.0  4.500904e-18  1.001693 -2.826856 -0.720571  0.166286   \n",
            "sex       296.0  2.850573e-17  1.001693 -1.443376 -1.443376  0.692820   \n",
            "cp        296.0  1.200241e-16  1.001693 -2.236793 -0.161274 -0.161274   \n",
            "treshbps  296.0  6.067781e-16  1.001693 -2.125838 -0.661029 -0.097641   \n",
            "chol      296.0  1.997276e-17  1.001693 -2.335451 -0.700414 -0.084871   \n",
            "fbs       296.0  7.501507e-19  1.001693 -0.412263 -0.412263 -0.412263   \n",
            "restecg   296.0  2.182939e-16  1.001693 -0.993312 -0.993312 -0.489853   \n",
            "thalach   296.0  6.458797e-16  1.001693 -3.433796 -0.694840  0.145397   \n",
            "exang     296.0  5.926190e-17  1.001693 -0.692820 -0.692820 -0.692820   \n",
            "oldpeak   296.0 -7.951597e-17  1.001693 -0.903399 -0.903399 -0.215316   \n",
            "slope     296.0  1.155232e-16  1.001693 -0.973448 -0.973448  0.645320   \n",
            "ca        296.0  6.526311e-17  1.001693 -0.718421 -0.718421 -0.718421   \n",
            "thal      296.0 -2.663035e-17  1.001693 -0.890830 -0.890830 -0.890830   \n",
            "\n",
            "               75%       max  \n",
            "age       0.720571  2.494285  \n",
            "sex       0.692820  0.692820  \n",
            "cp        0.876486  0.876486  \n",
            "treshbps  0.465747  3.846075  \n",
            "chol      0.554717  6.089796  \n",
            "fbs      -0.412263  2.425638  \n",
            "restecg   1.020526  1.020526  \n",
            "thalach   0.712830  2.284183  \n",
            "exang     1.443376  1.443376  \n",
            "oldpeak   0.472766  4.429243  \n",
            "slope     0.645320  2.264087  \n",
            "ca        0.350185  2.487397  \n",
            "thal      1.177293  1.177293  \n"
          ]
        }
      ]
    },
    {
      "cell_type": "code",
      "source": [
        "scaled_data.boxplot(column = column_name, showmeans= True)# showmeans 도 나오게\n",
        "# plt.show()"
      ],
      "metadata": {
        "colab": {
          "base_uri": "https://localhost:8080/",
          "height": 283
        },
        "id": "QwifL50YDxNc",
        "outputId": "5b2a4890-f983-4559-f2cf-6b066baf9379"
      },
      "execution_count": 42,
      "outputs": [
        {
          "output_type": "execute_result",
          "data": {
            "text/plain": [
              "<matplotlib.axes._subplots.AxesSubplot at 0x7fc842e807d0>"
            ]
          },
          "metadata": {},
          "execution_count": 42
        },
        {
          "output_type": "display_data",
          "data": {
            "text/plain": [
              "<Figure size 432x288 with 1 Axes>"
            ],
            "image/png": "[encoded data removed]"
          },
          "metadata": {
            "needs_background": "light"
          }
        }
      ]
    },
    {
      "cell_type": "code",
      "source": [
        "# 과대적합 = 답만 외운 것, data가 조금만 달라져도 답을 주기 힘든 것\n",
        "# 과소적합 = 학습이 덜 된 상태"
      ],
      "metadata": {
        "id": "5Waw1JnzEJUM"
      },
      "execution_count": 43,
      "outputs": []
    },
    {
      "cell_type": "code",
      "source": [
        "from sklearn.model_selection import train_test_split\n",
        "X_train, X_test, Y_train, Y_test = train_test_split(scaled_data, target, test_size = 0.30) # data 중 30%를 검증용으로 따로 보관한다. 랜덤하게\n",
        "print('X_train :', X_train.shape)\n",
        "print('X_test :', X_test.shape)\n",
        "print('Y_train :', Y_train.shape)\n",
        "print('Y_test :', Y_test.shape)"
      ],
      "metadata": {
        "colab": {
          "base_uri": "https://localhost:8080/"
        },
        "id": "btEo4xWGFB0h",
        "outputId": "22865496-7909-4bad-f14f-c67a8b2d5704"
      },
      "execution_count": 45,
      "outputs": [
        {
          "output_type": "stream",
          "name": "stdout",
          "text": [
            "X_train : (207, 13)\n",
            "X_test : (89, 13)\n",
            "Y_train : (207, 1)\n",
            "Y_test : (89, 1)\n"
          ]
        }
      ]
    },
    {
      "cell_type": "code",
      "source": [
        "model = Sequential()\n",
        "model.add(Dense(512 ,input_dim = 13, activation = 'relu')) # Param = 13*512+512 \n",
        "model.add(Dropout(0.25)) # weight 중에 25%는 backward를 하지 않는다->weight, bias를 수정하지 않는다 , 매 epoch 마다 새롭게 25%를 뽑는다. 조절을 해 가며 찾아야 한다(경험적으로).\n",
        "model.add(Dense(256, activation = 'relu'))\n",
        "model.add(Dropout(0.2)) \n",
        "model.add(Dense(128, activation = 'relu'))\n",
        "model.add(Dropout(0.1)) \n",
        "model.add(Dense(1, activation = 'sigmoid'))\n",
        "model.summary()"
      ],
      "metadata": {
        "colab": {
          "base_uri": "https://localhost:8080/"
        },
        "id": "a7YLzWFKFsiV",
        "outputId": "0b0adf61-b3f9-41fb-be7e-7aa666bd0cb3"
      },
      "execution_count": 57,
      "outputs": [
        {
          "output_type": "stream",
          "name": "stdout",
          "text": [
            "Model: \"sequential_2\"\n",
            "_________________________________________________________________\n",
            " Layer (type)                Output Shape              Param #   \n",
            "=================================================================\n",
            " dense_8 (Dense)             (None, 512)               7168      \n",
            "                                                                 \n",
            " dropout_3 (Dropout)         (None, 512)               0         \n",
            "                                                                 \n",
            " dense_9 (Dense)             (None, 256)               131328    \n",
            "                                                                 \n",
            " dropout_4 (Dropout)         (None, 256)               0         \n",
            "                                                                 \n",
            " dense_10 (Dense)            (None, 128)               32896     \n",
            "                                                                 \n",
            " dropout_5 (Dropout)         (None, 128)               0         \n",
            "                                                                 \n",
            " dense_11 (Dense)            (None, 1)                 129       \n",
            "                                                                 \n",
            "=================================================================\n",
            "Total params: 171,521\n",
            "Trainable params: 171,521\n",
            "Non-trainable params: 0\n",
            "_________________________________________________________________\n"
          ]
        }
      ]
    },
    {
      "cell_type": "code",
      "source": [
        "model.compile(loss='mse', optimizer = 'adam', metrics= ['binary_accuracy']) # type1 error와 type2 error는 상보적관계, 데이터의 특성에 따라 민감도 특이도 정확도 등을 다르게 봐야 한다\n",
        "fit_hist = model.fit(X_train, Y_train, batch_size = 50, epochs = 10, # batch_size => data를 50개씩 잘라서 학습, 50문제 이후 mse로 확인 후 재학습 \n",
        "                     validation_split=0.2, verbose = 1) #validation_split = 첫 epochs에서는 80%를 뽑아서 학습, 그 후 나머지 20%를 가지고 검증을 한다"
      ],
      "metadata": {
        "colab": {
          "base_uri": "https://localhost:8080/"
        },
        "id": "nQ6zmT5kXwfB",
        "outputId": "c3b53e0e-fb63-439b-fa06-70cd9922ad87"
      },
      "execution_count": 58,
      "outputs": [
        {
          "output_type": "stream",
          "name": "stdout",
          "text": [
            "Epoch 1/10\n",
            "4/4 [==============================] - 1s 64ms/step - loss: 0.2190 - binary_accuracy: 0.6667 - val_loss: 0.1601 - val_binary_accuracy: 0.7619\n",
            "Epoch 2/10\n",
            "4/4 [==============================] - 0s 14ms/step - loss: 0.1375 - binary_accuracy: 0.8727 - val_loss: 0.1234 - val_binary_accuracy: 0.7857\n",
            "Epoch 3/10\n",
            "4/4 [==============================] - 0s 17ms/step - loss: 0.0969 - binary_accuracy: 0.8970 - val_loss: 0.1207 - val_binary_accuracy: 0.8095\n",
            "Epoch 4/10\n",
            "4/4 [==============================] - 0s 14ms/step - loss: 0.0834 - binary_accuracy: 0.8788 - val_loss: 0.1329 - val_binary_accuracy: 0.8095\n",
            "Epoch 5/10\n",
            "4/4 [==============================] - 0s 17ms/step - loss: 0.0791 - binary_accuracy: 0.8909 - val_loss: 0.1373 - val_binary_accuracy: 0.8095\n",
            "Epoch 6/10\n",
            "4/4 [==============================] - 0s 15ms/step - loss: 0.0682 - binary_accuracy: 0.9091 - val_loss: 0.1399 - val_binary_accuracy: 0.8095\n",
            "Epoch 7/10\n",
            "4/4 [==============================] - 0s 15ms/step - loss: 0.0651 - binary_accuracy: 0.9030 - val_loss: 0.1434 - val_binary_accuracy: 0.8095\n",
            "Epoch 8/10\n",
            "4/4 [==============================] - 0s 14ms/step - loss: 0.0522 - binary_accuracy: 0.9333 - val_loss: 0.1464 - val_binary_accuracy: 0.8095\n",
            "Epoch 9/10\n",
            "4/4 [==============================] - 0s 16ms/step - loss: 0.0569 - binary_accuracy: 0.9333 - val_loss: 0.1445 - val_binary_accuracy: 0.8095\n",
            "Epoch 10/10\n",
            "4/4 [==============================] - 0s 14ms/step - loss: 0.0499 - binary_accuracy: 0.9455 - val_loss: 0.1467 - val_binary_accuracy: 0.8095\n"
          ]
        }
      ]
    },
    {
      "cell_type": "code",
      "source": [
        "# binary_accuracy => 분류를 할 때 분류가 되었는지 확인 할 경우 , loss => 값을 예측할 때 얼마나 해당하는 값에 가까이 갔는지 확일할 때 \n",
        "plt.plot(fit_hist.history['binary_accuracy']) # 80%가지고 구한 정확도\n",
        "plt.plot(fit_hist.history['val_binary_accuracy']) # \n",
        "plt.show()"
      ],
      "metadata": {
        "colab": {
          "base_uri": "https://localhost:8080/",
          "height": 265
        },
        "id": "cqVOqlfGYtNr",
        "outputId": "9e4a057d-59df-45f2-f445-3de43caa3e01"
      },
      "execution_count": 48,
      "outputs": [
        {
          "output_type": "display_data",
          "data": {
            "text/plain": [
              "<Figure size 432x288 with 1 Axes>"
            ],
            "image/png": "[encoded data removed]"
          },
          "metadata": {
            "needs_background": "light"
          }
        }
      ]
    },
    {
      "cell_type": "code",
      "source": [
        "plt.plot(fit_hist.history['binary_accuracy']) # 80%가지고 구한 정확도\n",
        "plt.plot(fit_hist.history['val_binary_accuracy']) # \n",
        "plt.show()"
      ],
      "metadata": {
        "colab": {
          "base_uri": "https://localhost:8080/",
          "height": 265
        },
        "id": "Z6j3Po4zevLP",
        "outputId": "8d4fad77-8223-446f-a19f-a18a663ba21f"
      },
      "execution_count": 59,
      "outputs": [
        {
          "output_type": "display_data",
          "data": {
            "text/plain": [
              "<Figure size 432x288 with 1 Axes>"
            ],
            "image/png": "[encoded data removed]"
          },
          "metadata": {
            "needs_background": "light"
          }
        }
      ]
    },
    {
      "cell_type": "code",
      "source": [
        "score = model.evaluate(X_test, Y_test, verbose= 0) # evaluate :학습을 하지 않고 loss, binary_accuracy  반환 , x 입력 y 타겟\n",
        "print('Keras DNN model loss :',score[0])\n",
        "print('Keras DNN model accuracy :',score[1]) \n",
        "# 무작정 많이 학습을 많이 하는 것이 좋은 것이 아니다. 학습을 많이 하게되면 과적합을 할 수 있다."
      ],
      "metadata": {
        "colab": {
          "base_uri": "https://localhost:8080/"
        },
        "id": "lxbGi16Ka1_r",
        "outputId": "4c05929e-a3cc-41b2-e000-0aec527bde2b"
      },
      "execution_count": 60,
      "outputs": [
        {
          "output_type": "stream",
          "name": "stdout",
          "text": [
            "Keras DNN model loss : 0.20319430530071259\n",
            "Keras DNN model accuracy : 0.7415730357170105\n"
          ]
        }
      ]
    },
    {
      "cell_type": "code",
      "source": [
        ""
      ],
      "metadata": {
        "id": "0wYryiKPccIk"
      },
      "execution_count": null,
      "outputs": []
    }
  ]
}