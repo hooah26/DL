{
  "nbformat": 4,
  "nbformat_minor": 0,
  "metadata": {
    "colab": {
      "name": "exam15_classfication_fashion_MNIST.ipynb",
      "provenance": [],
      "collapsed_sections": []
    },
    "kernelspec": {
      "name": "python3",
      "display_name": "Python 3"
    },
    "language_info": {
      "name": "python"
    }
  },
  "cells": [
    {
      "cell_type": "code",
      "execution_count": 1,
      "metadata": {
        "id": "2E8ZpPc7XhQs"
      },
      "outputs": [],
      "source": [
        "import numpy as np\n",
        "import matplotlib.pyplot as plt\n",
        "from tensorflow.keras.models import Sequential\n",
        "from tensorflow.keras.layers import Dense\n",
        "from tensorflow.keras import datasets # 이미 train, test 가 나눠져 있다.\n",
        "from keras.utils import np_utils"
      ]
    },
    {
      "cell_type": "code",
      "source": [
        "(X_train, Y_train), (X_test, Y_test) = datasets.fashion_mnist.load_data()\n",
        "print(X_train.shape, Y_train.shape)\n",
        "print(X_test.shape, Y_test.shape)"
      ],
      "metadata": {
        "colab": {
          "base_uri": "https://localhost:8080/"
        },
        "id": "qbRLprjyYHeo",
        "outputId": "429fea95-fc75-40b6-fc3e-42fd0063583f"
      },
      "execution_count": 2,
      "outputs": [
        {
          "output_type": "stream",
          "name": "stdout",
          "text": [
            "Downloading data from https://storage.googleapis.com/tensorflow/tf-keras-datasets/train-labels-idx1-ubyte.gz\n",
            "32768/29515 [=================================] - 0s 0us/step\n",
            "40960/29515 [=========================================] - 0s 0us/step\n",
            "Downloading data from https://storage.googleapis.com/tensorflow/tf-keras-datasets/train-images-idx3-ubyte.gz\n",
            "26427392/26421880 [==============================] - 0s 0us/step\n",
            "26435584/26421880 [==============================] - 0s 0us/step\n",
            "Downloading data from https://storage.googleapis.com/tensorflow/tf-keras-datasets/t10k-labels-idx1-ubyte.gz\n",
            "16384/5148 [===============================================================================================] - 0s 0us/step\n",
            "Downloading data from https://storage.googleapis.com/tensorflow/tf-keras-datasets/t10k-images-idx3-ubyte.gz\n",
            "4423680/4422102 [==============================] - 0s 0us/step\n",
            "4431872/4422102 [==============================] - 0s 0us/step\n",
            "(60000, 28, 28) (60000,)\n",
            "(10000, 28, 28) (10000,)\n"
          ]
        }
      ]
    },
    {
      "cell_type": "code",
      "source": [
        "label = ['T-shirt', 'trouser', 'pullover', 'dress', 'coat',\n",
        "         'sandal', 'shirt', 'sneaker', 'bag', 'ankle boot']"
      ],
      "metadata": {
        "id": "jaUSrBPm3EWb"
      },
      "execution_count": 17,
      "outputs": []
    },
    {
      "cell_type": "code",
      "source": [
        "my_sample = np.random.randint(60000)\n",
        "plt.imshow(X_train[my_sample], cmap = 'gray')\n",
        "plt.show()\n",
        "print(Y_train[my_sample]) # Y 값 one hot, scailing\n",
        "print(X_train[my_sample]) # 이미지는 각자의 픽셀의 값을 숫자로 나타낸 것"
      ],
      "metadata": {
        "colab": {
          "base_uri": "https://localhost:8080/",
          "height": 1000
        },
        "id": "M4b7N9jfYv4Q",
        "outputId": "269807d9-4420-45be-840e-365db3b22761"
      },
      "execution_count": 4,
      "outputs": [
        {
          "output_type": "display_data",
          "data": {
            "text/plain": [
              "<Figure size 432x288 with 1 Axes>"
            ],
            "image/png": "[encoded data removed]"
          },
          "metadata": {
            "needs_background": "light"
          }
        },
        {
          "output_type": "stream",
          "name": "stdout",
          "text": [
            "4\n",
            "[[  0   0   0   0   0   0   0   0   0   0   0   0   0   0  94 152  84   0\n",
            "    0   0   0   0   0   0   0   0   0   0]\n",
            " [  0   0   0   0   0   0   0   0   0   0   0   0 104 254 235 240 242 219\n",
            "    0   0   2   0   0   0   0   0   0   0]\n",
            " [  0   0   0   0   0   0   0   0   1   0   0  73 231 230 210 215 218 236\n",
            "  219  19   0   3   0   0   0   0   0   0]\n",
            " [  0   0   0   0   0   0   0   0   5   0  82 244 229 229 230 217 228 222\n",
            "  242 153   0   5   1   0   0   0   0   0]\n",
            " [  0   0   0   0   0   0   0   0   0   0  64 232 220 193 195 199 194 210\n",
            "  225  86   0   0   0   1   0   0   0   0]\n",
            " [  0   0   0   0   0   0   0   0   0  32 187 230 231 233 198 199 208 214\n",
            "  223 253 130  32   0   0   0   0   0   0]\n",
            " [  0   0   0   0   0   0   0  53 203 221 221 217 220 224 191 197 191 220\n",
            "  217 220 228 217 142   0   0   0   0   0]\n",
            " [  0   0   0   0   0   0   0 179 226 199 201 201 199 216 180 193 190 213\n",
            "  205 219 209 212 195   0   0   0   0   0]\n",
            " [  0   0   0   0   0   0   0 196 213 202 209 209 198 211 197 197 193 212\n",
            "  200 200 192 205 196   1   0   0   0   0]\n",
            " [  0   0   0   0   0   0  20 213 216 201 202 220 202 206 193 192 186 223\n",
            "  113 131  55 203 232  15   0   0   0   0]\n",
            " [  0   0   0   0   0   0  48 216 218 197 198 216 211 190 196 196 186 201\n",
            "  134 151 136 226 226  44   0   0   0   0]\n",
            " [  0   0   0   0   0   0 101 208 223 183 202 202 222 195 191 200 185 208\n",
            "  101 129  72 213 219  70   0   0   0   0]\n",
            " [  0   0   0   0   0   0 130 208 222 190 186 196 209 214 198 197 187 185\n",
            "  204 217 231 207 216  82   0   0   0   0]\n",
            " [  0   0   0   0   0   0 136 208 219 201 191 195 193 209 200 192 183 195\n",
            "  187 174 179 200 213  98   0   0   0   0]\n",
            " [  0   0   0   0   0   0 145 207 217 210 197 204 196 196 197 181 189 191\n",
            "  196 190 194 206 209 112   0   0   0   0]\n",
            " [  0   0   0   0   0   0 161 208 215 206 199 210 199 204 214 215 213 191\n",
            "  194 191 204 199 204 134   0   0   0   0]\n",
            " [  0   0   0   0   0   0 178 209 208 207 200 203 203 225 188 188 199 211\n",
            "  190 191 203 195 199 160   0   0   0   0]\n",
            " [  0   0   0   0   0   0 191 210 204 207 202 205 216 211 194 187 191 208\n",
            "  201 193 205 191 196 177   0   0   0   0]\n",
            " [  0   0   0   0   0   0 194 212 210 208 206 209 208 217 198 192 193 199\n",
            "  210 195 201 201 202 197   0   0   0   0]\n",
            " [  0   0   0   0   0   0 196 215 210 212 209 210 212 220 200 205 205 199\n",
            "  208 195 200 211 192 203   0   0   0   0]\n",
            " [  0   0   0   0   0   0 192 215 210 211 211 212 216 213 201 193 194 202\n",
            "  210 198 199 200 189 201   0   0   0   0]\n",
            " [  0   0   0   0   0   0 215 228 225 220 211 212 211 217 191 208 199 195\n",
            "  214 197 207 217 195 218   0   0   0   0]\n",
            " [  0   0   0   0   0   0 155 168 171 217 213 208 208 214 202 189 208 184\n",
            "  212 194 217 220 191 191   0   0   0   0]\n",
            " [  0   0   0   0   0   0 150 123 134 218 212 211 217 209 197 204 207 191\n",
            "  204 214 207 123 116 122   0   0   0   0]\n",
            " [  0   0   0   0   0   0 199 233 233 214 210 220 218 220 203 199 214 215\n",
            "  206 214 219 227 221 207   0   0   0   0]\n",
            " [  0   0   0   0   0   0 154 240 241 224 209 215 208 203 217 207 203 205\n",
            "  209 208 221 233 231 197   0   0   0   0]\n",
            " [  0   0   0   0   0   0  67 180  97 130 255 251 249 242 242 246 240 243\n",
            "  253 255 142  64 142  55   0   0   0   0]\n",
            " [  0   0   0   0   0   0   0   0   0   0  89 125 122 132 137 142 136 120\n",
            "  108  58   0   0   0   0   0   0   0   0]]\n"
          ]
        }
      ]
    },
    {
      "cell_type": "code",
      "source": [
        ""
      ],
      "metadata": {
        "id": "5JUcZ-Ne3Cx8"
      },
      "execution_count": null,
      "outputs": []
    },
    {
      "cell_type": "code",
      "source": [
        "y_train = np_utils.to_categorical(Y_train) #ont hot을 자동으로 해주는 함수, to_categorical, OneHotEncoder, get_dummies \n",
        "y_test = np_utils.to_categorical(Y_test)\n",
        "print(Y_train[5000])\n",
        "print(y_train[5000])"
      ],
      "metadata": {
        "colab": {
          "base_uri": "https://localhost:8080/"
        },
        "id": "fsIvDV8qZX6z",
        "outputId": "3c904f8d-8255-422e-8fdb-f75a91f43427"
      },
      "execution_count": 5,
      "outputs": [
        {
          "output_type": "stream",
          "name": "stdout",
          "text": [
            "4\n",
            "[0. 0. 0. 0. 1. 0. 0. 0. 0. 0.]\n"
          ]
        }
      ]
    },
    {
      "cell_type": "code",
      "source": [
        "x_train = X_train.reshape(-1, 28 * 28)\n",
        "x_test = X_test.reshape(-1, 28 * 28)\n",
        "x_train = x_train / 255 # MinMaxScaler\n",
        "x_test = x_test / 255\n",
        "print(x_train.shape)"
      ],
      "metadata": {
        "colab": {
          "base_uri": "https://localhost:8080/"
        },
        "id": "vWK2cTc_ccxn",
        "outputId": "f93e18c4-53c1-4451-ff2b-426b46bca83f"
      },
      "execution_count": 6,
      "outputs": [
        {
          "output_type": "stream",
          "name": "stdout",
          "text": [
            "(60000, 784)\n"
          ]
        }
      ]
    },
    {
      "cell_type": "code",
      "source": [
        "model = Sequential()\n",
        "model.add(Dense(128, input_dim = 28 * 28, activation = 'relu'))\n",
        "model.add(Dense(128, activation = 'relu'))\n",
        "model.add(Dense(10, activation = 'softmax'))"
      ],
      "metadata": {
        "id": "6qsNIF-xdeNg"
      },
      "execution_count": 7,
      "outputs": []
    },
    {
      "cell_type": "code",
      "source": [
        "model.compile(optimizer = 'adam', loss = 'categorical_crossentropy',\n",
        "              metrics = ['accuracy'])\n",
        "model.summary()"
      ],
      "metadata": {
        "colab": {
          "base_uri": "https://localhost:8080/"
        },
        "id": "8mG4vEj6eBCn",
        "outputId": "52b0f6b8-c8f0-4e29-e1bd-1de7725fa89f"
      },
      "execution_count": 8,
      "outputs": [
        {
          "output_type": "stream",
          "name": "stdout",
          "text": [
            "Model: \"sequential\"\n",
            "_________________________________________________________________\n",
            " Layer (type)                Output Shape              Param #   \n",
            "=================================================================\n",
            " dense (Dense)               (None, 128)               100480    \n",
            "                                                                 \n",
            " dense_1 (Dense)             (None, 128)               16512     \n",
            "                                                                 \n",
            " dense_2 (Dense)             (None, 10)                1290      \n",
            "                                                                 \n",
            "=================================================================\n",
            "Total params: 118,282\n",
            "Trainable params: 118,282\n",
            "Non-trainable params: 0\n",
            "_________________________________________________________________\n"
          ]
        }
      ]
    },
    {
      "cell_type": "code",
      "source": [
        "fit_hist = model.fit(x_train, y_train, batch_size=128, epochs = 20, validation_split = 0.2, verbose = 1)"
      ],
      "metadata": {
        "colab": {
          "base_uri": "https://localhost:8080/"
        },
        "id": "Y6IoQA6yeSnY",
        "outputId": "fe188429-54be-48f1-f637-d8949ac3b818"
      },
      "execution_count": 12,
      "outputs": [
        {
          "output_type": "stream",
          "name": "stdout",
          "text": [
            "Epoch 1/50\n",
            "375/375 [==============================] - 2s 6ms/step - loss: 0.2000 - accuracy: 0.9234 - val_loss: 0.3284 - val_accuracy: 0.8864\n",
            "Epoch 2/50\n",
            "375/375 [==============================] - 2s 5ms/step - loss: 0.1866 - accuracy: 0.9303 - val_loss: 0.3386 - val_accuracy: 0.8838\n",
            "Epoch 3/50\n",
            "375/375 [==============================] - 2s 5ms/step - loss: 0.1868 - accuracy: 0.9286 - val_loss: 0.3293 - val_accuracy: 0.8906\n",
            "Epoch 4/50\n",
            "375/375 [==============================] - 2s 6ms/step - loss: 0.1794 - accuracy: 0.9324 - val_loss: 0.3370 - val_accuracy: 0.8894\n",
            "Epoch 5/50\n",
            "375/375 [==============================] - 2s 6ms/step - loss: 0.1750 - accuracy: 0.9335 - val_loss: 0.3287 - val_accuracy: 0.8894\n",
            "Epoch 6/50\n",
            "375/375 [==============================] - 2s 5ms/step - loss: 0.1693 - accuracy: 0.9361 - val_loss: 0.3452 - val_accuracy: 0.8911\n",
            "Epoch 7/50\n",
            "375/375 [==============================] - 2s 5ms/step - loss: 0.1639 - accuracy: 0.9382 - val_loss: 0.3390 - val_accuracy: 0.8898\n",
            "Epoch 8/50\n",
            "375/375 [==============================] - 2s 5ms/step - loss: 0.1558 - accuracy: 0.9406 - val_loss: 0.3461 - val_accuracy: 0.8896\n",
            "Epoch 9/50\n",
            "375/375 [==============================] - 2s 6ms/step - loss: 0.1536 - accuracy: 0.9424 - val_loss: 0.3493 - val_accuracy: 0.8894\n",
            "Epoch 10/50\n",
            "375/375 [==============================] - 2s 5ms/step - loss: 0.1491 - accuracy: 0.9442 - val_loss: 0.3580 - val_accuracy: 0.8909\n",
            "Epoch 11/50\n",
            "375/375 [==============================] - 2s 5ms/step - loss: 0.1456 - accuracy: 0.9456 - val_loss: 0.3496 - val_accuracy: 0.8937\n",
            "Epoch 12/50\n",
            "375/375 [==============================] - 2s 6ms/step - loss: 0.1431 - accuracy: 0.9453 - val_loss: 0.3576 - val_accuracy: 0.8907\n",
            "Epoch 13/50\n",
            "375/375 [==============================] - 2s 5ms/step - loss: 0.1342 - accuracy: 0.9498 - val_loss: 0.3538 - val_accuracy: 0.8920\n",
            "Epoch 14/50\n",
            "375/375 [==============================] - 2s 5ms/step - loss: 0.1329 - accuracy: 0.9513 - val_loss: 0.3757 - val_accuracy: 0.8936\n",
            "Epoch 15/50\n",
            "375/375 [==============================] - 2s 5ms/step - loss: 0.1263 - accuracy: 0.9519 - val_loss: 0.4157 - val_accuracy: 0.8835\n",
            "Epoch 16/50\n",
            "375/375 [==============================] - 2s 5ms/step - loss: 0.1218 - accuracy: 0.9541 - val_loss: 0.4047 - val_accuracy: 0.8845\n",
            "Epoch 17/50\n",
            "375/375 [==============================] - 2s 5ms/step - loss: 0.1227 - accuracy: 0.9536 - val_loss: 0.3780 - val_accuracy: 0.8903\n",
            "Epoch 18/50\n",
            "375/375 [==============================] - 2s 5ms/step - loss: 0.1146 - accuracy: 0.9572 - val_loss: 0.4163 - val_accuracy: 0.8863\n",
            "Epoch 19/50\n",
            "375/375 [==============================] - 2s 5ms/step - loss: 0.1121 - accuracy: 0.9581 - val_loss: 0.4166 - val_accuracy: 0.8865\n",
            "Epoch 20/50\n",
            "375/375 [==============================] - 2s 5ms/step - loss: 0.1108 - accuracy: 0.9585 - val_loss: 0.4068 - val_accuracy: 0.8923\n",
            "Epoch 21/50\n",
            "375/375 [==============================] - 2s 5ms/step - loss: 0.1056 - accuracy: 0.9605 - val_loss: 0.4145 - val_accuracy: 0.8897\n",
            "Epoch 22/50\n",
            "375/375 [==============================] - 2s 5ms/step - loss: 0.0999 - accuracy: 0.9622 - val_loss: 0.4259 - val_accuracy: 0.8904\n",
            "Epoch 23/50\n",
            "375/375 [==============================] - 2s 5ms/step - loss: 0.1004 - accuracy: 0.9619 - val_loss: 0.4196 - val_accuracy: 0.8883\n",
            "Epoch 24/50\n",
            "375/375 [==============================] - 2s 6ms/step - loss: 0.1007 - accuracy: 0.9619 - val_loss: 0.4264 - val_accuracy: 0.8903\n",
            "Epoch 25/50\n",
            "375/375 [==============================] - 2s 5ms/step - loss: 0.0965 - accuracy: 0.9630 - val_loss: 0.4590 - val_accuracy: 0.8881\n",
            "Epoch 26/50\n",
            "375/375 [==============================] - 2s 5ms/step - loss: 0.0953 - accuracy: 0.9644 - val_loss: 0.4534 - val_accuracy: 0.8882\n",
            "Epoch 27/50\n",
            "375/375 [==============================] - 2s 5ms/step - loss: 0.0965 - accuracy: 0.9638 - val_loss: 0.4598 - val_accuracy: 0.8886\n",
            "Epoch 28/50\n",
            "375/375 [==============================] - 2s 5ms/step - loss: 0.0853 - accuracy: 0.9685 - val_loss: 0.4974 - val_accuracy: 0.8857\n",
            "Epoch 29/50\n",
            "375/375 [==============================] - 2s 6ms/step - loss: 0.0858 - accuracy: 0.9672 - val_loss: 0.4668 - val_accuracy: 0.8929\n",
            "Epoch 30/50\n",
            "375/375 [==============================] - 2s 5ms/step - loss: 0.0860 - accuracy: 0.9670 - val_loss: 0.4934 - val_accuracy: 0.8878\n",
            "Epoch 31/50\n",
            "375/375 [==============================] - 2s 5ms/step - loss: 0.0791 - accuracy: 0.9703 - val_loss: 0.4605 - val_accuracy: 0.8936\n",
            "Epoch 32/50\n",
            "375/375 [==============================] - 2s 5ms/step - loss: 0.0768 - accuracy: 0.9709 - val_loss: 0.4802 - val_accuracy: 0.8885\n",
            "Epoch 33/50\n",
            "375/375 [==============================] - 2s 6ms/step - loss: 0.0765 - accuracy: 0.9713 - val_loss: 0.5063 - val_accuracy: 0.8897\n",
            "Epoch 34/50\n",
            "375/375 [==============================] - 2s 6ms/step - loss: 0.0730 - accuracy: 0.9733 - val_loss: 0.5040 - val_accuracy: 0.8902\n",
            "Epoch 35/50\n",
            "375/375 [==============================] - 2s 6ms/step - loss: 0.0765 - accuracy: 0.9712 - val_loss: 0.4876 - val_accuracy: 0.8907\n",
            "Epoch 36/50\n",
            "375/375 [==============================] - 2s 5ms/step - loss: 0.0687 - accuracy: 0.9743 - val_loss: 0.5230 - val_accuracy: 0.8918\n",
            "Epoch 37/50\n",
            "375/375 [==============================] - 2s 5ms/step - loss: 0.0736 - accuracy: 0.9725 - val_loss: 0.4946 - val_accuracy: 0.8922\n",
            "Epoch 38/50\n",
            "375/375 [==============================] - 2s 6ms/step - loss: 0.0653 - accuracy: 0.9759 - val_loss: 0.5297 - val_accuracy: 0.8901\n",
            "Epoch 39/50\n",
            "375/375 [==============================] - 2s 5ms/step - loss: 0.0651 - accuracy: 0.9760 - val_loss: 0.5262 - val_accuracy: 0.8873\n",
            "Epoch 40/50\n",
            "375/375 [==============================] - 2s 5ms/step - loss: 0.0659 - accuracy: 0.9747 - val_loss: 0.5529 - val_accuracy: 0.8878\n",
            "Epoch 41/50\n",
            "375/375 [==============================] - 2s 5ms/step - loss: 0.0605 - accuracy: 0.9776 - val_loss: 0.5506 - val_accuracy: 0.8868\n",
            "Epoch 42/50\n",
            "375/375 [==============================] - 2s 5ms/step - loss: 0.0635 - accuracy: 0.9762 - val_loss: 0.5419 - val_accuracy: 0.8905\n",
            "Epoch 43/50\n",
            "375/375 [==============================] - 2s 5ms/step - loss: 0.0625 - accuracy: 0.9764 - val_loss: 0.5847 - val_accuracy: 0.8902\n",
            "Epoch 44/50\n",
            "375/375 [==============================] - 2s 5ms/step - loss: 0.0539 - accuracy: 0.9796 - val_loss: 0.5433 - val_accuracy: 0.8873\n",
            "Epoch 45/50\n",
            "375/375 [==============================] - 2s 6ms/step - loss: 0.0567 - accuracy: 0.9790 - val_loss: 0.6023 - val_accuracy: 0.8892\n",
            "Epoch 46/50\n",
            "375/375 [==============================] - 2s 6ms/step - loss: 0.0654 - accuracy: 0.9758 - val_loss: 0.5958 - val_accuracy: 0.8870\n",
            "Epoch 47/50\n",
            "375/375 [==============================] - 2s 6ms/step - loss: 0.0545 - accuracy: 0.9800 - val_loss: 0.5642 - val_accuracy: 0.8947\n",
            "Epoch 48/50\n",
            "375/375 [==============================] - 2s 6ms/step - loss: 0.0575 - accuracy: 0.9785 - val_loss: 0.6139 - val_accuracy: 0.8909\n",
            "Epoch 49/50\n",
            "375/375 [==============================] - 2s 5ms/step - loss: 0.0535 - accuracy: 0.9801 - val_loss: 0.5803 - val_accuracy: 0.8890\n",
            "Epoch 50/50\n",
            "375/375 [==============================] - 2s 5ms/step - loss: 0.0486 - accuracy: 0.9823 - val_loss: 0.5834 - val_accuracy: 0.8913\n"
          ]
        }
      ]
    },
    {
      "cell_type": "code",
      "source": [
        "score = model.evaluate(x_test, y_test, verbose = 0)\n",
        "print('Final test set accurecy', score[1])"
      ],
      "metadata": {
        "colab": {
          "base_uri": "https://localhost:8080/"
        },
        "id": "uu2svNwQeymo",
        "outputId": "8aaf180c-45a9-43ba-cc07-802a94a135fd"
      },
      "execution_count": 14,
      "outputs": [
        {
          "output_type": "stream",
          "name": "stdout",
          "text": [
            "Final test set accurecy 0.8885999917984009\n"
          ]
        }
      ]
    },
    {
      "cell_type": "code",
      "source": [
        "plt.plot(fit_hist.history['accuracy'])\n",
        "plt.plot(fit_hist.history['val_accuracy'])\n",
        "plt.show()"
      ],
      "metadata": {
        "colab": {
          "base_uri": "https://localhost:8080/",
          "height": 265
        },
        "id": "dKbrwk1jfr4H",
        "outputId": "3fcfb6ff-04cb-4db8-c789-e1d4e14c1588"
      },
      "execution_count": 15,
      "outputs": [
        {
          "output_type": "display_data",
          "data": {
            "text/plain": [
              "<Figure size 432x288 with 1 Axes>"
            ],
            "image/png": "[encoded data removed]"
          },
          "metadata": {
            "needs_background": "light"
          }
        }
      ]
    },
    {
      "cell_type": "code",
      "source": [
        "my_sample = np.random.randint(10000)\n",
        "plt.imshow(X_test[my_sample], cmap = 'gray')\n",
        "print(Y_test[my_sample])\n",
        "print(label[Y_test[my_sample]])\n",
        "pred = model.predict(x_test[my_sample].reshape(-1, 28 * 28))\n",
        "print(pred)\n",
        "print(label[np.argmax(pred)])"
      ],
      "metadata": {
        "colab": {
          "base_uri": "https://localhost:8080/",
          "height": 357
        },
        "id": "At4DfazHf3QP",
        "outputId": "18c7b22d-224c-4ec5-a199-344e476bb186"
      },
      "execution_count": 23,
      "outputs": [
        {
          "output_type": "stream",
          "name": "stdout",
          "text": [
            "2\n",
            "pullover\n",
            "[[9.1112527e-11 2.0441560e-17 1.5523300e-03 1.4237226e-18 9.7658283e-01\n",
            "  5.9764930e-14 2.1864854e-02 1.9216132e-15 6.6526253e-18 7.0053761e-18]]\n",
            "coat\n"
          ]
        },
        {
          "output_type": "display_data",
          "data": {
            "text/plain": [
              "<Figure size 432x288 with 1 Axes>"
            ],
            "image/png": "[encoded data removed]"
          },
          "metadata": {
            "needs_background": "light"
          }
        }
      ]
    },
    {
      "cell_type": "markdown",
      "source": [
        "지금까지는 일반적인 인공신경망, Dense(조밀 신경말)<br>\n",
        "앞으로 할 것은 CNN(Convolutional Neural Networks)-> 이미지에 특화된 알고리즘\n"
      ],
      "metadata": {
        "id": "-JECd_Wogpso"
      }
    },
    {
      "cell_type": "code",
      "source": [
        ""
      ],
      "metadata": {
        "id": "DIcF85Ac7HlB"
      },
      "execution_count": null,
      "outputs": []
    }
  ]
}